{
 "cells": [
  {
   "cell_type": "code",
   "execution_count": 3,
   "metadata": {},
   "outputs": [],
   "source": [
    "import matplotlib.pyplot as plt\n",
    "import matplotlib as mpl\n",
    "import numpy as np\n",
    "from dolfin import *\n",
    "from mshr import *"
   ]
  },
  {
   "cell_type": "markdown",
   "metadata": {},
   "source": [
    "Lets make a half-space with an amorphous meshing: Fenics has tools for all this, so I will steal them:\n",
    "https://fenicsproject.org/docs/dolfin/1.6.0/python/programmers-reference/cpp/mesh/MeshFunction.html\n",
    "https://fenicsproject.org/docs/dolfin/2016.2.0/python/demo/documented/subdomains/python/documentation.html?highlight=inside\n",
    "\n"
   ]
  },
  {
   "cell_type": "code",
   "execution_count": 4,
   "metadata": {
    "scrolled": false
   },
   "outputs": [
    {
     "data": {
      "text/plain": [
       "[<matplotlib.lines.Line2D at 0x7f6fa4338d60>,\n",
       " <matplotlib.lines.Line2D at 0x7f6fa434e130>]"
      ]
     },
     "execution_count": 4,
     "metadata": {},
     "output_type": "execute_result"
    },
    {
     "data": {
      "image/png": "[encoded data removed]",
      "text/plain": [
       "<Figure size 432x288 with 1 Axes>"
      ]
     },
     "metadata": {
      "needs_background": "light"
     },
     "output_type": "display_data"
    }
   ],
   "source": [
    "domain = Rectangle(dolfin.Point(0.0, 0.0),dolfin.Point(5.0,1.0))\n",
    "mesh = generate_mesh(domain, 1)\n",
    "mesh.init()\n",
    "plot(mesh)"
   ]
  },
  {
   "cell_type": "markdown",
   "metadata": {},
   "source": [
    "Get the boundary of the mesh:\n",
    "https://fenicsproject.org/docs/dolfin/1.4.0/python/demo/documented/subdomains/python/documentation.html"
   ]
  },
  {
   "cell_type": "code",
   "execution_count": 15,
   "metadata": {},
   "outputs": [],
   "source": [
    "class Ontheboundary(SubDomain):\n",
    "    def inside(self, x, on_boundary):\n",
    "        return on_boundary"
   ]
  },
  {
   "cell_type": "code",
   "execution_count": 22,
   "metadata": {},
   "outputs": [],
   "source": [
    "# a mesh function, which annotates the mesh to get the boundary component\n",
    "sub_domains_bool = MeshFunction(\"bool\", mesh, mesh.topology().dim() - 1)\n",
    "sub_domains_bool.set_all(False)\n",
    "ontheboundary = Ontheboundary()\n",
    "ontheboundary.mark(sub_domains_bool, True)"
   ]
  },
  {
   "cell_type": "code",
   "execution_count": 23,
   "metadata": {},
   "outputs": [],
   "source": [
    "# Save sub domains to file, in vtk format here\n",
    "file = File(\"subdomains.pvd\")\n",
    "file << sub_domains_bool"
   ]
  },
  {
   "cell_type": "code",
   "execution_count": null,
   "metadata": {},
   "outputs": [],
   "source": []
  }
 ],
 "metadata": {
  "kernelspec": {
   "display_name": "Python 3",
   "language": "python",
   "name": "python3"
  },
  "language_info": {
   "codemirror_mode": {
    "name": "ipython",
    "version": 3
   },
   "file_extension": ".py",
   "mimetype": "text/x-python",
   "name": "python",
   "nbconvert_exporter": "python",
   "pygments_lexer": "ipython3",
   "version": "3.8.2"
  }
 },
 "nbformat": 4,
 "nbformat_minor": 4
}
