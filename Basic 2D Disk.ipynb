{
 "cells": [
  {
   "cell_type": "code",
   "execution_count": 264,
   "metadata": {},
   "outputs": [],
   "source": [
    "import pygmsh\n",
    "import meshio\n",
    "import pygalmesh\n",
    "import hoomd\n",
    "import hoomd.md\n",
    "import numpy as np\n",
    "import copy"
   ]
  },
  {
   "cell_type": "markdown",
   "metadata": {},
   "source": [
    "# Make a basic mesh"
   ]
  },
  {
   "cell_type": "code",
   "execution_count": 342,
   "metadata": {},
   "outputs": [],
   "source": [
    "# https://github.com/nschloe/pygmsh/issues/262\n",
    "#with pygmsh.geo.Geometry() as geom:\n",
    "#    geom.add_circle([0,0],10,mesh_size=20)\n",
    "#    mesh = geom.generate_mesh()"
   ]
  },
  {
   "cell_type": "code",
   "execution_count": 343,
   "metadata": {},
   "outputs": [],
   "source": [
    "with pygmsh.occ.Geometry() as geom:\n",
    "    geom.characteristic_length_max = 100\n",
    "    geom.add_disk([0.0, 0.0], 10.0,mesh_size=100),\n",
    "\n",
    "    mesh = geom.generate_mesh()"
   ]
  },
  {
   "cell_type": "code",
   "execution_count": 309,
   "metadata": {},
   "outputs": [
    {
     "data": {
      "text/plain": [
       "<meshio mesh object>\n",
       "  Number of points: 8\n",
       "  Number of cells:\n",
       "    line: 7\n",
       "    triangle: 7\n",
       "    vertex: 1"
      ]
     },
     "execution_count": 309,
     "metadata": {},
     "output_type": "execute_result"
    }
   ],
   "source": [
    "mesh"
   ]
  },
  {
   "cell_type": "markdown",
   "metadata": {},
   "source": [
    "Get all the bonds, in an ordered, unique, list"
   ]
  },
  {
   "cell_type": "code",
   "execution_count": 310,
   "metadata": {},
   "outputs": [],
   "source": [
    "triangles=mesh.cells[1].data\n",
    "x = [[[triangle[0],triangle[1]],[triangle[0],triangle[2]],[triangle[1],triangle[2]] ]   for triangle in triangles]\n",
    "flattenedx = [val for sublist in x for val in sublist]\n",
    "orderedx = [[x[0],x[1]] if x[0]<x[1] else [x[1],x[0]] for x in flattenedx]\n",
    "bonds = []\n",
    "\n",
    "bonds = []\n",
    "for elem in orderedx:\n",
    "    if elem not in bonds:\n",
    "        bonds.append(elem)\n",
    "\n",
    "# sort the edge bonds\n",
    "edgebonds = [[x[0],x[1]] if x[0]<x[1] else [x[1],x[0]] for x in mesh.cells[0].data]\n",
    "interiorbonds=[x for x in bonds if x not in edgebonds]"
   ]
  },
  {
   "cell_type": "code",
   "execution_count": 311,
   "metadata": {},
   "outputs": [],
   "source": [
    "Outputmesh=copy.deepcopy(mesh)"
   ]
  },
  {
   "cell_type": "code",
   "execution_count": 312,
   "metadata": {},
   "outputs": [],
   "source": [
    "mesh.write(\"Disk.vtk\")"
   ]
  },
  {
   "cell_type": "markdown",
   "metadata": {},
   "source": [
    " ## Initialising the simulation "
   ]
  },
  {
   "cell_type": "code",
   "execution_count": 375,
   "metadata": {},
   "outputs": [],
   "source": [
    "hoomd.context.initialize(\"\");"
   ]
  },
  {
   "cell_type": "markdown",
   "metadata": {},
   "source": [
    "Read in the list of points and bonds"
   ]
  },
  {
   "cell_type": "code",
   "execution_count": 376,
   "metadata": {},
   "outputs": [],
   "source": [
    "Npts=len(mesh.points);\n",
    "snapshot = hoomd.data.make_snapshot(N=Npts\n",
    "                                    ,box=hoomd.data.boxdim(Lx=200, Ly=200,dimensions=2)\n",
    "                                    ,particle_types=['A']\n",
    "                                    ,bond_types=['Spring']);\n",
    "snapshot.particles.position[:] = mesh.points;\n",
    "snapshot.particles.typeid[0:N]=0"
   ]
  },
  {
   "cell_type": "code",
   "execution_count": 377,
   "metadata": {},
   "outputs": [],
   "source": [
    "Nbonds=len(bonds);\n",
    "snapshot.bonds.resize(Nbonds);\n",
    "snapshot.bonds.group[:] = bonds;"
   ]
  },
  {
   "cell_type": "code",
   "execution_count": 378,
   "metadata": {},
   "outputs": [
    {
     "name": "stdout",
     "output_type": "stream",
     "text": [
      "notice(2): Group \"all\" created containing 8 particles\n"
     ]
    }
   ],
   "source": [
    "system= hoomd.init.read_snapshot(snapshot);"
   ]
  },
  {
   "cell_type": "markdown",
   "metadata": {},
   "source": [
    "Make all the bonds hookean springs"
   ]
  },
  {
   "cell_type": "code",
   "execution_count": 379,
   "metadata": {},
   "outputs": [],
   "source": [
    "harmonic = hoomd.md.bond.harmonic();\n",
    "harmonic.bond_coeff.set('Spring', k=0.1, r0=8);"
   ]
  },
  {
   "cell_type": "markdown",
   "metadata": {},
   "source": [
    "Define the integrator. In this case, a langevin dynamics"
   ]
  },
  {
   "cell_type": "code",
   "execution_count": 380,
   "metadata": {},
   "outputs": [
    {
     "name": "stdout",
     "output_type": "stream",
     "text": [
      "notice(2): integrate.langevin/bd is determining gamma from particle diameters\n"
     ]
    }
   ],
   "source": [
    "hoomd.md.integrate.mode_standard(dt=0.1);\n",
    "all = hoomd.group.all();\n",
    "integrator = hoomd.md.integrate.langevin(group=all,kT=0,seed=0,dscale=0.1);"
   ]
  },
  {
   "cell_type": "markdown",
   "metadata": {},
   "source": [
    "Define a callback, which we want run periodically"
   ]
  },
  {
   "cell_type": "code",
   "execution_count": 381,
   "metadata": {},
   "outputs": [],
   "source": [
    "class WritePositions:\n",
    "    def __init__(self, system):\n",
    "        self.system = system;\n",
    "    def __call__(self, timestep):\n",
    "        snap = self.system.take_snapshot();\n",
    "        Outputmesh.points = snap.particles.position\n",
    "        Outputmesh.write(\"Output\"+str(timestep)+\".vtk\")\n",
    "        \n",
    "hoomd.analyze.callback(callback=WritePositions(system), period=10);"
   ]
  },
  {
   "cell_type": "markdown",
   "metadata": {},
   "source": [
    "# Run the simulation"
   ]
  },
  {
   "cell_type": "code",
   "execution_count": 382,
   "metadata": {},
   "outputs": [
    {
     "name": "stdout",
     "output_type": "stream",
     "text": [
      "** starting run **\n",
      "Time 00:00:03 | Step 10000 / 10000 | TPS 15253.8 | ETA 00:00:00\n",
      "Average TPS: 15237.2\n",
      "---------\n",
      "** run complete **\n"
     ]
    }
   ],
   "source": [
    "hoomd.run(10000);"
   ]
  },
  {
   "cell_type": "code",
   "execution_count": 361,
   "metadata": {},
   "outputs": [
    {
     "data": {
      "text/plain": [
       "array([1., 1., 1., 1., 1., 1., 1., 1.], dtype=float32)"
      ]
     },
     "execution_count": 361,
     "metadata": {},
     "output_type": "execute_result"
    }
   ],
   "source": [
    "dir(snapshot)\n",
    "dir(snapshot.particles)\n",
    "snapshot.particles.diameter"
   ]
  },
  {
   "cell_type": "code",
   "execution_count": null,
   "metadata": {},
   "outputs": [],
   "source": []
  }
 ],
 "metadata": {
  "kernelspec": {
   "display_name": "Python 3",
   "language": "python",
   "name": "python3"
  },
  "language_info": {
   "codemirror_mode": {
    "name": "ipython",
    "version": 3
   },
   "file_extension": ".py",
   "mimetype": "text/x-python",
   "name": "python",
   "nbconvert_exporter": "python",
   "pygments_lexer": "ipython3",
   "version": "3.8.3"
  }
 },
 "nbformat": 4,
 "nbformat_minor": 2
}
