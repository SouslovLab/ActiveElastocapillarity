{
 "cells": [
  {
   "cell_type": "code",
   "execution_count": 10,
   "metadata": {},
   "outputs": [],
   "source": [
    "import pygmsh\n",
    "import meshio\n",
    "import pygalmesh\n",
    "import hoomd\n",
    "import hoomd.md\n",
    "import numpy as np\n",
    "import copy\n",
    "import optimesh\n",
    "from mshr import *\n",
    "from dolfin import *\n",
    "from collections import Counter\n",
    "import matplotlib.pyplot as plt\n",
    "import os"
   ]
  },
  {
   "cell_type": "markdown",
   "metadata": {},
   "source": [
    "# Run Parameters"
   ]
  },
  {
   "cell_type": "code",
   "execution_count": null,
   "metadata": {
    "scrolled": true
   },
   "outputs": [],
   "source": [
    "lengths=[np.linalg.norm(InputMesh.points[bond[0]]- InputMesh.points[bond[1]]) for bond in bonds]"
   ]
  },
  {
   "cell_type": "code",
   "execution_count": null,
   "metadata": {},
   "outputs": [],
   "source": [
    "plt.hist(lengths)"
   ]
  },
  {
   "cell_type": "markdown",
   "metadata": {},
   "source": [
    "# Make a basic mesh"
   ]
  },
  {
   "cell_type": "markdown",
   "metadata": {},
   "source": [
    "## Dolfin"
   ]
  },
  {
   "cell_type": "code",
   "execution_count": 4,
   "metadata": {},
   "outputs": [],
   "source": [
    "def MakeDolfinMesh(a):\n",
    "    # make the mesh. Lets have a unit circle. It seems, from trial and error, that\n",
    "    # res = 1.5*Radius/mesh_size,\n",
    "    domain = Ellipse(Point(0, 0, 0),1.0,1.0, 40)\n",
    "    mesh = generate_mesh(domain, 1.5/a)\n",
    "    mesh.init()\n",
    "    \n",
    "    # need to add a 3rd dimension 0 coordinate here\n",
    "    points = np.insert(mesh.coordinates(),2,0,axis=1)\n",
    "    cells = cells = [(\"triangle\",mesh.cells() )]\n",
    "    InputMesh = meshio.Mesh(points,cells)\n",
    "    #copy for modifying at output\n",
    "    OutputMesh=copy.deepcopy(InputMesh)\n",
    "    \n",
    "    # make list of:\n",
    "    #interior bonds : interiorbonds\n",
    "    # edge bonds :edgepoints\n",
    "    # bonds : interiorbonds+edgebonds\n",
    "    # angle triples: angletriples\n",
    "    mesh.cells()\n",
    "    triangles=mesh.cells()\n",
    "    x = [[[triangle[0],triangle[1]],[triangle[0],triangle[2]],[triangle[1],triangle[2]] ]   for triangle in triangles]\n",
    "    flattenedx = [val for sublist in x for val in sublist]\n",
    "    bonds = [[x[0],x[1]] if x[0]<x[1] else [x[1],x[0]] for x in flattenedx]\n",
    "\n",
    "    # get a list of the bonds on the edge, and in the interior\n",
    "    edgebonds=[]\n",
    "    interiorbonds=[]\n",
    "    for elem in bonds:\n",
    "        if 1==bonds.count(elem):\n",
    "            edgebonds.append(elem)\n",
    "        elif 2==bonds.count(elem) and elem not in interiorbonds:\n",
    "            interiorbonds.append(elem)\n",
    "\n",
    "    bonds=interiorbonds+edgebonds\n",
    "\n",
    "    # for the edge bonds, get the angle triples\n",
    "    EdgeVertices = list(set([val for sublist in edgebonds for val in sublist]))\n",
    "    angletriples=[]\n",
    "\n",
    "    for vertex in EdgeVertices:\n",
    "        Neighbors=[x for x in edgebonds if vertex in x]\n",
    "        NeighborVertices = [val for sublist in Neighbors for val in sublist if val!=vertex]\n",
    "        angletriples.append([NeighborVertices[0],vertex,NeighborVertices[1]])\n",
    "        \n",
    "    return InputMesh, OutputMesh, interiorbonds,edgebonds,angletriples\n"
   ]
  },
  {
   "cell_type": "markdown",
   "metadata": {},
   "source": [
    "## pygmesh"
   ]
  },
  {
   "cell_type": "code",
   "execution_count": null,
   "metadata": {},
   "outputs": [],
   "source": [
    "def MakePygMesh():\n",
    "    \n",
    "    with pygmsh.occ.Geometry() as geom:\n",
    "        geom.characteristic_length_max = 1\n",
    "        geom.add_disk([0.0, 0.0], radius0=10.0,radius1=9.0,mesh_size=0.5),\n",
    "        InputMesh = geom.generate_mesh()\n",
    "    \n",
    "    OutputMesh=copy.deepcopy(InputMesh)\n",
    "    \n",
    "    # make list of:\n",
    "    #interior bonds : interiorbonds\n",
    "    #edge bonds :edgepoints\n",
    "    # angle triples: angletriples\n",
    "\n",
    "    triangles=InputMesh.cells[1].data\n",
    "    x = [[[triangle[0],triangle[1]],[triangle[0],triangle[2]],[triangle[1],triangle[2]] ]   for triangle in triangles]\n",
    "    flattenedx = [val for sublist in x for val in sublist]\n",
    "    orderedx = [[x[0],x[1]] if x[0]<x[1] else [x[1],x[0]] for x in flattenedx]\n",
    "    bonds = []\n",
    "\n",
    "    bonds = []\n",
    "    for elem in orderedx:\n",
    "        if elem not in bonds:\n",
    "            bonds.append(elem)\n",
    "\n",
    "    # sort the edge bonds\n",
    "    edgebonds = [[x[0],x[1]] if x[0]<x[1] else [x[1],x[0]] for x in InputMesh.cells[0].data]\n",
    "    interiorbonds=[x for x in bonds if x not in edgebonds]\n",
    "    bonds=interiorbonds+edgebonds\n",
    "\n",
    "    # Angle triples\n",
    "    NEdgeBonds= len(edgebonds)\n",
    "    angletriples=[[(i-1)%NEdgeBonds,i,(i+1)%NEdgeBonds] for i in range(0,NEdgeBonds) ]\n",
    "    \n",
    "    return InputMesh, OutputMesh, interiorbonds,edgebonds,angletriples\n",
    "    "
   ]
  },
  {
   "cell_type": "markdown",
   "metadata": {},
   "source": [
    " # Initialising the HOOMD simulation "
   ]
  },
  {
   "cell_type": "markdown",
   "metadata": {},
   "source": [
    "User settings: What are the continuum parameters we want? where shall we store the run data?"
   ]
  },
  {
   "cell_type": "code",
   "execution_count": 24,
   "metadata": {},
   "outputs": [],
   "source": [
    "# Target mesh size:\n",
    "target_a = 0.05\n",
    "# continuum bending modulus:\n",
    "kc=1\n",
    "# continuum shear modulus:\n",
    "mu=1\n",
    "# root folder for data\n",
    "DataFolder='/home/jackbinysh/Code/ActiveElastocapillarity/Data/'\n",
    "# Folder for the run data\n",
    "RunFolder=\"Test/\"\n",
    "# Name of the run\n",
    "RunName=\"\""
   ]
  },
  {
   "cell_type": "code",
   "execution_count": 25,
   "metadata": {},
   "outputs": [
    {
     "name": "stdout",
     "output_type": "stream",
     "text": [
      "Successfully created the directory /home/jackbinysh/Code/ActiveElastocapillarity/Data/Test/ \n"
     ]
    }
   ],
   "source": [
    "path = DataFolder+RunFolder\n",
    "try:\n",
    "    os.mkdir(path)\n",
    "except OSError:\n",
    "    print (\"Creation of the directory %s failed\" % path)\n",
    "else:\n",
    "    print (\"Successfully created the directory %s \" % path)"
   ]
  },
  {
   "cell_type": "markdown",
   "metadata": {},
   "source": [
    "Make the mesh"
   ]
  },
  {
   "cell_type": "code",
   "execution_count": 28,
   "metadata": {},
   "outputs": [],
   "source": [
    "InputMesh, OutputMesh, interiorbonds,edgebonds,angletriples = MakeDolfinMesh(target_a)bb\n",
    "InputMesh.write(DataFolder+RunFolder+RunName+\"InputMesh.vtk\")\n",
    "#InputMesh, OutputMesh, interiorbonds,edgebonds,angletriples = MakePygMesh()"
   ]
  },
  {
   "cell_type": "markdown",
   "metadata": {},
   "source": [
    " ## HOOMD stuff"
   ]
  },
  {
   "cell_type": "code",
   "execution_count": null,
   "metadata": {},
   "outputs": [],
   "source": [
    "hoomd.context.initialize(\"\");"
   ]
  },
  {
   "cell_type": "markdown",
   "metadata": {},
   "source": [
    "Define the snapshot. We will have a unique bond id for every bond in the system, as they will all have different rest lengths. We also want to make a distinction between surface and bulk bonds."
   ]
  },
  {
   "cell_type": "code",
   "execution_count": null,
   "metadata": {},
   "outputs": [],
   "source": [
    "# number of points and bonds\n",
    "Npts=len(InputMesh.points);\n",
    "bonds = interiorbonds+edgebonds\n",
    "NBonds = len(bonds);\n",
    "#indices\n",
    "bondindices = list(range(0,NBonds))\n",
    "#surface bond or not\n",
    "bondclassification = [0]*len(interiorbonds)+[1]*len(edgebonds)"
   ]
  },
  {
   "cell_type": "code",
   "execution_count": null,
   "metadata": {},
   "outputs": [],
   "source": [
    "snapshot = hoomd.data.make_snapshot(N=Npts\n",
    "                                    ,box=hoomd.data.boxdim(Lx=200, Ly=200,dimensions=2)\n",
    "                                    ,particle_types=['A']\n",
    "                                    ,bond_types=[str(i) for i in  bondindices]\n",
    "                                    ,angle_types=['0']\n",
    "                                   );"
   ]
  },
  {
   "cell_type": "markdown",
   "metadata": {},
   "source": [
    "Read in the points, bonds and angles"
   ]
  },
  {
   "cell_type": "code",
   "execution_count": null,
   "metadata": {},
   "outputs": [],
   "source": [
    "# points\n",
    "snapshot.particles.position[:] = InputMesh.points;\n",
    "snapshot.particles.typeid[0:Npts]=0\n",
    "# bonds\n",
    "snapshot.bonds.resize(NBonds)\n",
    "snapshot.bonds.group[:] = bonds\n",
    "snapshot.bonds.typeid[:] = bondindices\n",
    "#angle triples\n",
    "snapshot.angles.resize(len(angletriples))\n",
    "snapshot.angles.group[:] = angletriples\n",
    "snapshot.angles.typeid[:len(angletriples)] =0"
   ]
  },
  {
   "cell_type": "code",
   "execution_count": null,
   "metadata": {},
   "outputs": [],
   "source": [
    "system=hoomd.init.read_snapshot(snapshot);"
   ]
  },
  {
   "cell_type": "markdown",
   "metadata": {},
   "source": [
    "Right, lets define the bond type and parameters for each bond. In 2D, we know that the elastic modulii are proportional to the microscopic spring constant. We also know that the continuum and microscopic momdulii are related by a lattice space: $\\mu = O(1) k$, $k_c = k_d a$"
   ]
  },
  {
   "cell_type": "code",
   "execution_count": null,
   "metadata": {},
   "outputs": [],
   "source": [
    "kd=kc/target_a\n",
    "k = mu"
   ]
  },
  {
   "cell_type": "code",
   "execution_count": null,
   "metadata": {},
   "outputs": [],
   "source": [
    "harmonic = hoomd.md.bond.harmonic();\n",
    "\n",
    "for i in snapshot.bonds.typeid:\n",
    "    p1,p2 = snapshot.bonds.group[i]\n",
    "    \n",
    "    if(0==bondclassification[i]):  \n",
    "        restlength=np.linalg.norm(InputMesh.points[p2] - InputMesh.points[p1])\n",
    "        harmonic.bond_coeff.set(str(i), k=k, r0=restlength);\n",
    "\n",
    "    if(1==bondclassification[i]): \n",
    "        restlength=np.linalg.norm(InputMesh.points[p2] - InputMesh.points[p1])\n",
    "        harmonic.bond_coeff.set(str(i), k=1, r0=40*restlength);\n",
    "\n",
    "angle = hoomd.md.angle.harmonic();\n",
    "angle.angle_coeff.set('0', k=kd, t0=np.pi-0*((2*np.pi)/len(edgebonds)) );"
   ]
  },
  {
   "cell_type": "markdown",
   "metadata": {},
   "source": [
    "Define the integrator. In this case, a langevin dynamics"
   ]
  },
  {
   "cell_type": "code",
   "execution_count": null,
   "metadata": {},
   "outputs": [],
   "source": [
    "hoomd.md.integrate.mode_standard(dt=0.001);\n",
    "all = hoomd.group.all();\n",
    "integrator = hoomd.md.integrate.langevin(group=all,kT=0,seed=0,dscale=2);"
   ]
  },
  {
   "cell_type": "markdown",
   "metadata": {},
   "source": [
    "Define a callback, which we want run periodically"
   ]
  },
  {
   "cell_type": "code",
   "execution_count": null,
   "metadata": {},
   "outputs": [],
   "source": [
    "class WritePositions:\n",
    "    def __init__(self, system):\n",
    "        self.system = system;\n",
    "    def __call__(self, timestep):\n",
    "        snap = self.system.take_snapshot();\n",
    "        OutputMesh.points = snap.particles.position\n",
    "        OutputMesh.write(\"Data/\"+RunString+str(timestep)+\".vtk\")\n",
    "        \n",
    "hoomd.analyze.callback(callback=WritePositions(system), period=5000);"
   ]
  },
  {
   "cell_type": "markdown",
   "metadata": {},
   "source": [
    "# Run the simulation"
   ]
  },
  {
   "cell_type": "code",
   "execution_count": null,
   "metadata": {},
   "outputs": [],
   "source": [
    "hoomd.run(1000000);"
   ]
  },
  {
   "cell_type": "code",
   "execution_count": null,
   "metadata": {},
   "outputs": [],
   "source": []
  }
 ],
 "metadata": {
  "kernelspec": {
   "display_name": "Python 3",
   "language": "python",
   "name": "python3"
  },
  "language_info": {
   "codemirror_mode": {
    "name": "ipython",
    "version": 3
   },
   "file_extension": ".py",
   "mimetype": "text/x-python",
   "name": "python",
   "nbconvert_exporter": "python",
   "pygments_lexer": "ipython3",
   "version": "3.8.3"
  }
 },
 "nbformat": 4,
 "nbformat_minor": 2
}
