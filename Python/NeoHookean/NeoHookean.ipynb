{
 "cells": [
  {
   "cell_type": "code",
   "execution_count": 26,
   "metadata": {},
   "outputs": [],
   "source": [
    "import pygmsh\n",
    "import meshio\n",
    "import pygalmesh\n",
    "import hoomd\n",
    "import hoomd.md\n",
    "import numpy as np\n",
    "import copy\n",
    "import optimesh\n",
    "from mshr import *\n",
    "from dolfin import *\n",
    "from collections import Counter\n",
    "import matplotlib.pyplot as plt\n",
    "import os\n",
    "import json"
   ]
  },
  {
   "cell_type": "markdown",
   "metadata": {},
   "source": [
    "# Helper Functions"
   ]
  },
  {
   "cell_type": "markdown",
   "metadata": {},
   "source": [
    "## Dolfin"
   ]
  },
  {
   "cell_type": "code",
   "execution_count": 27,
   "metadata": {},
   "outputs": [],
   "source": [
    "def MakeDolfinMesh(a, edgepoints):\n",
    "    # make the mesh. Lets have a unit circle. It seems, from trial and error, that\n",
    "    # res = 1.5*Radius/mesh_size,\n",
    "    domain = Ellipse(Point(0, 0, 0),1.0,1.0, edgepoints)\n",
    "    mesh = generate_mesh(domain, 1.5/a)\n",
    "    \n",
    "    mesh.init()\n",
    "    \n",
    "    # need to add a 3rd dimension 0 coordinate here\n",
    "    points = np.insert(mesh.coordinates(),2,0,axis=1)\n",
    "    cells = cells = [(\"triangle\",mesh.cells() )]\n",
    "    InputMesh = meshio.Mesh(points,cells)\n",
    "    #copy for modifying at output\n",
    "    OutputMesh=copy.deepcopy(InputMesh)\n",
    "    \n",
    "    # make list of:\n",
    "    #interior bonds : interiorbonds\n",
    "    # edge bonds :edgepoints\n",
    "    # bonds : interiorbonds+edgebonds\n",
    "    # angle triples: angletriples\n",
    "    mesh.cells()\n",
    "    triangles=mesh.cells()\n",
    "    x = [[[triangle[0],triangle[1]],[triangle[0],triangle[2]],[triangle[1],triangle[2]] ]   for triangle in triangles]\n",
    "    flattenedx = [val for sublist in x for val in sublist]\n",
    "    bonds = [[x[0],x[1]] if x[0]<x[1] else [x[1],x[0]] for x in flattenedx]\n",
    "\n",
    "    # get a list of the bonds on the edge, and in the interior\n",
    "    edgebonds=[]\n",
    "    interiorbonds=[]\n",
    "    for elem in bonds:\n",
    "        if 1==bonds.count(elem):\n",
    "            edgebonds.append(elem)\n",
    "        elif 2==bonds.count(elem) and elem not in interiorbonds:\n",
    "            interiorbonds.append(elem)\n",
    "\n",
    "    bonds=interiorbonds+edgebonds\n",
    "\n",
    "    # for the edge bonds, get the angle triples\n",
    "    EdgeVertices = list(set([val for sublist in edgebonds for val in sublist]))\n",
    "    angletriples=[]\n",
    "\n",
    "    for vertex in EdgeVertices:\n",
    "        Neighbors=[x for x in edgebonds if vertex in x]\n",
    "        NeighborVertices = [val for sublist in Neighbors for val in sublist if val!=vertex]\n",
    "        angletriples.append([NeighborVertices[0],vertex,NeighborVertices[1]])\n",
    "        \n",
    "    return InputMesh, OutputMesh, interiorbonds,edgebonds,angletriples\n"
   ]
  },
  {
   "cell_type": "markdown",
   "metadata": {},
   "source": [
    "## pygmesh"
   ]
  },
  {
   "cell_type": "code",
   "execution_count": 28,
   "metadata": {},
   "outputs": [],
   "source": [
    "def MakePygMesh():\n",
    "    \n",
    "    with pygmsh.occ.Geometry() as geom:\n",
    "        geom.characteristic_length_max = 1\n",
    "        geom.add_disk([0.0, 0.0], radius0=10.0,radius1=9.0,mesh_size=0.5),\n",
    "        InputMesh = geom.generate_mesh()\n",
    "    \n",
    "    OutputMesh=copy.deepcopy(InputMesh)\n",
    "    \n",
    "    # make list of:\n",
    "    #interior bonds : interiorbonds\n",
    "    #edge bonds :edgepoints\n",
    "    # angle triples: angletriples\n",
    "\n",
    "    triangles=InputMesh.cells[1].data\n",
    "    x = [[[triangle[0],triangle[1]],[triangle[0],triangle[2]],[triangle[1],triangle[2]] ]   for triangle in triangles]\n",
    "    flattenedx = [val for sublist in x for val in sublist]\n",
    "    orderedx = [[x[0],x[1]] if x[0]<x[1] else [x[1],x[0]] for x in flattenedx]\n",
    "    bonds = []\n",
    "\n",
    "    bonds = []\n",
    "    for elem in orderedx:\n",
    "        if elem not in bonds:\n",
    "            bonds.append(elem)\n",
    "\n",
    "    # sort the edge bonds\n",
    "    edgebonds = [[x[0],x[1]] if x[0]<x[1] else [x[1],x[0]] for x in InputMesh.cells[0].data]\n",
    "    interiorbonds=[x for x in bonds if x not in edgebonds]\n",
    "    bonds=interiorbonds+edgebonds\n",
    "\n",
    "    # Angle triples\n",
    "    NEdgeBonds= len(edgebonds)\n",
    "    angletriples=[[(i-1)%NEdgeBonds,i,(i+1)%NEdgeBonds] for i in range(0,NEdgeBonds) ]\n",
    "    \n",
    "    return InputMesh, OutputMesh, interiorbonds,edgebonds,angletriples\n",
    "    "
   ]
  },
  {
   "cell_type": "code",
   "execution_count": 29,
   "metadata": {},
   "outputs": [],
   "source": [
    "def MakeBondHist(Coordinates,bondlist):\n",
    "    lengths=[np.linalg.norm(Coordinates[bond[1]] -Coordinates[bond[0]]) for bond in bondlist]\n",
    "    plt.hist(lengths)\n",
    "    return lengths"
   ]
  },
  {
   "cell_type": "markdown",
   "metadata": {},
   "source": [
    "# Initialisation"
   ]
  },
  {
   "cell_type": "markdown",
   "metadata": {},
   "source": [
    "## Run setup"
   ]
  },
  {
   "cell_type": "markdown",
   "metadata": {},
   "source": [
    "User settings: What are the continuum parameters we want? "
   ]
  },
  {
   "cell_type": "code",
   "execution_count": 30,
   "metadata": {},
   "outputs": [],
   "source": [
    "# Target mesh size:\n",
    "target_a = 0.1\n",
    "# continuum bending modulus:\n",
    "kc=1\n",
    "# continuum shear modulus:\n",
    "mu=1\n",
    "# particle mass\n",
    "m = 1\n",
    "# damping coefficient\n",
    "alpha=2\n",
    "g0=6\n",
    "# dt\n",
    "mydt = 0.003\n",
    "#logging interval\n",
    "LogInterval=10000\n",
    "# Total run steps\n",
    "RunSteps=10000000"
   ]
  },
  {
   "cell_type": "markdown",
   "metadata": {},
   "source": [
    "Right, lets define the bond type and parameters for each bond. In 2D, we know that the elastic modulii are proportional to the microscopic spring constant. We also know that the continuum and microscopic momdulii are related by a lattice space: $\\mu = O(1) k$, $k_c = k_d a$. Since I dont know any better, for know I will just set k to mu."
   ]
  },
  {
   "cell_type": "code",
   "execution_count": 31,
   "metadata": {},
   "outputs": [],
   "source": [
    "kd=kc/target_a\n",
    "k = mu\n",
    "#theta0 = np.pi-((2*np.pi)/len(edgebonds))\n",
    "theta0=np.pi"
   ]
  },
  {
   "cell_type": "markdown",
   "metadata": {},
   "source": [
    "Set up the experiment"
   ]
  },
  {
   "cell_type": "code",
   "execution_count": 32,
   "metadata": {},
   "outputs": [
    {
     "name": "stdout",
     "output_type": "stream",
     "text": [
      "Successfully created the directory /home/jackbinysh/Code/ActiveElastocapillarity/Python/NeoHookean/Data/g06/ \n"
     ]
    }
   ],
   "source": [
    "# root folder for data\n",
    "DataFolder=os.getcwd()+'/Data/'\n",
    "# Folder for the run data\n",
    "RunFolder=\"g0\"+str(g0)+\"/\"\n",
    "# Name of the run\n",
    "RunName=\"Disk\"\n",
    "\n",
    "path = DataFolder+RunFolder\n",
    "# make the folder \n",
    "try:\n",
    "    os.mkdir(path)\n",
    "except OSError:\n",
    "    print (\"Creation of the directory %s failed\" % path)\n",
    "else:\n",
    "    print (\"Successfully created the directory %s \" % path)\n",
    "    \n",
    "# try and clear out the folder if there was a previous run in it\n",
    "for filename in os.listdir(path):\n",
    "    file_path = os.path.join(path, filename)\n",
    "    try:\n",
    "        if os.path.isfile(file_path) or os.path.islink(file_path):\n",
    "            os.unlink(file_path)\n",
    "        elif os.path.isdir(file_path):\n",
    "            shutil.rmtree(file_path)\n",
    "    except Exception as e:\n",
    "        print('Failed to delete %s. Reason: %s' % (file_path, e))\n",
    "        \n",
    "        \n",
    "\n",
    "#Dump all the parameters to a file in the run folder        \n",
    "f=open(DataFolder+RunFolder+\"Parameters.log\",\"w+\")\n",
    "datadict= { \n",
    "        \"a\":target_a,\n",
    "        \"kc\":kc, \n",
    "        \"mu\":mu,\n",
    "        \"m\":m,\n",
    "        \"alpha\":alpha,\n",
    "        \"go\":g0,\n",
    "        \"mydt\":mydt,\n",
    "}\n",
    "json.dump(datadict,f)\n",
    "f.close()\n",
    "\n",
    "# and for good measure, dump this file into the data file too"
   ]
  },
  {
   "cell_type": "code",
   "execution_count": null,
   "metadata": {},
   "outputs": [],
   "source": []
  },
  {
   "cell_type": "markdown",
   "metadata": {},
   "source": [
    "Make the mesh, write it out to the folder"
   ]
  },
  {
   "cell_type": "code",
   "execution_count": 35,
   "metadata": {
    "scrolled": true
   },
   "outputs": [],
   "source": [
    "InputMesh, OutputMesh, interiorbonds,edgebonds,angletriples = MakeDolfinMesh(target_a,40)\n",
    "InputMesh.write(DataFolder+RunFolder+RunName+\"InputMesh.vtk\")\n",
    "#InputMesh, OutputMesh, interiorbonds,edgebonds,angletriples = MakePygMesh()"
   ]
  },
  {
   "cell_type": "markdown",
   "metadata": {},
   "source": [
    "Check out the Mesh. One of the lessons learnt is that you shouldnt have much of a spread in the intial edge lengths"
   ]
  },
  {
   "cell_type": "code",
   "execution_count": 36,
   "metadata": {},
   "outputs": [
    {
     "data": {
      "text/plain": [
       "0.07845909572784494"
      ]
     },
     "execution_count": 36,
     "metadata": {},
     "output_type": "execute_result"
    },
    {
     "data": {
      "image/png": "[encoded data removed]",
      "text/plain": [
       "<Figure size 432x288 with 1 Axes>"
      ]
     },
     "metadata": {
      "needs_background": "light"
     },
     "output_type": "display_data"
    }
   ],
   "source": [
    "edgelengths= MakeBondHist(InputMesh.points,edgebonds)\n",
    "np.mean(edgelengths)"
   ]
  },
  {
   "cell_type": "markdown",
   "metadata": {},
   "source": [
    " ## Running the HOOMD sim"
   ]
  },
  {
   "cell_type": "code",
   "execution_count": 37,
   "metadata": {},
   "outputs": [],
   "source": [
    "hoomd.context.initialize(\"\");"
   ]
  },
  {
   "cell_type": "markdown",
   "metadata": {},
   "source": [
    "Define the snapshot. We will have a unique bond id for every bond in the system, as they will all have different rest lengths. We also want to make a distinction between surface and bulk bonds."
   ]
  },
  {
   "cell_type": "code",
   "execution_count": 38,
   "metadata": {},
   "outputs": [],
   "source": [
    "# number of points and bonds\n",
    "Npts=len(InputMesh.points);\n",
    "bonds = interiorbonds+edgebonds\n",
    "NBonds = len(bonds);\n",
    "#indices\n",
    "bondindices = list(range(0,NBonds))\n",
    "#surface bond or not\n",
    "bondclassification = [0]*len(interiorbonds)+[1]*len(edgebonds)"
   ]
  },
  {
   "cell_type": "code",
   "execution_count": 39,
   "metadata": {},
   "outputs": [],
   "source": [
    "snapshot = hoomd.data.make_snapshot(N=Npts\n",
    "                                    ,box=hoomd.data.boxdim(Lx=200, Ly=200,dimensions=2)\n",
    "                                    ,particle_types=['A']\n",
    "                                    ,bond_types=[str(i) for i in  bondindices]\n",
    "                                    ,angle_types=['0']   \n",
    "                                   );"
   ]
  },
  {
   "cell_type": "markdown",
   "metadata": {},
   "source": [
    "Read in the points, bonds and angles"
   ]
  },
  {
   "cell_type": "code",
   "execution_count": 40,
   "metadata": {},
   "outputs": [],
   "source": [
    "# points\n",
    "snapshot.particles.position[:] = InputMesh.points;\n",
    "snapshot.particles.typeid[0:Npts]=0\n",
    "# mass\n",
    "snapshot.particles.mass[:]=m\n",
    "# bonds\n",
    "snapshot.bonds.resize(NBonds)\n",
    "snapshot.bonds.group[:] = bonds\n",
    "snapshot.bonds.typeid[:] = bondindices\n",
    "#angle triples\n",
    "snapshot.angles.resize(len(angletriples))\n",
    "snapshot.angles.group[:] = angletriples\n",
    "snapshot.angles.typeid[:len(angletriples)] =0"
   ]
  },
  {
   "cell_type": "markdown",
   "metadata": {},
   "source": [
    "make the initialisation"
   ]
  },
  {
   "cell_type": "code",
   "execution_count": 41,
   "metadata": {},
   "outputs": [
    {
     "name": "stdout",
     "output_type": "stream",
     "text": [
      "notice(2): Group \"all\" created containing 496 particles\n"
     ]
    }
   ],
   "source": [
    "system=hoomd.init.read_snapshot(snapshot);"
   ]
  },
  {
   "cell_type": "markdown",
   "metadata": {},
   "source": [
    "## Bond definitions"
   ]
  },
  {
   "cell_type": "code",
   "execution_count": 42,
   "metadata": {},
   "outputs": [],
   "source": [
    "def NeoHookean(r,rmin,rmax,khook,r0):\n",
    "    kneo = (r0**2)*khook/3\n",
    "    lam=r/r0\n",
    "    V=(kneo/2)*((2/lam) + lam**2)\n",
    "    F = -(kneo/r0)*(  lam - (1/lam**2)  )\n",
    "    return (V,F)"
   ]
  },
  {
   "cell_type": "code",
   "execution_count": 43,
   "metadata": {},
   "outputs": [],
   "source": [
    "def myharmonic(r, rmin, rmax, kappa, r0):\n",
    "   V = 0.5 * kappa * (r-r0)**2;\n",
    "   F = -kappa*(r-r0);\n",
    "   return (V, F)"
   ]
  },
  {
   "cell_type": "code",
   "execution_count": 44,
   "metadata": {},
   "outputs": [],
   "source": [
    "kappa=1\n",
    "r0=1\n",
    "rmin=1\n",
    "rmax=1\n",
    "\n",
    "xlist = np.linspace(0.5,2, num=20)\n",
    "dataNeo = [NeoHookean(x,rmin,rmax,kappa,r0)[1] for x in xlist]\n",
    "dataHook = [myharmonic(x,rmin,rmax,kappa,r0)[1] for x in xlist]"
   ]
  },
  {
   "cell_type": "code",
   "execution_count": 45,
   "metadata": {},
   "outputs": [
    {
     "data": {
      "text/plain": [
       "[<matplotlib.lines.Line2D at 0x7fc21ce25e20>]"
      ]
     },
     "execution_count": 45,
     "metadata": {},
     "output_type": "execute_result"
    },
    {
     "data": {
      "image/png": "[encoded data removed]",
      "text/plain": [
       "<Figure size 432x288 with 1 Axes>"
      ]
     },
     "metadata": {
      "needs_background": "light"
     },
     "output_type": "display_data"
    }
   ],
   "source": [
    "fig, ax = plt.subplots()\n",
    "ax.plot(xlist, dataNeo)\n",
    "ax.plot(xlist, dataHook)"
   ]
  },
  {
   "cell_type": "code",
   "execution_count": 46,
   "metadata": {
    "scrolled": false
   },
   "outputs": [],
   "source": [
    "NeoHookeanbond = hoomd.md.bond.table(width=300)\n",
    "\n",
    "for i in snapshot.bonds.typeid:\n",
    "    p1,p2 = snapshot.bonds.group[i]\n",
    "    \n",
    "    if(0==bondclassification[i]):\n",
    " \n",
    "        InitLength=np.linalg.norm(InputMesh.points[p2] - InputMesh.points[p1])\n",
    "        NeoHookeanbond.bond_coeff.set(str(i), func=NeoHookean, rmin=0.5*InitLength,rmax=15*InitLength, coeff=dict(khook=k,r0=InitLength));\n",
    "\n",
    "    if(1==bondclassification[i]):\n",
    "\n",
    "        restlength=np.linalg.norm(InputMesh.points[p2] - InputMesh.points[p1])\n",
    "        NeoHookeanbond.bond_coeff.set(str(i), func=NeoHookean, rmin=0.5*InitLength,rmax=15*InitLength, coeff=dict(khook=k,r0=g0*InitLength));\n",
    "\n",
    "\n",
    "angle = hoomd.md.angle.harmonic();\n",
    "angle.angle_coeff.set('0', k=kd, t0=theta0 );"
   ]
  },
  {
   "cell_type": "markdown",
   "metadata": {},
   "source": [
    "Define the integrator. In this case, a langevin dynamics. For the damping, particle diameters are set to 1 by default. The $\\lambda$ parameter below is such that $\\gamma = \\lambda d$, so I just have $\\gamma=\\lambda$. The overdamped assumption is that $m/\\gamma  << dt$"
   ]
  },
  {
   "cell_type": "code",
   "execution_count": 47,
   "metadata": {},
   "outputs": [
    {
     "name": "stdout",
     "output_type": "stream",
     "text": [
      "notice(2): integrate.langevin/bd is determining gamma from particle diameters\n"
     ]
    }
   ],
   "source": [
    "integrator_mode=hoomd.md.integrate.mode_standard(dt=mydt);\n",
    "all = hoomd.group.all();\n",
    "integrator = hoomd.md.integrate.langevin(group=all,kT=0,seed=0,dscale=alpha);"
   ]
  },
  {
   "cell_type": "markdown",
   "metadata": {},
   "source": [
    "Define a callback, which we want run periodically"
   ]
  },
  {
   "cell_type": "code",
   "execution_count": 48,
   "metadata": {},
   "outputs": [],
   "source": [
    "class WritePositions:\n",
    "    def __init__(self, system):\n",
    "        self.system = system;\n",
    "    def __call__(self, timestep):\n",
    "        snap = self.system.take_snapshot();\n",
    "        OutputMesh.points = snap.particles.position\n",
    "        OutputMesh.write(DataFolder+RunFolder+RunName+str(timestep)+\".vtk\")\n",
    "        \n",
    "hoomd.analyze.callback(callback=WritePositions(system), period=LogInterval);"
   ]
  },
  {
   "cell_type": "code",
   "execution_count": 49,
   "metadata": {},
   "outputs": [],
   "source": [
    "snap=system.take_snapshot(all=True)"
   ]
  },
  {
   "cell_type": "markdown",
   "metadata": {},
   "source": [
    "# Run the simulation"
   ]
  },
  {
   "cell_type": "code",
   "execution_count": 50,
   "metadata": {},
   "outputs": [
    {
     "name": "stdout",
     "output_type": "stream",
     "text": [
      "** starting run **\n",
      "Time 00:00:13 | Step 54730 / 10000000 | TPS 5472.96 | ETA 00:30:17\n",
      "Time 00:00:23 | Step 111107 / 10000000 | TPS 5637.68 | ETA 00:29:14\n",
      "Time 00:00:33 | Step 167889 / 10000000 | TPS 5678.16 | ETA 00:28:51\n",
      "Time 00:00:43 | Step 226685 / 10000000 | TPS 5879.53 | ETA 00:27:42\n",
      "Time 00:00:53 | Step 284957 / 10000000 | TPS 5827.16 | ETA 00:27:47\n",
      "Time 00:01:03 | Step 343237 / 10000000 | TPS 5827.92 | ETA 00:27:36\n",
      "Time 00:01:13 | Step 398758 / 10000000 | TPS 5552.03 | ETA 00:28:49\n",
      "Time 00:01:23 | Step 457383 / 10000000 | TPS 5862.48 | ETA 00:27:07\n",
      "Time 00:01:33 | Step 515814 / 10000000 | TPS 5843.01 | ETA 00:27:03\n",
      "Time 00:01:43 | Step 572525 / 10000000 | TPS 5671.05 | ETA 00:27:42\n",
      "Time 00:01:53 | Step 621753 / 10000000 | TPS 4922.75 | ETA 00:31:45\n",
      "Time 00:02:03 | Step 666958 / 10000000 | TPS 4520.47 | ETA 00:34:24\n",
      "Time 00:02:13 | Step 721428 / 10000000 | TPS 5446.98 | ETA 00:28:23\n",
      "Time 00:02:23 | Step 779033 / 10000000 | TPS 5760.44 | ETA 00:26:40\n",
      "Time 00:02:33 | Step 835266 / 10000000 | TPS 5623.23 | ETA 00:27:09\n",
      "Time 00:02:43 | Step 881274 / 10000000 | TPS 4600.71 | ETA 00:33:02\n",
      "Time 00:02:53 | Step 927029 / 10000000 | TPS 4575.43 | ETA 00:33:02\n",
      "Time 00:03:03 | Step 982993 / 10000000 | TPS 5596.28 | ETA 00:26:51\n",
      "Time 00:03:13 | Step 1038927 / 10000000 | TPS 5593.39 | ETA 00:26:42\n",
      "Time 00:03:23 | Step 1094751 / 10000000 | TPS 5582.34 | ETA 00:26:35\n",
      "Time 00:03:33 | Step 1149840 / 10000000 | TPS 5508.78 | ETA 00:26:46\n",
      "Time 00:03:43 | Step 1203651 / 10000000 | TPS 5381.02 | ETA 00:27:14\n",
      "Time 00:03:53 | Step 1258796 / 10000000 | TPS 5514.42 | ETA 00:26:25\n",
      "Time 00:04:03 | Step 1307815 / 10000000 | TPS 4901.89 | ETA 00:29:33\n",
      "Time 00:04:13 | Step 1356903 / 10000000 | TPS 4908.74 | ETA 00:29:20\n",
      "Time 00:04:23 | Step 1402586 / 10000000 | TPS 4568.28 | ETA 00:31:21\n",
      "Time 00:04:33 | Step 1452652 / 10000000 | TPS 5006.55 | ETA 00:28:27\n",
      "Time 00:04:43 | Step 1511633 / 10000000 | TPS 5898.02 | ETA 00:23:59\n",
      "Time 00:04:53 | Step 1571064 / 10000000 | TPS 5943.07 | ETA 00:23:38\n",
      "Time 00:05:03 | Step 1630165 / 10000000 | TPS 5910.09 | ETA 00:23:36\n",
      "Time 00:05:13 | Step 1689409 / 10000000 | TPS 5924.39 | ETA 00:23:22\n",
      "Time 00:05:23 | Step 1745610 / 10000000 | TPS 5620.01 | ETA 00:24:28\n",
      "Time 00:05:33 | Step 1791940 / 10000000 | TPS 4632.84 | ETA 00:29:31\n",
      "Time 00:05:43 | Step 1834628 / 10000000 | TPS 4268.78 | ETA 00:31:52\n",
      "Time 00:05:53 | Step 1883776 / 10000000 | TPS 4914.77 | ETA 00:27:31\n",
      "Time 00:06:03 | Step 1932684 / 10000000 | TPS 4890.8 | ETA 00:27:29\n",
      "Time 00:06:13 | Step 1980435 / 10000000 | TPS 4775.01 | ETA 00:27:59\n",
      "Time 00:06:23 | Step 2029715 / 10000000 | TPS 4927.97 | ETA 00:26:57\n",
      "Time 00:06:33 | Step 2077437 / 10000000 | TPS 4772.14 | ETA 00:27:40\n",
      "Time 00:06:43 | Step 2124846 / 10000000 | TPS 4740.82 | ETA 00:27:41\n",
      "Time 00:06:53 | Step 2174042 / 10000000 | TPS 4919.53 | ETA 00:26:30\n",
      "Time 00:07:03 | Step 2220481 / 10000000 | TPS 4643.83 | ETA 00:27:55\n",
      "Time 00:07:13 | Step 2269849 / 10000000 | TPS 4936.74 | ETA 00:26:05\n",
      "Time 00:07:23 | Step 2310575 / 10000000 | TPS 4072.58 | ETA 00:31:28\n",
      "Time 00:07:33 | Step 2342757 / 10000000 | TPS 3218.2 | ETA 00:39:39\n",
      "Time 00:07:43 | Step 2386403 / 10000000 | TPS 4364.52 | ETA 00:29:04\n",
      "Time 00:07:53 | Step 2430663 / 10000000 | TPS 4425.99 | ETA 00:28:30\n",
      "Time 00:08:03 | Step 2474548 / 10000000 | TPS 4388.43 | ETA 00:28:34\n",
      "Time 00:08:13 | Step 2508221 / 10000000 | TPS 3367.22 | ETA 00:37:04\n",
      "Time 00:08:23 | Step 2547095 / 10000000 | TPS 3887.34 | ETA 00:31:57\n",
      "Time 00:08:33 | Step 2593147 / 10000000 | TPS 4605.18 | ETA 00:26:48\n",
      "Time 00:08:43 | Step 2639349 / 10000000 | TPS 4620.15 | ETA 00:26:33\n",
      "Time 00:08:53 | Step 2698752 / 10000000 | TPS 5940.21 | ETA 00:20:29\n",
      "Time 00:09:03 | Step 2757915 / 10000000 | TPS 5916.24 | ETA 00:20:24\n",
      "Time 00:09:13 | Step 2814946 / 10000000 | TPS 5703.01 | ETA 00:20:59\n",
      "Time 00:09:23 | Step 2868256 / 10000000 | TPS 5330.94 | ETA 00:22:17\n",
      "Time 00:09:33 | Step 2916852 / 10000000 | TPS 4859.56 | ETA 00:24:17\n",
      "Time 00:09:43 | Step 2969000 / 10000000 | TPS 5214.73 | ETA 00:22:28\n",
      "Time 00:09:53 | Step 3023187 / 10000000 | TPS 5418.66 | ETA 00:21:27\n",
      "Time 00:10:03 | Step 3077303 / 10000000 | TPS 5411.52 | ETA 00:21:19\n",
      "Time 00:10:13 | Step 3135920 / 10000000 | TPS 5861.61 | ETA 00:19:31\n",
      "Time 00:10:23 | Step 3194777 / 10000000 | TPS 5885.7 | ETA 00:19:16\n",
      "Time 00:10:33 | Step 3237672 / 10000000 | TPS 4289.45 | ETA 00:26:16\n",
      "Time 00:10:43 | Step 3280484 / 10000000 | TPS 4281.15 | ETA 00:26:09\n",
      "Time 00:10:53 | Step 3323288 / 10000000 | TPS 4280.37 | ETA 00:25:59\n",
      "Time 00:11:03 | Step 3365525 / 10000000 | TPS 4223.67 | ETA 00:26:10\n",
      "Time 00:11:13 | Step 3407815 / 10000000 | TPS 4228.95 | ETA 00:25:58\n",
      "Time 00:11:23 | Step 3450074 / 10000000 | TPS 4225.82 | ETA 00:25:49\n",
      "Time 00:11:33 | Step 3489635 / 10000000 | TPS 3956.09 | ETA 00:27:25\n",
      "Time 00:11:43 | Step 3532210 / 10000000 | TPS 4257.46 | ETA 00:25:19\n",
      "Time 00:11:53 | Step 3571228 / 10000000 | TPS 3901.75 | ETA 00:27:27\n",
      "Time 00:12:03 | Step 3612455 / 10000000 | TPS 4122.63 | ETA 00:25:49\n",
      "Time 00:12:13 | Step 3654752 / 10000000 | TPS 4229.66 | ETA 00:25:00\n",
      "Time 00:12:23 | Step 3706482 / 10000000 | TPS 5172.89 | ETA 00:20:16\n",
      "Time 00:12:33 | Step 3758825 / 10000000 | TPS 5234.27 | ETA 00:19:52\n",
      "Time 00:12:43 | Step 3811575 / 10000000 | TPS 5274.92 | ETA 00:19:33\n",
      "Time 00:12:53 | Step 3863061 / 10000000 | TPS 5148.52 | ETA 00:19:51\n",
      "Time 00:13:03 | Step 3912915 / 10000000 | TPS 4985.31 | ETA 00:20:21\n",
      "Time 00:13:13 | Step 3958523 / 10000000 | TPS 4560.78 | ETA 00:22:04\n",
      "Time 00:13:23 | Step 4004276 / 10000000 | TPS 4575.27 | ETA 00:21:50\n",
      "Time 00:13:33 | Step 4041414 / 10000000 | TPS 3713.78 | ETA 00:26:44\n",
      "Time 00:13:43 | Step 4072813 / 10000000 | TPS 3139.87 | ETA 00:31:27\n",
      "Time 00:13:53 | Step 4110068 / 10000000 | TPS 3725.42 | ETA 00:26:21\n",
      "Time 00:14:03 | Step 4147477 / 10000000 | TPS 3740.82 | ETA 00:26:04\n",
      "Time 00:14:13 | Step 4185328 / 10000000 | TPS 3785.02 | ETA 00:25:36\n",
      "Time 00:14:23 | Step 4231691 / 10000000 | TPS 4636.3 | ETA 00:20:44\n",
      "Time 00:14:33 | Step 4280267 / 10000000 | TPS 4857.5 | ETA 00:19:37\n",
      "Time 00:14:43 | Step 4328633 / 10000000 | TPS 4836.59 | ETA 00:19:32\n",
      "Time 00:14:53 | Step 4370052 / 10000000 | TPS 4141.89 | ETA 00:22:39\n",
      "Time 00:15:03 | Step 4412251 / 10000000 | TPS 4219.82 | ETA 00:22:04\n",
      "Time 00:15:13 | Step 4459008 / 10000000 | TPS 4675.68 | ETA 00:19:45\n",
      "Time 00:15:23 | Step 4506713 / 10000000 | TPS 4770.43 | ETA 00:19:11\n",
      "Time 00:15:33 | Step 4551667 / 10000000 | TPS 4495.35 | ETA 00:20:11\n",
      "Time 00:15:43 | Step 4604462 / 10000000 | TPS 5279.5 | ETA 00:17:01\n",
      "Time 00:15:53 | Step 4661147 / 10000000 | TPS 5668.4 | ETA 00:15:41\n",
      "Time 00:16:03 | Step 4718936 / 10000000 | TPS 5778.82 | ETA 00:15:13\n",
      "Time 00:16:13 | Step 4778199 / 10000000 | TPS 5926.26 | ETA 00:14:41\n",
      "Time 00:16:23 | Step 4837557 / 10000000 | TPS 5935.72 | ETA 00:14:29\n",
      "Time 00:16:33 | Step 4896949 / 10000000 | TPS 5939.15 | ETA 00:14:19\n",
      "Time 00:16:43 | Step 4956516 / 10000000 | TPS 5956.65 | ETA 00:14:06\n",
      "Time 00:16:53 | Step 5015834 / 10000000 | TPS 5931.71 | ETA 00:14:00\n",
      "Time 00:17:03 | Step 5071621 / 10000000 | TPS 5578.64 | ETA 00:14:43\n",
      "Time 00:17:13 | Step 5125613 / 10000000 | TPS 5399.18 | ETA 00:15:02\n",
      "Time 00:17:23 | Step 5184288 / 10000000 | TPS 5867.42 | ETA 00:13:40\n",
      "Time 00:17:33 | Step 5235982 / 10000000 | TPS 5169.29 | ETA 00:15:21\n",
      "Time 00:17:43 | Step 5292674 / 10000000 | TPS 5669.14 | ETA 00:13:50\n",
      "Time 00:17:53 | Step 5352307 / 10000000 | TPS 5963.28 | ETA 00:12:59\n",
      "Time 00:18:03 | Step 5410305 / 10000000 | TPS 5799.72 | ETA 00:13:11\n",
      "Time 00:18:13 | Step 5464579 / 10000000 | TPS 5427.32 | ETA 00:13:55\n",
      "Time 00:18:23 | Step 5519690 / 10000000 | TPS 5511.08 | ETA 00:13:32\n",
      "Time 00:18:33 | Step 5567568 / 10000000 | TPS 4787.72 | ETA 00:15:25\n",
      "Time 00:18:43 | Step 5609740 / 10000000 | TPS 4217.14 | ETA 00:17:21\n",
      "Time 00:18:53 | Step 5657506 / 10000000 | TPS 4776.56 | ETA 00:15:09\n",
      "Time 00:19:03 | Step 5702709 / 10000000 | TPS 4520.23 | ETA 00:15:50\n",
      "Time 00:19:13 | Step 5761082 / 10000000 | TPS 5837.23 | ETA 00:12:06\n",
      "Time 00:19:23 | Step 5820061 / 10000000 | TPS 5897.83 | ETA 00:11:48\n",
      "Time 00:19:33 | Step 5876401 / 10000000 | TPS 5633.95 | ETA 00:12:11\n",
      "Time 00:19:43 | Step 5933120 / 10000000 | TPS 5671.78 | ETA 00:11:57\n",
      "Time 00:19:53 | Step 5989061 / 10000000 | TPS 5594.03 | ETA 00:11:57\n"
     ]
    },
    {
     "name": "stdout",
     "output_type": "stream",
     "text": [
      "Time 00:20:03 | Step 6045012 / 10000000 | TPS 5595.03 | ETA 00:11:46\n",
      "Time 00:20:13 | Step 6102208 / 10000000 | TPS 5719.54 | ETA 00:11:21\n",
      "Time 00:20:23 | Step 6158395 / 10000000 | TPS 5618.6 | ETA 00:11:23\n",
      "Time 00:20:33 | Step 6217298 / 10000000 | TPS 5890.24 | ETA 00:10:42\n",
      "Time 00:20:43 | Step 6276558 / 10000000 | TPS 5925.95 | ETA 00:10:28\n",
      "Time 00:20:53 | Step 6334812 / 10000000 | TPS 5825.33 | ETA 00:10:29\n",
      "Time 00:21:03 | Step 6392428 / 10000000 | TPS 5761.59 | ETA 00:10:26\n",
      "Time 00:21:13 | Step 6451425 / 10000000 | TPS 5899.68 | ETA 00:10:01\n",
      "Time 00:21:23 | Step 6505625 / 10000000 | TPS 5419.96 | ETA 00:10:44\n",
      "Time 00:21:33 | Step 6553580 / 10000000 | TPS 4795.41 | ETA 00:11:58\n",
      "Time 00:21:43 | Step 6604088 / 10000000 | TPS 5050.75 | ETA 00:11:12\n",
      "Time 00:21:53 | Step 6652232 / 10000000 | TPS 4814.37 | ETA 00:11:35\n",
      "Time 00:22:03 | Step 6701001 / 10000000 | TPS 4876.87 | ETA 00:11:16\n",
      "Time 00:22:13 | Step 6746403 / 10000000 | TPS 4540.13 | ETA 00:11:56\n",
      "Time 00:22:23 | Step 6791301 / 10000000 | TPS 4489.73 | ETA 00:11:54\n",
      "Time 00:22:33 | Step 6840500 / 10000000 | TPS 4919.86 | ETA 00:10:42\n",
      "Time 00:22:43 | Step 6889490 / 10000000 | TPS 4898.97 | ETA 00:10:34\n",
      "Time 00:22:53 | Step 6927169 / 10000000 | TPS 3767.8 | ETA 00:13:35\n",
      "Time 00:23:03 | Step 6970632 / 10000000 | TPS 4346.3 | ETA 00:11:36\n",
      "Time 00:23:13 | Step 7015792 / 10000000 | TPS 4515.98 | ETA 00:11:00\n",
      "Time 00:23:23 | Step 7064192 / 10000000 | TPS 4839.99 | ETA 00:10:06\n",
      "Time 00:23:33 | Step 7108592 / 10000000 | TPS 4439.95 | ETA 00:10:51\n",
      "Time 00:23:43 | Step 7157620 / 10000000 | TPS 4902.75 | ETA 00:09:39\n",
      "Time 00:23:53 | Step 7206956 / 10000000 | TPS 4933.58 | ETA 00:09:26\n",
      "Time 00:24:03 | Step 7256159 / 10000000 | TPS 4920.25 | ETA 00:09:17\n",
      "Time 00:24:13 | Step 7305314 / 10000000 | TPS 4915.4 | ETA 00:09:08\n",
      "Time 00:24:23 | Step 7354504 / 10000000 | TPS 4918.96 | ETA 00:08:57\n",
      "Time 00:24:33 | Step 7407025 / 10000000 | TPS 5252.04 | ETA 00:08:13\n",
      "Time 00:24:43 | Step 7464915 / 10000000 | TPS 5788.89 | ETA 00:07:17\n",
      "Time 00:24:53 | Step 7523064 / 10000000 | TPS 5814.86 | ETA 00:07:05\n",
      "Time 00:25:03 | Step 7581561 / 10000000 | TPS 5849.69 | ETA 00:06:53\n",
      "Time 00:25:13 | Step 7639644 / 10000000 | TPS 5808.21 | ETA 00:06:46\n",
      "Time 00:25:23 | Step 7690166 / 10000000 | TPS 5052.12 | ETA 00:07:37\n",
      "Time 00:25:33 | Step 7744342 / 10000000 | TPS 5417.55 | ETA 00:06:56\n",
      "Time 00:25:43 | Step 7801387 / 10000000 | TPS 5704.44 | ETA 00:06:25\n",
      "Time 00:25:53 | Step 7860601 / 10000000 | TPS 5921.34 | ETA 00:06:01\n",
      "Time 00:26:03 | Step 7918302 / 10000000 | TPS 5770.03 | ETA 00:06:00\n",
      "Time 00:26:13 | Step 7973224 / 10000000 | TPS 5492.16 | ETA 00:06:09\n",
      "Time 00:26:23 | Step 8021806 / 10000000 | TPS 4858.19 | ETA 00:06:47\n",
      "Time 00:26:33 | Step 8071037 / 10000000 | TPS 4923.05 | ETA 00:06:31\n",
      "Time 00:26:43 | Step 8120361 / 10000000 | TPS 4932.38 | ETA 00:06:21\n",
      "Time 00:26:53 | Step 8169451 / 10000000 | TPS 4908.94 | ETA 00:06:12\n",
      "Time 00:27:03 | Step 8218662 / 10000000 | TPS 4921.01 | ETA 00:06:01\n",
      "Time 00:27:13 | Step 8267900 / 10000000 | TPS 4923.76 | ETA 00:05:51\n",
      "Time 00:27:23 | Step 8317117 / 10000000 | TPS 4921.64 | ETA 00:05:41\n",
      "Time 00:27:33 | Step 8366100 / 10000000 | TPS 4898.18 | ETA 00:05:33\n",
      "Time 00:27:43 | Step 8420508 / 10000000 | TPS 5440.77 | ETA 00:04:50\n",
      "Time 00:27:53 | Step 8476407 / 10000000 | TPS 5589.89 | ETA 00:04:32\n",
      "Time 00:28:03 | Step 8528970 / 10000000 | TPS 5256.29 | ETA 00:04:39\n",
      "Time 00:28:13 | Step 8583940 / 10000000 | TPS 5496.96 | ETA 00:04:17\n",
      "Time 00:28:23 | Step 8638953 / 10000000 | TPS 5501.21 | ETA 00:04:07\n",
      "Time 00:28:33 | Step 8687801 / 10000000 | TPS 4884.75 | ETA 00:04:28\n",
      "Time 00:28:43 | Step 8737017 / 10000000 | TPS 4921.57 | ETA 00:04:16\n",
      "Time 00:28:53 | Step 8786228 / 10000000 | TPS 4921.09 | ETA 00:04:06\n",
      "Time 00:29:03 | Step 8835249 / 10000000 | TPS 4902.05 | ETA 00:03:57\n",
      "Time 00:29:13 | Step 8884419 / 10000000 | TPS 4916.94 | ETA 00:03:46\n",
      "Time 00:29:23 | Step 8933590 / 10000000 | TPS 4917.02 | ETA 00:03:36\n",
      "Time 00:29:33 | Step 8980411 / 10000000 | TPS 4682.1 | ETA 00:03:37\n",
      "Time 00:29:43 | Step 9019526 / 10000000 | TPS 3911.46 | ETA 00:04:10\n",
      "Time 00:29:53 | Step 9073832 / 10000000 | TPS 5430.52 | ETA 00:02:50\n",
      "Time 00:30:03 | Step 9132212 / 10000000 | TPS 5837.94 | ETA 00:02:28\n",
      "Time 00:30:13 | Step 9191114 / 10000000 | TPS 5890.19 | ETA 00:02:17\n",
      "Time 00:30:23 | Step 9248584 / 10000000 | TPS 5746.98 | ETA 00:02:10\n",
      "Time 00:30:33 | Step 9301728 / 10000000 | TPS 5314.37 | ETA 00:02:11\n",
      "Time 00:30:43 | Step 9352459 / 10000000 | TPS 5073.07 | ETA 00:02:07\n",
      "Time 00:30:53 | Step 9399433 / 10000000 | TPS 4697.39 | ETA 00:02:07\n",
      "Time 00:31:03 | Step 9447785 / 10000000 | TPS 4835.12 | ETA 00:01:54\n",
      "Time 00:31:13 | Step 9496236 / 10000000 | TPS 4845.07 | ETA 00:01:43\n",
      "Time 00:31:23 | Step 9534025 / 10000000 | TPS 3778.86 | ETA 00:02:03\n",
      "Time 00:31:33 | Step 9569082 / 10000000 | TPS 3505.69 | ETA 00:02:02\n",
      "Time 00:31:43 | Step 9615341 / 10000000 | TPS 4625.88 | ETA 00:01:23\n",
      "Time 00:31:53 | Step 9663735 / 10000000 | TPS 4839.36 | ETA 00:01:09\n",
      "Time 00:32:03 | Step 9716550 / 10000000 | TPS 5281.45 | ETA 00:00:53\n",
      "Time 00:32:13 | Step 9772534 / 10000000 | TPS 5598.39 | ETA 00:00:40\n",
      "Time 00:32:23 | Step 9832231 / 10000000 | TPS 5969.68 | ETA 00:00:28\n",
      "Time 00:32:33 | Step 9891937 / 10000000 | TPS 5970.59 | ETA 00:00:18\n",
      "Time 00:32:43 | Step 9951750 / 10000000 | TPS 5981.21 | ETA 00:00:08\n",
      "Time 00:32:51 | Step 10000000 / 10000000 | TPS 5978.67 | ETA 00:00:00\n",
      "Average TPS: 5081.07\n",
      "---------\n",
      "** run complete **\n"
     ]
    }
   ],
   "source": [
    "hoomd.run(RunSteps);"
   ]
  },
  {
   "cell_type": "code",
   "execution_count": null,
   "metadata": {},
   "outputs": [],
   "source": []
  }
 ],
 "metadata": {
  "kernelspec": {
   "display_name": "Python 3",
   "language": "python",
   "name": "python3"
  },
  "language_info": {
   "codemirror_mode": {
    "name": "ipython",
    "version": 3
   },
   "file_extension": ".py",
   "mimetype": "text/x-python",
   "name": "python",
   "nbconvert_exporter": "python",
   "pygments_lexer": "ipython3",
   "version": "3.8.3"
  }
 },
 "nbformat": 4,
 "nbformat_minor": 4
}
