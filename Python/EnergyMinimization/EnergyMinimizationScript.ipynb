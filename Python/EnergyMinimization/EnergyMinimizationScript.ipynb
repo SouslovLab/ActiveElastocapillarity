{
 "cells": [
  {
   "cell_type": "code",
   "execution_count": 1,
   "metadata": {},
   "outputs": [],
   "source": [
    "import meshio\n",
    "import pygalmesh\n",
    "import numpy as np\n",
    "import copy\n",
    "from mshr import *\n",
    "from dolfin import *\n",
    "from collections import Counter\n",
    "import matplotlib.pyplot as plt\n",
    "import os\n",
    "import json\n",
    "import shutil\n",
    "import scipy.optimize as opt\n",
    "from EnergyMinimization import *"
   ]
  },
  {
   "cell_type": "markdown",
   "metadata": {},
   "source": [
    "# Initialisation"
   ]
  },
  {
   "cell_type": "markdown",
   "metadata": {},
   "source": [
    "User settings: What are the continuum parameters we want? "
   ]
  },
  {
   "cell_type": "code",
   "execution_count": 2,
   "metadata": {},
   "outputs": [],
   "source": [
    "# Target mesh size:\n",
    "target_a = 0.2\n",
    "# continuum bending modulus:\n",
    "kc=1\n",
    "# continuum shear modulus:\n",
    "mu=1\n",
    "# Energetic penalty for volume change\n",
    "B=10\n",
    "# the spring prestress values \n",
    "g0start=1.0\n",
    "g0end=4.0\n",
    "g0step=0.1"
   ]
  },
  {
   "cell_type": "markdown",
   "metadata": {},
   "source": [
    "User settings for the experimental run: What are the continuum parameters we want? "
   ]
  },
  {
   "cell_type": "code",
   "execution_count": 3,
   "metadata": {},
   "outputs": [],
   "source": [
    "# root folder for data\n",
    "DataFolder=os.getcwd()+'/Data/'\n",
    "# Folder for the run data\n",
    "RunFolder=\"kc_\"+\"{0:0.1f}\".format(kc)+\"_B_\"+\"{0:0.1f}\".format(B)+\"/\"\n",
    "# Name of the run\n",
    "RunName=\"\"\n",
    "# Name of the current file\n",
    "ScriptName=\"EnergyMinimizationScript.ipynb\""
   ]
  },
  {
   "cell_type": "code",
   "execution_count": 4,
   "metadata": {},
   "outputs": [
    {
     "data": {
      "text/plain": [
       "'kc_1.0_B_10.0/'"
      ]
     },
     "execution_count": 4,
     "metadata": {},
     "output_type": "execute_result"
    }
   ],
   "source": [
    "RunFolder"
   ]
  },
  {
   "cell_type": "markdown",
   "metadata": {},
   "source": [
    "Right, lets define the bond type and parameters for each bond. In 2D, we know that the elastic modulii are proportional to the microscopic spring constant. We also know that the continuum and microscopic momdulii are related by a lattice space: $\\mu = O(1) k$, $k_c = k_d a$. Since I dont know any better, for know I will just set k to mu."
   ]
  },
  {
   "cell_type": "code",
   "execution_count": 5,
   "metadata": {},
   "outputs": [],
   "source": [
    "kd=kc/target_a\n",
    "k = mu\n",
    "theta0=np.pi"
   ]
  },
  {
   "cell_type": "markdown",
   "metadata": {},
   "source": [
    "Set up the experiment"
   ]
  },
  {
   "cell_type": "code",
   "execution_count": 6,
   "metadata": {},
   "outputs": [
    {
     "name": "stdout",
     "output_type": "stream",
     "text": [
      "Creation of the directory /home/jackbinysh/Code/ActiveElastocapillarity/Python/EnergyMinimization/Data/kc_1.0_B_10.0/ failed\n"
     ]
    },
    {
     "data": {
      "text/plain": [
       "'/home/jackbinysh/Code/ActiveElastocapillarity/Python/EnergyMinimization/Data/kc_1.0_B_10.0/EnergyMinimizationScript.ipynb'"
      ]
     },
     "execution_count": 6,
     "metadata": {},
     "output_type": "execute_result"
    }
   ],
   "source": [
    "path = DataFolder+RunFolder\n",
    "# make the folder \n",
    "try:\n",
    "    os.mkdir(path)\n",
    "except OSError:\n",
    "    print (\"Creation of the directory %s failed\" % path)\n",
    "else:\n",
    "    print (\"Successfully created the directory %s \" % path)\n",
    "    \n",
    "# try and clear out the folder if there was a previous run in it\n",
    "for filename in os.listdir(path):\n",
    "    file_path = os.path.join(path, filename)\n",
    "    try:\n",
    "        if os.path.isfile(file_path) or os.path.islink(file_path):\n",
    "            os.unlink(file_path)\n",
    "        elif os.path.isdir(file_path):\n",
    "            shutil.rmtree(file_path)\n",
    "    except Exception as e:\n",
    "        print('Failed to delete %s. Reason: %s' % (file_path, e))\n",
    "        \n",
    "        \n",
    "#Dump all the parameters to a file in the run folder        \n",
    "f=open(DataFolder+RunFolder+\"Parameters.log\",\"w+\")\n",
    "datadict= { \n",
    "        \"a\":target_a,\n",
    "        \"kc\":kc, \n",
    "        \"B\":B,\n",
    "        \"mu\":mu,\n",
    "        \"g0start\":g0start,\n",
    "        \"g0end\":g0end,\n",
    "}\n",
    "json.dump(datadict,f)\n",
    "f.close()\n",
    "\n",
    "# and for good measure, dump a copy of this code into the data file too\n",
    "shutil.copyfile(ScriptName,DataFolder+RunFolder+ScriptName)"
   ]
  },
  {
   "cell_type": "markdown",
   "metadata": {},
   "source": [
    "Make the mesh, write it out to the folder"
   ]
  },
  {
   "cell_type": "code",
   "execution_count": 7,
   "metadata": {},
   "outputs": [],
   "source": [
    "InputMesh, OutputMesh, interiorbonds,edgebonds,angletriples = MakeDolfinMesh(target_a,40)\n",
    "InputMesh.write(DataFolder+RunFolder+RunName+\"InputMesh.vtk\")"
   ]
  },
  {
   "cell_type": "markdown",
   "metadata": {},
   "source": [
    "Check out the Mesh. One of the lessons learnt is that you shouldnt have much of a spread in the intial edge lengths"
   ]
  },
  {
   "cell_type": "code",
   "execution_count": 8,
   "metadata": {
    "scrolled": false
   },
   "outputs": [
    {
     "data": {
      "text/plain": [
       "0.15691819145568991"
      ]
     },
     "execution_count": 8,
     "metadata": {},
     "output_type": "execute_result"
    },
    {
     "data": {
      "image/png": "[encoded data removed]",
      "text/plain": [
       "<Figure size 432x288 with 1 Axes>"
      ]
     },
     "metadata": {
      "needs_background": "light"
     },
     "output_type": "display_data"
    }
   ],
   "source": [
    "edgelengths= MakeBondHist(InputMesh.points,edgebonds)\n",
    "np.mean(edgelengths)"
   ]
  },
  {
   "cell_type": "markdown",
   "metadata": {},
   "source": [
    "# Energy Minimization"
   ]
  },
  {
   "cell_type": "code",
   "execution_count": 9,
   "metadata": {},
   "outputs": [],
   "source": [
    "def mycallback(xi):\n",
    "    counter=len(history)\n",
    "    history.append(xi)\n",
    "    tempP = xi.reshape((-1, 2))\n",
    "    \n",
    "    # stuff to screen\n",
    "    print(\"iteration:\"+\"{0:0.1f}\".format(counter)+\"Total Area:\" + \"{0:0.2f}\".format(vTotalArea(tempP,triangles)))\n",
    "   \n",
    "    #output for visualisation\n",
    "    OutputMesh.points[:,0:2] = tempP           \n",
    "    OutputMesh.write(DataFolder+RunFolder+RunName+\"TempOutput\"+\"Output\"+\"{0:0.1f}\".format(g0)+\"_\"+str(counter)+\".vtk\",binary=True)"
   ]
  },
  {
   "cell_type": "code",
   "execution_count": 10,
   "metadata": {},
   "outputs": [
    {
     "name": "stdout",
     "output_type": "stream",
     "text": [
      "Current g01.0\n",
      "Optimization terminated successfully.\n",
      "         Current function value: 8.667216\n",
      "         Iterations: 0\n",
      "         Function evaluations: 275\n",
      "         Gradient evaluations: 1\n",
      "Total Area:3.13\n",
      "Current g01.1\n",
      "Warning: Desired error not necessarily achieved due to precision loss.\n",
      "         Current function value: 8.775879\n",
      "         Iterations: 47\n",
      "         Function evaluations: 27237\n",
      "         Gradient evaluations: 99\n",
      "Total Area:3.13\n",
      "Current g01.2\n",
      "Warning: Desired error not necessarily achieved due to precision loss.\n",
      "         Current function value: 8.906190\n",
      "         Iterations: 51\n",
      "         Function evaluations: 28060\n",
      "         Gradient evaluations: 102\n",
      "Total Area:3.13\n",
      "Current g01.3\n",
      "Warning: Desired error not necessarily achieved due to precision loss.\n",
      "         Current function value: 9.060107\n",
      "         Iterations: 53\n",
      "         Function evaluations: 32185\n",
      "         Gradient evaluations: 117\n",
      "Total Area:3.13\n",
      "Current g01.4\n",
      "Warning: Desired error not necessarily achieved due to precision loss.\n",
      "         Current function value: 9.239584\n",
      "         Iterations: 51\n",
      "         Function evaluations: 32183\n",
      "         Gradient evaluations: 117\n",
      "Total Area:3.13\n",
      "Current g01.5\n",
      "Warning: Desired error not necessarily achieved due to precision loss.\n",
      "         Current function value: 9.446573\n",
      "         Iterations: 56\n",
      "         Function evaluations: 32461\n",
      "         Gradient evaluations: 118\n",
      "Total Area:3.13\n",
      "Current g01.6\n",
      "Warning: Desired error not necessarily achieved due to precision loss.\n",
      "         Current function value: 9.683018\n",
      "         Iterations: 55\n",
      "         Function evaluations: 27786\n",
      "         Gradient evaluations: 101\n",
      "Total Area:3.14\n",
      "Current g01.7\n",
      "Warning: Desired error not necessarily achieved due to precision loss.\n",
      "         Current function value: 9.950862\n",
      "         Iterations: 60\n",
      "         Function evaluations: 34386\n",
      "         Gradient evaluations: 125\n",
      "Total Area:3.14\n",
      "Current g01.8\n",
      "Warning: Desired error not necessarily achieved due to precision loss.\n",
      "         Current function value: 10.252039\n",
      "         Iterations: 59\n",
      "         Function evaluations: 28061\n",
      "         Gradient evaluations: 102\n",
      "Total Area:3.14\n",
      "Current g01.9\n",
      "Warning: Desired error not necessarily achieved due to precision loss.\n",
      "         Current function value: 10.588476\n",
      "         Iterations: 69\n",
      "         Function evaluations: 41811\n",
      "         Gradient evaluations: 152\n",
      "Total Area:3.14\n",
      "Current g02.0\n",
      "Warning: Desired error not necessarily achieved due to precision loss.\n",
      "         Current function value: 10.962095\n",
      "         Iterations: 69\n",
      "         Function evaluations: 38787\n",
      "         Gradient evaluations: 141\n",
      "Total Area:3.15\n",
      "Current g02.1\n",
      "Optimization terminated successfully.\n",
      "         Current function value: 11.374807\n",
      "         Iterations: 83\n",
      "         Function evaluations: 35475\n",
      "         Gradient evaluations: 129\n",
      "Total Area:3.15\n",
      "Current g02.2\n",
      "Warning: Desired error not necessarily achieved due to precision loss.\n",
      "         Current function value: 11.828515\n",
      "         Iterations: 72\n",
      "         Function evaluations: 33011\n",
      "         Gradient evaluations: 120\n",
      "Total Area:3.15\n",
      "Current g02.3\n",
      "Warning: Desired error not necessarily achieved due to precision loss.\n",
      "         Current function value: 12.325114\n",
      "         Iterations: 80\n",
      "         Function evaluations: 38512\n",
      "         Gradient evaluations: 140\n",
      "Total Area:3.16\n",
      "Current g02.4\n",
      "Warning: Desired error not necessarily achieved due to precision loss.\n",
      "         Current function value: 12.866485\n",
      "         Iterations: 79\n",
      "         Function evaluations: 39336\n",
      "         Gradient evaluations: 143\n",
      "Total Area:3.16\n",
      "Current g02.5\n",
      "Warning: Desired error not necessarily achieved due to precision loss.\n",
      "         Current function value: 13.454499\n",
      "         Iterations: 84\n",
      "         Function evaluations: 37135\n",
      "         Gradient evaluations: 135\n",
      "Total Area:3.17\n",
      "Current g02.6\n",
      "Warning: Desired error not necessarily achieved due to precision loss.\n",
      "         Current function value: 14.091017\n",
      "         Iterations: 83\n",
      "         Function evaluations: 35487\n",
      "         Gradient evaluations: 129\n",
      "Total Area:3.17\n",
      "Current g02.7\n",
      "Warning: Desired error not necessarily achieved due to precision loss.\n",
      "         Current function value: 14.777883\n",
      "         Iterations: 83\n",
      "         Function evaluations: 36311\n",
      "         Gradient evaluations: 132\n",
      "Total Area:3.18\n",
      "Current g02.8\n",
      "Warning: Desired error not necessarily achieved due to precision loss.\n",
      "         Current function value: 15.516929\n",
      "         Iterations: 84\n",
      "         Function evaluations: 36311\n",
      "         Gradient evaluations: 132\n",
      "Total Area:3.18\n",
      "Current g02.9\n",
      "Warning: Desired error not necessarily achieved due to precision loss.\n",
      "         Current function value: 16.309973\n",
      "         Iterations: 84\n",
      "         Function evaluations: 35211\n",
      "         Gradient evaluations: 128\n",
      "Total Area:3.19\n",
      "Current g03.0\n",
      "Warning: Desired error not necessarily achieved due to precision loss.\n",
      "         Current function value: 17.158816\n",
      "         Iterations: 86\n",
      "         Function evaluations: 32450\n",
      "         Gradient evaluations: 118\n",
      "Total Area:3.19\n",
      "Current g03.1\n",
      "Warning: Desired error not necessarily achieved due to precision loss.\n",
      "         Current function value: 18.065243\n",
      "         Iterations: 90\n",
      "         Function evaluations: 40985\n",
      "         Gradient evaluations: 149\n",
      "Total Area:3.20\n",
      "Current g03.2\n",
      "Warning: Desired error not necessarily achieved due to precision loss.\n",
      "         Current function value: 19.031024\n",
      "         Iterations: 92\n",
      "         Function evaluations: 41261\n",
      "         Gradient evaluations: 150\n",
      "Total Area:3.21\n",
      "Current g03.3\n",
      "Warning: Desired error not necessarily achieved due to precision loss.\n",
      "         Current function value: 20.057907\n",
      "         Iterations: 89\n",
      "         Function evaluations: 37136\n",
      "         Gradient evaluations: 135\n",
      "Total Area:3.22\n",
      "Current g03.4\n",
      "Warning: Desired error not necessarily achieved due to precision loss.\n",
      "         Current function value: 21.147625\n",
      "         Iterations: 92\n",
      "         Function evaluations: 44287\n",
      "         Gradient evaluations: 161\n",
      "Total Area:3.22\n",
      "Current g03.5\n",
      "Warning: Desired error not necessarily achieved due to precision loss.\n",
      "         Current function value: 22.301888\n",
      "         Iterations: 96\n",
      "         Function evaluations: 40987\n",
      "         Gradient evaluations: 149\n",
      "Total Area:3.23\n",
      "Current g03.6\n",
      "Warning: Desired error not necessarily achieved due to precision loss.\n",
      "         Current function value: 23.522365\n",
      "         Iterations: 105\n",
      "         Function evaluations: 45387\n",
      "         Gradient evaluations: 165\n",
      "Total Area:3.24\n",
      "Current g03.7\n",
      "Warning: Desired error not necessarily achieved due to precision loss.\n",
      "         Current function value: 24.770013\n",
      "         Iterations: 94\n",
      "         Function evaluations: 48962\n",
      "         Gradient evaluations: 178\n",
      "Total Area:3.22\n",
      "Current g03.8\n",
      "Warning: Desired error not necessarily achieved due to precision loss.\n",
      "         Current function value: 25.821310\n",
      "         Iterations: 136\n",
      "         Function evaluations: 70965\n",
      "         Gradient evaluations: 258\n",
      "Total Area:3.20\n",
      "Current g03.9\n",
      "Warning: Desired error not necessarily achieved due to precision loss.\n",
      "         Current function value: 26.866582\n",
      "         Iterations: 173\n",
      "         Function evaluations: 76462\n",
      "         Gradient evaluations: 278\n",
      "Total Area:3.19\n"
     ]
    }
   ],
   "source": [
    "# initial input points. Pout changes over time\n",
    "Pout_ij =InputMesh.points[:,0:2] \n",
    "N = len(Pout_ij)\n",
    "\n",
    "# the connectivity matrix --- this doesnt change over the run\n",
    "A = np.zeros( (len(Pout_ij),len(Pout_ij)) )\n",
    "for bond in edgebonds+interiorbonds:\n",
    "    A[bond[0],bond[1]]=1\n",
    "    A[bond[1],bond[0]]=1\n",
    "\n",
    "# the triangles defining the connectivity data    \n",
    "triangles=InputMesh.cells[0].data\n",
    "# The initial area, which we want to penalise deviation from\n",
    "TargetArea=TotalArea(Pout_ij,triangles)\n",
    "\n",
    "for g0 in np.arange(g0start,g0end,g0step):\n",
    "    \n",
    "    print(\"Current g0\"+\"{0:0.1f}\".format(g0))\n",
    "    \n",
    "    # Make the \"prestress\" matrix, referring to scale factors for the rest lengths\n",
    "    g0_ij= np.ones((N,N),)\n",
    "    for bond in edgebonds:\n",
    "        g0_ij[bond[0],bond[1]]=g0\n",
    "        g0_ij[bond[1],bond[0]]=g0   \n",
    "    # the preferred rest lengths of all the springs\n",
    "    r0_ij = g0_ij*dist(InputMesh.points[:,0:2] )\n",
    "\n",
    "    # minimize\n",
    "    history=[]\n",
    "    Pout_ij = opt.minimize(energy, Pout_ij.ravel()\n",
    "                           ,args=(A,r0_ij,angletriples,triangles,k,kd,theta0,B,TargetArea)\n",
    "                           #,callback=mycallback\n",
    "                           ,options={'disp': True}).x.reshape((-1, 2))\n",
    "   \n",
    "\n",
    "    # stuff to screen\n",
    "    print(\"Total Area:\" + \"{0:0.2f}\".format(vTotalArea(Pout_ij,triangles)))\n",
    "\n",
    "    # write the output \n",
    "    OutputMesh.points[:,0:2] = Pout_ij  \n",
    "    OutputMesh.point_data={\"g0\": np.repeat(g0,len(InputMesh.points))}   \n",
    "    \n",
    "    OutputMesh.write(DataFolder+RunFolder+RunName+\"g0_\"+\"{0:0.1f}\".format(g0)+\".vtk\",binary=True)  \n"
   ]
  },
  {
   "cell_type": "code",
   "execution_count": null,
   "metadata": {},
   "outputs": [],
   "source": []
  }
 ],
 "metadata": {
  "kernelspec": {
   "display_name": "Python 3",
   "language": "python",
   "name": "python3"
  },
  "language_info": {
   "codemirror_mode": {
    "name": "ipython",
    "version": 3
   },
   "file_extension": ".py",
   "mimetype": "text/x-python",
   "name": "python",
   "nbconvert_exporter": "python",
   "pygments_lexer": "ipython3",
   "version": "3.8.3"
  }
 },
 "nbformat": 4,
 "nbformat_minor": 4
}
