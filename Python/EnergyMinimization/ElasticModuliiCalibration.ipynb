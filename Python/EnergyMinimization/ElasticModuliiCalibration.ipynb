{
 "cells": [
  {
   "cell_type": "code",
   "execution_count": 1,
   "metadata": {},
   "outputs": [],
   "source": [
    "import meshio\n",
    "import pygalmesh\n",
    "import pygmsh\n",
    "import numpy as np\n",
    "import copy\n",
    "import glob\n",
    "from collections import Counter\n",
    "import matplotlib.pyplot as plt\n",
    "import os\n",
    "import json\n",
    "import shutil\n",
    "import scipy.optimize as opt\n",
    "from EnergyMinimization import *\n",
    "import numba"
   ]
  },
  {
   "cell_type": "markdown",
   "metadata": {},
   "source": [
    "# Initialisation"
   ]
  },
  {
   "cell_type": "markdown",
   "metadata": {},
   "source": [
    "User settings: What are the continuum parameters we want? In 2D, we know that the elastic modulii are proportional to the microscopic spring constant. We also know that the continuum and microscopic momdulii are related by a lattice space: $\\mu = O(1) k$, $k_c = k_d a$. Since I dont know any better, for know I will just set k to mu."
   ]
  },
  {
   "cell_type": "code",
   "execution_count": 2,
   "metadata": {},
   "outputs": [],
   "source": [
    "# Target mesh size:\n",
    "target_a = 0.2\n",
    "# continuum shear modulus:\n",
    "mu=1\n",
    "# Energetic penalty for volume change\n",
    "#B=1000000\n",
    "B=50000\n",
    "# Surface Constraint Energy\n",
    "E=10\n",
    "# The Material Nonlinearity parameter, between 0 and 1\n",
    "MatNon=0.0\n",
    "khook = mu"
   ]
  },
  {
   "cell_type": "markdown",
   "metadata": {},
   "source": [
    "Setting up the experiment:"
   ]
  },
  {
   "cell_type": "code",
   "execution_count": 3,
   "metadata": {},
   "outputs": [],
   "source": [
    "# root folder for data\n",
    "DataFolder=os.getcwd()+'/Data/Scratch/'\n",
    "# Name of the current file\n",
    "ScriptName=\"ElasticModuliiCalibration.ipynb\""
   ]
  },
  {
   "cell_type": "code",
   "execution_count": 4,
   "metadata": {
    "scrolled": true
   },
   "outputs": [
    {
     "name": "stdout",
     "output_type": "stream",
     "text": [
      "Creation of the directory /home/jackbinysh/Code/ActiveElastocapillarity/Python/EnergyMinimization/Data/Scratch/ failed\n"
     ]
    },
    {
     "data": {
      "text/plain": [
       "'/home/jackbinysh/Code/ActiveElastocapillarity/Python/EnergyMinimization/Data/Scratch/ElasticModuliiCalibration.ipynb'"
      ]
     },
     "execution_count": 4,
     "metadata": {},
     "output_type": "execute_result"
    }
   ],
   "source": [
    "try:\n",
    "    os.mkdir(DataFolder)\n",
    "except OSError:\n",
    "    print (\"Creation of the directory %s failed\" % DataFolder)\n",
    "else:\n",
    "    print (\"Successfully created the directory %s \" % DataFolder)\n",
    "    \n",
    "# try and clear out the folder of vtk files and log files, if there was a previous run in it\n",
    "for filename in glob.glob(DataFolder+'*.vtk')+glob.glob(DataFolder+'*.log'):\n",
    "    file_path = os.path.join(DataFolder, filename)\n",
    "    try:\n",
    "        if os.path.isfile(file_path) or os.path.islink(file_path):\n",
    "            os.unlink(file_path)\n",
    "        elif os.path.isdir(file_path):\n",
    "            shutil.rmtree(file_path)\n",
    "    except Exception as e:\n",
    "        print('Failed to delete %s. Reason: %s' % (file_path, e))\n",
    "                \n",
    "#Dump all the parameters to a file in the run folder        \n",
    "f=open(DataFolder+\"Parameters.log\",\"w+\")\n",
    "datadict= { \n",
    "        \"a\":target_a, \n",
    "        \"B\":B,\n",
    "        \"mu\":mu,\n",
    "        \"alpha\": MatNon\n",
    "}\n",
    "json.dump(datadict,f)\n",
    "f.close()\n",
    "\n",
    "# and for good measure, dump a copy of this code into the data file too\n",
    "shutil.copyfile(ScriptName,DataFolder+ScriptName)"
   ]
  },
  {
   "cell_type": "markdown",
   "metadata": {},
   "source": [
    "# Making the Mesh"
   ]
  },
  {
   "cell_type": "markdown",
   "metadata": {},
   "source": [
    "Make the mesh, write it out to the folder. I am going to use the gmsh mesh"
   ]
  },
  {
   "cell_type": "code",
   "execution_count": 5,
   "metadata": {},
   "outputs": [
    {
     "name": "stderr",
     "output_type": "stream",
     "text": [
      "/home/jackbinysh/miniconda3/lib/python3.8/site-packages/numpy/ctypeslib.py:521: RuntimeWarning: A builtin ctypes object gave a PEP3118 format string that does not match its itemsize, so a best-guess will be made of the data type. Newer versions of python may behave correctly.\n",
      "  return array(obj, copy=False)\n"
     ]
    }
   ],
   "source": [
    "with pygmsh.occ.Geometry() as geom:\n",
    "    geom.characteristic_length_max = target_a\n",
    "    #geom.add_cylinder([0.0, 0.0, 0.0], 1)\n",
    "    ellipsoid =geom.add_cylinder([0, 0.0, 0.0], [0.0, 0.0, 1], 1),\n",
    "    #ellipsoid = geom.add_ellipsoid([0.0, 0.0, 0.0], [0.95, 0.95, 1.05])\n",
    "    #ellipsoid =geom.add_box([-0.5,-0.5,-0.5],[1,1,1])\n",
    "    InputMesh = geom.generate_mesh()"
   ]
  },
  {
   "cell_type": "markdown",
   "metadata": {},
   "source": [
    "Make the bond lists, make the oriented boundary triangles list, make the mapping from bonds to boundary triangles"
   ]
  },
  {
   "cell_type": "code",
   "execution_count": 6,
   "metadata": {},
   "outputs": [],
   "source": [
    "interiorbonds,edgebonds,boundarytris, bidxTotidx, tetras= MakeMeshData3D(InputMesh)\n",
    "bonds=np.concatenate((interiorbonds,edgebonds))\n",
    "orientedboundarytris=OrientTriangles(InputMesh.points,boundarytris,np.array([0,0,0]))\n",
    "boundarytris=orientedboundarytris"
   ]
  },
  {
   "cell_type": "markdown",
   "metadata": {},
   "source": [
    "Indices of the points on the toplayer and bottom layer"
   ]
  },
  {
   "cell_type": "code",
   "execution_count": 7,
   "metadata": {},
   "outputs": [],
   "source": [
    "TopLayer= np.where((InputMesh.points[:,2]>0.99))[0]\n",
    "BottomLayer= np.where((InputMesh.points[:,2]<0.01))[0]"
   ]
  },
  {
   "cell_type": "markdown",
   "metadata": {},
   "source": [
    "Write a copy of the input Mesh, for visualisation"
   ]
  },
  {
   "cell_type": "code",
   "execution_count": 8,
   "metadata": {},
   "outputs": [],
   "source": [
    "cells=[ (\"line\", bonds ), (\"triangle\",boundarytris ), (\"tetra\",tetras)]\n",
    "isbond=  np.ones(len(bonds))\n",
    "isedgebond= np.concatenate( ( np.zeros(len(interiorbonds)),np.ones(len(edgebonds)) ) )\n",
    "CellDataDict={'isedgebond':[isedgebond,np.zeros(len(boundarytris)),np.zeros(len(tetras))]\n",
    "              ,'isbond':[isbond,np.zeros(len(boundarytris)),np.zeros(len(tetras))]}\n",
    "\n",
    "OutputMesh=meshio.Mesh(InputMesh.points, cells, {},CellDataDict)\n",
    "OutputMesh.write(DataFolder+\"InitialMesh.vtk\",binary=True) "
   ]
  },
  {
   "cell_type": "code",
   "execution_count": 9,
   "metadata": {},
   "outputs": [
    {
     "data": {
      "text/plain": [
       "0.24170323193529983"
      ]
     },
     "execution_count": 9,
     "metadata": {},
     "output_type": "execute_result"
    },
    {
     "data": {
      "image/png": "[encoded data removed]",
      "text/plain": [
       "<Figure size 432x288 with 1 Axes>"
      ]
     },
     "metadata": {
      "needs_background": "light"
     },
     "output_type": "display_data"
    }
   ],
   "source": [
    "edgelengths= MakeBondHist(InputMesh.points,bonds)\n",
    "np.mean(edgelengths)"
   ]
  },
  {
   "cell_type": "markdown",
   "metadata": {},
   "source": [
    "# Energy Minimization"
   ]
  },
  {
   "cell_type": "code",
   "execution_count": 10,
   "metadata": {},
   "outputs": [],
   "source": [
    "def mycallback(xi):\n",
    "    \n",
    "    counter=len(history)\n",
    "    tempP = xi.reshape((-1, 3))\n",
    "    history.append(counter)\n",
    "        \n",
    "    print(\"iteration:\"+\"{0:0.1f}\".format(counter))   \n",
    "    OutputMesh.points = tempP  \n",
    "    Name=\"Tempz0_\"+\"{0:0.3f}\".format(z0)+\"_\"+\"{0:0d}\".format(counter)+\".vtk\"\n",
    "    \n",
    "    CalibrationOutput3D(Name\n",
    "                    ,DataFolder\n",
    "                    ,OutputMesh\n",
    "                    ,tempP\n",
    "                    ,bonds\n",
    "                    ,orientedboundarytris\n",
    "                    ,tetras\n",
    "                    ,r0_ij\n",
    "                    ,khook\n",
    "                    ,B\n",
    "                    ,MatNon\n",
    "                    ,TargetVolumes\n",
    "                    ,TopLayer\n",
    "                    ,BottomLayer\n",
    "                    ,z0\n",
    "                    ,E)\n",
    " "
   ]
  },
  {
   "cell_type": "code",
   "execution_count": 11,
   "metadata": {
    "scrolled": false
   },
   "outputs": [
    {
     "name": "stdout",
     "output_type": "stream",
     "text": [
      "Current z01.000\n",
      "Optimization terminated successfully.\n",
      "         Current function value: 0.000000\n",
      "         Iterations: 0\n",
      "         Function evaluations: 1708\n",
      "         Gradient evaluations: 1\n",
      "Current z00.950\n",
      "iteration:0.0\n",
      "iteration:1.0\n",
      "iteration:2.0\n",
      "iteration:3.0\n",
      "iteration:4.0\n",
      "iteration:5.0\n",
      "iteration:6.0\n",
      "iteration:7.0\n",
      "iteration:8.0\n",
      "iteration:9.0\n",
      "iteration:10.0\n",
      "iteration:11.0\n",
      "iteration:12.0\n",
      "iteration:13.0\n",
      "iteration:14.0\n",
      "iteration:15.0\n",
      "iteration:16.0\n",
      "iteration:17.0\n",
      "iteration:18.0\n",
      "iteration:19.0\n",
      "iteration:20.0\n",
      "iteration:21.0\n",
      "iteration:22.0\n",
      "iteration:23.0\n",
      "iteration:24.0\n",
      "iteration:25.0\n",
      "iteration:26.0\n",
      "iteration:27.0\n",
      "iteration:28.0\n",
      "iteration:29.0\n",
      "iteration:30.0\n",
      "iteration:31.0\n",
      "iteration:32.0\n",
      "iteration:33.0\n",
      "iteration:34.0\n",
      "iteration:35.0\n",
      "iteration:36.0\n",
      "iteration:37.0\n",
      "iteration:38.0\n",
      "iteration:39.0\n",
      "iteration:40.0\n",
      "iteration:41.0\n",
      "iteration:42.0\n",
      "iteration:43.0\n",
      "iteration:44.0\n",
      "iteration:45.0\n",
      "iteration:46.0\n",
      "iteration:47.0\n",
      "iteration:48.0\n",
      "iteration:49.0\n",
      "iteration:50.0\n",
      "iteration:51.0\n",
      "iteration:52.0\n",
      "iteration:53.0\n",
      "iteration:54.0\n",
      "iteration:55.0\n",
      "iteration:56.0\n",
      "iteration:57.0\n",
      "iteration:58.0\n",
      "iteration:59.0\n",
      "iteration:60.0\n",
      "iteration:61.0\n",
      "iteration:62.0\n",
      "iteration:63.0\n",
      "iteration:64.0\n",
      "iteration:65.0\n",
      "iteration:66.0\n",
      "iteration:67.0\n",
      "iteration:68.0\n",
      "iteration:69.0\n",
      "iteration:70.0\n",
      "iteration:71.0\n",
      "iteration:72.0\n",
      "iteration:73.0\n",
      "iteration:74.0\n",
      "iteration:75.0\n",
      "iteration:76.0\n",
      "iteration:77.0\n",
      "iteration:78.0\n",
      "iteration:79.0\n",
      "iteration:80.0\n",
      "iteration:81.0\n",
      "iteration:82.0\n",
      "iteration:83.0\n",
      "iteration:84.0\n",
      "iteration:85.0\n",
      "iteration:86.0\n",
      "iteration:87.0\n",
      "iteration:88.0\n",
      "iteration:89.0\n",
      "iteration:90.0\n",
      "Optimization terminated successfully.\n",
      "         Current function value: 0.052685\n",
      "         Iterations: 91\n",
      "         Function evaluations: 160552\n",
      "         Gradient evaluations: 94\n",
      "Current z00.900\n",
      "iteration:0.0\n",
      "iteration:1.0\n",
      "iteration:2.0\n",
      "iteration:3.0\n",
      "iteration:4.0\n",
      "iteration:5.0\n",
      "iteration:6.0\n",
      "iteration:7.0\n",
      "iteration:8.0\n",
      "iteration:9.0\n",
      "iteration:10.0\n",
      "iteration:11.0\n",
      "iteration:12.0\n",
      "iteration:13.0\n",
      "iteration:14.0\n",
      "iteration:15.0\n",
      "iteration:16.0\n",
      "iteration:17.0\n",
      "iteration:18.0\n",
      "iteration:19.0\n",
      "iteration:20.0\n",
      "iteration:21.0\n",
      "iteration:22.0\n",
      "iteration:23.0\n",
      "iteration:24.0\n",
      "iteration:25.0\n",
      "iteration:26.0\n",
      "iteration:27.0\n",
      "iteration:28.0\n",
      "iteration:29.0\n",
      "iteration:30.0\n",
      "iteration:31.0\n",
      "iteration:32.0\n",
      "iteration:33.0\n",
      "iteration:34.0\n",
      "iteration:35.0\n",
      "iteration:36.0\n",
      "iteration:37.0\n",
      "iteration:38.0\n",
      "iteration:39.0\n",
      "iteration:40.0\n",
      "iteration:41.0\n",
      "iteration:42.0\n",
      "iteration:43.0\n",
      "iteration:44.0\n",
      "iteration:45.0\n",
      "iteration:46.0\n",
      "iteration:47.0\n",
      "iteration:48.0\n",
      "iteration:49.0\n",
      "iteration:50.0\n",
      "iteration:51.0\n",
      "iteration:52.0\n",
      "iteration:53.0\n",
      "iteration:54.0\n",
      "iteration:55.0\n",
      "iteration:56.0\n",
      "iteration:57.0\n",
      "iteration:58.0\n",
      "iteration:59.0\n",
      "iteration:60.0\n",
      "iteration:61.0\n",
      "iteration:62.0\n",
      "iteration:63.0\n",
      "iteration:64.0\n",
      "iteration:65.0\n",
      "iteration:66.0\n",
      "iteration:67.0\n",
      "iteration:68.0\n",
      "iteration:69.0\n",
      "iteration:70.0\n",
      "iteration:71.0\n",
      "iteration:72.0\n",
      "iteration:73.0\n",
      "iteration:74.0\n",
      "iteration:75.0\n",
      "iteration:76.0\n",
      "iteration:77.0\n",
      "iteration:78.0\n",
      "iteration:79.0\n",
      "iteration:80.0\n",
      "iteration:81.0\n",
      "iteration:82.0\n",
      "iteration:83.0\n",
      "iteration:84.0\n",
      "iteration:85.0\n",
      "iteration:86.0\n",
      "iteration:87.0\n",
      "iteration:88.0\n",
      "iteration:89.0\n",
      "iteration:90.0\n",
      "iteration:91.0\n",
      "Optimization terminated successfully.\n",
      "         Current function value: 0.215147\n",
      "         Iterations: 92\n",
      "         Function evaluations: 162260\n",
      "         Gradient evaluations: 95\n",
      "Current z00.850\n",
      "iteration:0.0\n",
      "iteration:1.0\n",
      "iteration:2.0\n",
      "iteration:3.0\n",
      "iteration:4.0\n",
      "iteration:5.0\n",
      "iteration:6.0\n",
      "iteration:7.0\n",
      "iteration:8.0\n",
      "iteration:9.0\n",
      "iteration:10.0\n",
      "iteration:11.0\n",
      "iteration:12.0\n",
      "iteration:13.0\n",
      "iteration:14.0\n",
      "iteration:15.0\n",
      "iteration:16.0\n",
      "iteration:17.0\n",
      "iteration:18.0\n",
      "iteration:19.0\n",
      "iteration:20.0\n",
      "iteration:21.0\n",
      "iteration:22.0\n",
      "iteration:23.0\n",
      "iteration:24.0\n",
      "iteration:25.0\n",
      "iteration:26.0\n",
      "iteration:27.0\n",
      "iteration:28.0\n",
      "iteration:29.0\n",
      "iteration:30.0\n",
      "iteration:31.0\n",
      "iteration:32.0\n",
      "iteration:33.0\n",
      "iteration:34.0\n",
      "iteration:35.0\n",
      "iteration:36.0\n",
      "iteration:37.0\n",
      "iteration:38.0\n",
      "iteration:39.0\n",
      "iteration:40.0\n",
      "iteration:41.0\n",
      "iteration:42.0\n",
      "iteration:43.0\n",
      "iteration:44.0\n",
      "iteration:45.0\n",
      "iteration:46.0\n",
      "iteration:47.0\n",
      "iteration:48.0\n",
      "iteration:49.0\n",
      "iteration:50.0\n",
      "iteration:51.0\n",
      "iteration:52.0\n",
      "iteration:53.0\n",
      "iteration:54.0\n",
      "iteration:55.0\n",
      "iteration:56.0\n",
      "iteration:57.0\n",
      "iteration:58.0\n",
      "iteration:59.0\n",
      "iteration:60.0\n",
      "iteration:61.0\n",
      "iteration:62.0\n",
      "iteration:63.0\n",
      "iteration:64.0\n",
      "iteration:65.0\n",
      "iteration:66.0\n",
      "iteration:67.0\n",
      "iteration:68.0\n",
      "iteration:69.0\n",
      "iteration:70.0\n",
      "iteration:71.0\n",
      "iteration:72.0\n",
      "iteration:73.0\n",
      "iteration:74.0\n",
      "iteration:75.0\n",
      "iteration:76.0\n",
      "iteration:77.0\n",
      "iteration:78.0\n",
      "iteration:79.0\n",
      "iteration:80.0\n",
      "iteration:81.0\n",
      "iteration:82.0\n",
      "iteration:83.0\n",
      "iteration:84.0\n",
      "iteration:85.0\n",
      "iteration:86.0\n",
      "iteration:87.0\n",
      "iteration:88.0\n",
      "iteration:89.0\n",
      "iteration:90.0\n",
      "iteration:91.0\n",
      "iteration:92.0\n",
      "iteration:93.0\n",
      "iteration:94.0\n",
      "Optimization terminated successfully.\n",
      "         Current function value: 0.495116\n",
      "         Iterations: 95\n",
      "         Function evaluations: 167384\n",
      "         Gradient evaluations: 98\n",
      "Current z01.000\n",
      "Optimization terminated successfully.\n",
      "         Current function value: 0.000000\n",
      "         Iterations: 0\n",
      "         Function evaluations: 1708\n",
      "         Gradient evaluations: 1\n",
      "Current z01.050\n",
      "iteration:0.0\n",
      "iteration:1.0\n",
      "iteration:2.0\n",
      "iteration:3.0\n",
      "iteration:4.0\n",
      "iteration:5.0\n",
      "iteration:6.0\n",
      "iteration:7.0\n",
      "iteration:8.0\n",
      "iteration:9.0\n",
      "iteration:10.0\n",
      "iteration:11.0\n",
      "iteration:12.0\n",
      "iteration:13.0\n",
      "iteration:14.0\n",
      "iteration:15.0\n",
      "iteration:16.0\n",
      "iteration:17.0\n",
      "iteration:18.0\n",
      "iteration:19.0\n",
      "iteration:20.0\n",
      "iteration:21.0\n",
      "iteration:22.0\n",
      "iteration:23.0\n",
      "iteration:24.0\n",
      "iteration:25.0\n",
      "iteration:26.0\n",
      "iteration:27.0\n",
      "iteration:28.0\n",
      "iteration:29.0\n",
      "iteration:30.0\n",
      "iteration:31.0\n",
      "iteration:32.0\n",
      "iteration:33.0\n",
      "iteration:34.0\n",
      "iteration:35.0\n",
      "iteration:36.0\n",
      "iteration:37.0\n",
      "iteration:38.0\n",
      "iteration:39.0\n",
      "iteration:40.0\n",
      "iteration:41.0\n",
      "iteration:42.0\n",
      "iteration:43.0\n",
      "iteration:44.0\n",
      "iteration:45.0\n",
      "iteration:46.0\n",
      "iteration:47.0\n",
      "iteration:48.0\n",
      "iteration:49.0\n",
      "iteration:50.0\n",
      "iteration:51.0\n",
      "iteration:52.0\n",
      "iteration:53.0\n",
      "iteration:54.0\n",
      "iteration:55.0\n",
      "iteration:56.0\n",
      "iteration:57.0\n",
      "iteration:58.0\n",
      "iteration:59.0\n",
      "iteration:60.0\n",
      "iteration:61.0\n",
      "iteration:62.0\n",
      "iteration:63.0\n",
      "iteration:64.0\n",
      "iteration:65.0\n",
      "iteration:66.0\n",
      "iteration:67.0\n",
      "iteration:68.0\n",
      "iteration:69.0\n",
      "iteration:70.0\n",
      "iteration:71.0\n",
      "iteration:72.0\n",
      "iteration:73.0\n",
      "iteration:74.0\n",
      "iteration:75.0\n",
      "iteration:76.0\n",
      "iteration:77.0\n",
      "iteration:78.0\n",
      "iteration:79.0\n",
      "iteration:80.0\n",
      "iteration:81.0\n",
      "iteration:82.0\n",
      "iteration:83.0\n",
      "iteration:84.0\n",
      "iteration:85.0\n",
      "iteration:86.0\n",
      "iteration:87.0\n",
      "iteration:88.0\n",
      "iteration:89.0\n",
      "iteration:90.0\n",
      "Optimization terminated successfully.\n",
      "         Current function value: 0.050781\n",
      "         Iterations: 91\n",
      "         Function evaluations: 160552\n",
      "         Gradient evaluations: 94\n",
      "Current z01.100\n",
      "iteration:0.0\n",
      "iteration:1.0\n",
      "iteration:2.0\n",
      "iteration:3.0\n",
      "iteration:4.0\n",
      "iteration:5.0\n",
      "iteration:6.0\n",
      "iteration:7.0\n",
      "iteration:8.0\n",
      "iteration:9.0\n",
      "iteration:10.0\n",
      "iteration:11.0\n",
      "iteration:12.0\n",
      "iteration:13.0\n",
      "iteration:14.0\n",
      "iteration:15.0\n",
      "iteration:16.0\n",
      "iteration:17.0\n",
      "iteration:18.0\n",
      "iteration:19.0\n",
      "iteration:20.0\n",
      "iteration:21.0\n",
      "iteration:22.0\n",
      "iteration:23.0\n",
      "iteration:24.0\n",
      "iteration:25.0\n",
      "iteration:26.0\n",
      "iteration:27.0\n",
      "iteration:28.0\n",
      "iteration:29.0\n",
      "iteration:30.0\n",
      "iteration:31.0\n",
      "iteration:32.0\n",
      "iteration:33.0\n",
      "iteration:34.0\n",
      "iteration:35.0\n",
      "iteration:36.0\n",
      "iteration:37.0\n",
      "iteration:38.0\n",
      "iteration:39.0\n",
      "iteration:40.0\n",
      "iteration:41.0\n",
      "iteration:42.0\n",
      "iteration:43.0\n",
      "iteration:44.0\n",
      "iteration:45.0\n",
      "iteration:46.0\n",
      "iteration:47.0\n",
      "iteration:48.0\n",
      "iteration:49.0\n",
      "iteration:50.0\n",
      "iteration:51.0\n",
      "iteration:52.0\n",
      "iteration:53.0\n",
      "iteration:54.0\n",
      "iteration:55.0\n",
      "iteration:56.0\n",
      "iteration:57.0\n",
      "iteration:58.0\n",
      "iteration:59.0\n",
      "iteration:60.0\n",
      "iteration:61.0\n",
      "iteration:62.0\n",
      "iteration:63.0\n",
      "iteration:64.0\n",
      "iteration:65.0\n",
      "iteration:66.0\n",
      "iteration:67.0\n",
      "iteration:68.0\n",
      "iteration:69.0\n",
      "iteration:70.0\n",
      "iteration:71.0\n",
      "iteration:72.0\n",
      "iteration:73.0\n",
      "iteration:74.0\n",
      "iteration:75.0\n",
      "iteration:76.0\n",
      "iteration:77.0\n",
      "iteration:78.0\n",
      "iteration:79.0\n",
      "iteration:80.0\n",
      "iteration:81.0\n",
      "iteration:82.0\n",
      "iteration:83.0\n",
      "iteration:84.0\n",
      "iteration:85.0\n",
      "iteration:86.0\n",
      "iteration:87.0\n",
      "iteration:88.0\n",
      "iteration:89.0\n",
      "iteration:90.0\n",
      "iteration:91.0\n",
      "Optimization terminated successfully.\n",
      "         Current function value: 0.199801\n",
      "         Iterations: 92\n",
      "         Function evaluations: 162260\n",
      "         Gradient evaluations: 95\n",
      "Current z01.150\n"
     ]
    },
    {
     "name": "stdout",
     "output_type": "stream",
     "text": [
      "iteration:0.0\n",
      "iteration:1.0\n",
      "iteration:2.0\n",
      "iteration:3.0\n",
      "iteration:4.0\n",
      "iteration:5.0\n",
      "iteration:6.0\n",
      "iteration:7.0\n",
      "iteration:8.0\n",
      "iteration:9.0\n",
      "iteration:10.0\n",
      "iteration:11.0\n",
      "iteration:12.0\n",
      "iteration:13.0\n",
      "iteration:14.0\n",
      "iteration:15.0\n",
      "iteration:16.0\n",
      "iteration:17.0\n",
      "iteration:18.0\n",
      "iteration:19.0\n",
      "iteration:20.0\n",
      "iteration:21.0\n",
      "iteration:22.0\n",
      "iteration:23.0\n",
      "iteration:24.0\n",
      "iteration:25.0\n",
      "iteration:26.0\n",
      "iteration:27.0\n",
      "iteration:28.0\n",
      "iteration:29.0\n",
      "iteration:30.0\n",
      "iteration:31.0\n",
      "iteration:32.0\n",
      "iteration:33.0\n",
      "iteration:34.0\n",
      "iteration:35.0\n",
      "iteration:36.0\n",
      "iteration:37.0\n",
      "iteration:38.0\n",
      "iteration:39.0\n",
      "iteration:40.0\n",
      "iteration:41.0\n",
      "iteration:42.0\n",
      "iteration:43.0\n",
      "iteration:44.0\n",
      "iteration:45.0\n",
      "iteration:46.0\n",
      "iteration:47.0\n",
      "iteration:48.0\n",
      "iteration:49.0\n",
      "iteration:50.0\n",
      "iteration:51.0\n",
      "iteration:52.0\n",
      "iteration:53.0\n",
      "iteration:54.0\n",
      "iteration:55.0\n",
      "iteration:56.0\n",
      "iteration:57.0\n",
      "iteration:58.0\n",
      "iteration:59.0\n",
      "iteration:60.0\n",
      "iteration:61.0\n",
      "iteration:62.0\n",
      "iteration:63.0\n",
      "iteration:64.0\n",
      "iteration:65.0\n",
      "iteration:66.0\n",
      "iteration:67.0\n",
      "iteration:68.0\n",
      "iteration:69.0\n",
      "iteration:70.0\n",
      "iteration:71.0\n",
      "iteration:72.0\n",
      "iteration:73.0\n",
      "iteration:74.0\n",
      "iteration:75.0\n",
      "iteration:76.0\n",
      "iteration:77.0\n",
      "iteration:78.0\n",
      "iteration:79.0\n",
      "iteration:80.0\n",
      "iteration:81.0\n",
      "iteration:82.0\n",
      "iteration:83.0\n",
      "iteration:84.0\n",
      "iteration:85.0\n",
      "iteration:86.0\n",
      "iteration:87.0\n",
      "iteration:88.0\n",
      "iteration:89.0\n",
      "iteration:90.0\n",
      "iteration:91.0\n",
      "Optimization terminated successfully.\n",
      "         Current function value: 0.442693\n",
      "         Iterations: 92\n",
      "         Function evaluations: 162260\n",
      "         Gradient evaluations: 95\n"
     ]
    }
   ],
   "source": [
    "# make the preferred rest lengths of the interior springs\n",
    "interiorpairs=InputMesh.points[interiorbonds]\n",
    "interiorvecs = np.subtract(interiorpairs[:,0,:],interiorpairs[:,1,:])\n",
    "InteriorBondRestLengths=np.linalg.norm(interiorvecs,axis=1)\n",
    "\n",
    "# make the preferred rest lengths of the edge springs. Initially have the at g0=1, but then\n",
    "#update them in the loop\n",
    "edgepairs=InputMesh.points[edgebonds]\n",
    "edgevecs = np.subtract(edgepairs[:,0,:],edgepairs[:,1,:])\n",
    "EdgeBondRestLengths=np.linalg.norm(edgevecs,axis=1)\n",
    "  \n",
    "r0_ij=np.concatenate((InteriorBondRestLengths,EdgeBondRestLengths))\n",
    "\n",
    "# The volume constraint is simply that the target volume should be the initial volume\n",
    "TargetVolumes=Volume3D_tetras(InputMesh.points,tetras)\n",
    "\n",
    "for mode in (\"Compression\",\"Extension\"):\n",
    "    Pout_ij =InputMesh.points\n",
    "    if mode==\"Extension\":\n",
    "        z0range=np.arange(1,1.2,0.05)\n",
    "    elif mode==\"Compression\":\n",
    "        z0range=np.arange(1,0.8,-0.05)\n",
    "        \n",
    "    for z0 in z0range:\n",
    "\n",
    "        print(\"Current z0\"+\"{0:0.3f}\".format(z0))\n",
    "\n",
    "        # minimize\n",
    "        history=[]\n",
    "        #ModuliiEnergy(P,TopLayer,BottomLayer,bondlist,tetras,r0_ij,khook,B,MatNon,TargetVolumes,z0=None,E=None,Fz=None):   \n",
    "        Pout_ij = opt.minimize(ModuliiEnergyDisplacement, Pout_ij.ravel()\n",
    "                                ,callback=mycallback\n",
    "                                ,options={'gtol':1e-03,'disp': True}  \n",
    "                                ,args=(TopLayer\n",
    "                                      ,BottomLayer\n",
    "                                      ,bonds\n",
    "                                      ,tetras\n",
    "                                      ,r0_ij\n",
    "                                      ,khook\n",
    "                                      ,B\n",
    "                                      ,MatNon\n",
    "                                      ,TargetVolumes\n",
    "                                      ,z0\n",
    "                                      ,E)\n",
    "                               ).x.reshape((-1, 3))\n",
    "\n",
    "\n",
    "        Name=\"z0_\"+\"{0:0.3f}\".format(z0)+\".vtk\"\n",
    "        CalibrationOutput3D(Name\n",
    "                            ,DataFolder\n",
    "                            ,OutputMesh\n",
    "                            ,Pout_ij\n",
    "                            ,bonds\n",
    "                            ,orientedboundarytris\n",
    "                            ,tetras\n",
    "                            ,r0_ij\n",
    "                            ,khook\n",
    "                            ,B\n",
    "                            ,MatNon\n",
    "                            ,TargetVolumes\n",
    "                            ,TopLayer\n",
    "                            ,BottomLayer\n",
    "                            ,z0\n",
    "                            ,E)\n"
   ]
  },
  {
   "cell_type": "markdown",
   "metadata": {},
   "source": [
    "# Analysis"
   ]
  },
  {
   "cell_type": "code",
   "execution_count": 12,
   "metadata": {},
   "outputs": [],
   "source": [
    "import meshio\n",
    "import os\n",
    "import matplotlib.pyplot as plt\n",
    "import numpy as np\n",
    "from AnalysisFunctions import *\n",
    "import glob\n",
    "import re\n",
    "from collections import namedtuple\n",
    "from scipy.optimize import curve_fit"
   ]
  },
  {
   "cell_type": "code",
   "execution_count": 13,
   "metadata": {},
   "outputs": [],
   "source": [
    "dataarray=np.loadtxt(DataFolder+\"OutputSummary.log\",skiprows=1)\n",
    "dataarray=dataarray[dataarray[:,0].argsort()]\n",
    "data=namedtuple('data','lam Volume TotalEnergy')\n",
    "data.Volume=dataarray[:,1]\n",
    "data.lam=dataarray[:,3]\n",
    "data.TotalEnergy=dataarray[:,4]"
   ]
  },
  {
   "cell_type": "code",
   "execution_count": 14,
   "metadata": {},
   "outputs": [
    {
     "data": {
      "text/plain": [
       "[<matplotlib.lines.Line2D at 0x7f5f792d0a00>]"
      ]
     },
     "execution_count": 14,
     "metadata": {},
     "output_type": "execute_result"
    },
    {
     "data": {
      "image/png": "[encoded data removed]",
      "text/plain": [
       "<Figure size 432x288 with 1 Axes>"
      ]
     },
     "metadata": {
      "needs_background": "light"
     },
     "output_type": "display_data"
    }
   ],
   "source": [
    "plt.plot(data.lam,data.Volume,marker='o')"
   ]
  },
  {
   "cell_type": "code",
   "execution_count": 15,
   "metadata": {},
   "outputs": [
    {
     "data": {
      "text/plain": [
       "Text(0.5, 1.0, 'Extension against energy per unit volume')"
      ]
     },
     "execution_count": 15,
     "metadata": {},
     "output_type": "execute_result"
    },
    {
     "data": {
      "image/png": "[encoded data removed]",
      "text/plain": [
       "<Figure size 432x288 with 1 Axes>"
      ]
     },
     "metadata": {
      "needs_background": "light"
     },
     "output_type": "display_data"
    }
   ],
   "source": [
    "plt.plot(data.lam,data.TotalEnergy/data.Volume,marker='o')\n",
    "plt.xlabel(\"$\\lambda$\")\n",
    "plt.ylabel(\"$E/V$\")\n",
    "plt.title(\"Extension against energy per unit volume\")"
   ]
  },
  {
   "cell_type": "markdown",
   "metadata": {},
   "source": [
    "# Estimate shear modulus:"
   ]
  },
  {
   "cell_type": "markdown",
   "metadata": {},
   "source": [
    "Expectation: $E = (\\frac{3}{2} \\mu \\epsilon^2)V$, where $\\epsilon=\\lambda-1$"
   ]
  },
  {
   "cell_type": "code",
   "execution_count": 16,
   "metadata": {
    "scrolled": true
   },
   "outputs": [
    {
     "data": {
      "text/plain": [
       "[<matplotlib.lines.Line2D at 0x7f5f79678fd0>]"
      ]
     },
     "execution_count": 16,
     "metadata": {},
     "output_type": "execute_result"
    },
    {
     "data": {
      "image/png": "[encoded data removed]",
      "text/plain": [
       "<Figure size 432x288 with 1 Axes>"
      ]
     },
     "metadata": {
      "needs_background": "light"
     },
     "output_type": "display_data"
    }
   ],
   "source": [
    "epsilon=(data.lam-1)[:]\n",
    "EoverV=data.TotalEnergy[:]/data.Volume[:]\n",
    "plt.plot(epsilon,EoverV,marker='o')"
   ]
  },
  {
   "cell_type": "code",
   "execution_count": 17,
   "metadata": {},
   "outputs": [],
   "source": [
    "def func(epsilon,mu):\n",
    "    return (3/2)*mu*(epsilon**2)"
   ]
  },
  {
   "cell_type": "code",
   "execution_count": 18,
   "metadata": {},
   "outputs": [],
   "source": [
    "popt,pcov=curve_fit(func,epsilon,EoverV)"
   ]
  },
  {
   "cell_type": "code",
   "execution_count": 19,
   "metadata": {},
   "outputs": [],
   "source": [
    "xFit=np.arange(-0.2,0.2,0.01)"
   ]
  },
  {
   "cell_type": "code",
   "execution_count": 20,
   "metadata": {},
   "outputs": [
    {
     "data": {
      "text/plain": [
       "[<matplotlib.lines.Line2D at 0x7f5f79612460>]"
      ]
     },
     "execution_count": 20,
     "metadata": {},
     "output_type": "execute_result"
    },
    {
     "data": {
      "image/png": "[encoded data removed]",
      "text/plain": [
       "<Figure size 432x288 with 1 Axes>"
      ]
     },
     "metadata": {
      "needs_background": "light"
     },
     "output_type": "display_data"
    }
   ],
   "source": [
    "plt.plot(epsilon,EoverV,marker='o')\n",
    "plt.plot(xFit,func(xFit,popt))"
   ]
  },
  {
   "cell_type": "code",
   "execution_count": 21,
   "metadata": {},
   "outputs": [
    {
     "data": {
      "text/plain": [
       "array([0.22061324])"
      ]
     },
     "execution_count": 21,
     "metadata": {},
     "output_type": "execute_result"
    }
   ],
   "source": [
    "popt"
   ]
  },
  {
   "cell_type": "markdown",
   "metadata": {},
   "source": [
    "Conclusion: looks like the shear modulus here is $4.6$. A naive scaling argument suggests that $\\mu = k_\\mathrm{hook}/a$, where $a$ is the typical lattice size. Here, $k_{hook}=1$, $a=0.2$, so $\\mu \\approx 5$. So it does appear, indeed, that there is an $O(1)$ prefactor here."
   ]
  },
  {
   "cell_type": "markdown",
   "metadata": {},
   "source": [
    "# Get a NeoHookean Fit"
   ]
  },
  {
   "cell_type": "code",
   "execution_count": 22,
   "metadata": {},
   "outputs": [
    {
     "data": {
      "text/plain": [
       "[<matplotlib.lines.Line2D at 0x7f5f79f933a0>]"
      ]
     },
     "execution_count": 22,
     "metadata": {},
     "output_type": "execute_result"
    },
    {
     "data": {
      "image/png": "[encoded data removed]",
      "text/plain": [
       "<Figure size 432x288 with 1 Axes>"
      ]
     },
     "metadata": {
      "needs_background": "light"
     },
     "output_type": "display_data"
    }
   ],
   "source": [
    "lam=data.lam\n",
    "EoverV=data.TotalEnergy[:]/data.Volume[:]\n",
    "plt.plot(lam,EoverV,marker='o')"
   ]
  },
  {
   "cell_type": "code",
   "execution_count": 23,
   "metadata": {},
   "outputs": [],
   "source": [
    "def func(lam,mu):\n",
    "    return (1/2)*mu*((2/lam)+(lam**2)-3)"
   ]
  },
  {
   "cell_type": "code",
   "execution_count": 24,
   "metadata": {},
   "outputs": [
    {
     "name": "stderr",
     "output_type": "stream",
     "text": [
      "<ipython-input-23-fcb414e2389e>:2: RuntimeWarning: divide by zero encountered in true_divide\n",
      "  return (1/2)*mu*((2/lam)+(lam**2)-3)\n",
      "/home/jackbinysh/miniconda3/lib/python3.8/site-packages/scipy/optimize/minpack.py:828: OptimizeWarning: Covariance of the parameters could not be estimated\n",
      "  warnings.warn('Covariance of the parameters could not be estimated',\n"
     ]
    }
   ],
   "source": [
    "popt,pcov=curve_fit(func,lam,EoverV)"
   ]
  },
  {
   "cell_type": "code",
   "execution_count": 25,
   "metadata": {},
   "outputs": [
    {
     "data": {
      "text/plain": [
       "[<matplotlib.lines.Line2D at 0x7f5f796c0160>]"
      ]
     },
     "execution_count": 25,
     "metadata": {},
     "output_type": "execute_result"
    },
    {
     "data": {
      "image/png": "[encoded data removed]",
      "text/plain": [
       "<Figure size 432x288 with 1 Axes>"
      ]
     },
     "metadata": {
      "needs_background": "light"
     },
     "output_type": "display_data"
    }
   ],
   "source": [
    "xFit=np.arange(0.4,2,0.1)\n",
    "plt.plot(lam,EoverV,marker='o')\n",
    "plt.plot(xFit,func(xFit,popt[0]))"
   ]
  },
  {
   "cell_type": "code",
   "execution_count": 26,
   "metadata": {},
   "outputs": [
    {
     "data": {
      "text/plain": [
       "array([1.])"
      ]
     },
     "execution_count": 26,
     "metadata": {},
     "output_type": "execute_result"
    }
   ],
   "source": [
    "popt"
   ]
  }
 ],
 "metadata": {
  "kernelspec": {
   "display_name": "Python 3",
   "language": "python",
   "name": "python3"
  },
  "language_info": {
   "codemirror_mode": {
    "name": "ipython",
    "version": 3
   },
   "file_extension": ".py",
   "mimetype": "text/x-python",
   "name": "python",
   "nbconvert_exporter": "python",
   "pygments_lexer": "ipython3",
   "version": "3.8.3"
  }
 },
 "nbformat": 4,
 "nbformat_minor": 4
}
