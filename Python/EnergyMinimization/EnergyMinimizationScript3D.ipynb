{
 "cells": [
  {
   "cell_type": "code",
   "execution_count": null,
   "metadata": {},
   "outputs": [],
   "source": [
    "import meshio\n",
    "import pygalmesh\n",
    "import numpy as np\n",
    "import copy\n",
    "import glob\n",
    "#from mshr import *\n",
    "#from dolfin import *\n",
    "from collections import Counter\n",
    "import matplotlib.pyplot as plt\n",
    "import os\n",
    "import json\n",
    "import shutil\n",
    "import scipy.optimize as opt\n",
    "from EnergyMinimization import *"
   ]
  },
  {
   "cell_type": "markdown",
   "metadata": {},
   "source": [
    "# Initialisation"
   ]
  },
  {
   "cell_type": "markdown",
   "metadata": {},
   "source": [
    "User settings: What are the continuum parameters we want? In 2D, we know that the elastic modulii are proportional to the microscopic spring constant. We also know that the continuum and microscopic momdulii are related by a lattice space: $\\mu = O(1) k$, $k_c = k_d a$. Since I dont know any better, for know I will just set k to mu."
   ]
  },
  {
   "cell_type": "code",
   "execution_count": null,
   "metadata": {},
   "outputs": [],
   "source": [
    "# Target mesh size:\n",
    "target_a = 0.2\n",
    "# continuum bending modulus:\n",
    "kc=1\n",
    "# continuum shear modulus:\n",
    "mu=1\n",
    "# Energetic penalty for volume change\n",
    "B=10\n",
    "# the spring prestress values \n",
    "g0start=1.0\n",
    "g0end=0.7\n",
    "g0step=-0.1\n",
    "\n",
    "# The microscopic values\n",
    "kd=kc/target_a\n",
    "k = mu\n",
    "theta0=np.pi"
   ]
  },
  {
   "cell_type": "markdown",
   "metadata": {},
   "source": [
    "Setting up the experiment:"
   ]
  },
  {
   "cell_type": "code",
   "execution_count": null,
   "metadata": {},
   "outputs": [],
   "source": [
    "# root folder for data\n",
    "DataFolder=os.getcwd()+'/Data/'\n",
    "# Folder for the run data\n",
    "#RunFolder=\"kc_\"+\"{0:0.1f}\".format(kc)+\"_B_\"+\"{0:0.1f}\".format(B)+\"/\"\n",
    "RunFolder=\"Scratch/\"\n",
    "# Name of the run\n",
    "RunName=\"\"\n",
    "# Name of the current file\n",
    "ScriptName=\"EnergyMinimizationScript3D.ipynb\""
   ]
  },
  {
   "cell_type": "code",
   "execution_count": null,
   "metadata": {},
   "outputs": [],
   "source": [
    "path = DataFolder+RunFolder\n",
    "# make the folder \n",
    "try:\n",
    "    os.mkdir(path)\n",
    "except OSError:\n",
    "    print (\"Creation of the directory %s failed\" % path)\n",
    "else:\n",
    "    print (\"Successfully created the directory %s \" % path)\n",
    "    \n",
    "# try and clear out the folder of vtk files and log files, if there was a previous run in it\n",
    "for filename in glob.glob(path+'*.vtk')+glob.glob(path+'*.log'):\n",
    "    file_path = os.path.join(path, filename)\n",
    "    try:\n",
    "        if os.path.isfile(file_path) or os.path.islink(file_path):\n",
    "            os.unlink(file_path)\n",
    "        elif os.path.isdir(file_path):\n",
    "            shutil.rmtree(file_path)\n",
    "    except Exception as e:\n",
    "        print('Failed to delete %s. Reason: %s' % (file_path, e))\n",
    "                \n",
    "#Dump all the parameters to a file in the run folder        \n",
    "f=open(DataFolder+RunFolder+\"Parameters.log\",\"w+\")\n",
    "datadict= { \n",
    "        \"a\":target_a,\n",
    "        \"kc\":kc, \n",
    "        \"B\":B,\n",
    "        \"mu\":mu,\n",
    "        \"g0start\":g0start,\n",
    "        \"g0end\":g0end,\n",
    "}\n",
    "json.dump(datadict,f)\n",
    "f.close()\n",
    "\n",
    "# and for good measure, dump a copy of this code into the data file too\n",
    "shutil.copyfile(ScriptName,DataFolder+RunFolder+ScriptName)"
   ]
  },
  {
   "cell_type": "markdown",
   "metadata": {},
   "source": [
    "# Making the Mesh"
   ]
  },
  {
   "cell_type": "markdown",
   "metadata": {},
   "source": [
    "Make the mesh, write it out to the folder"
   ]
  },
  {
   "cell_type": "code",
   "execution_count": null,
   "metadata": {},
   "outputs": [],
   "source": [
    "InputMesh= MakeDolfinMesh3D(0.5*target_a,120)\n",
    "OutputMesh = copy.deepcopy(InputMesh)\n",
    "InputMesh.write(DataFolder+RunFolder+RunName+\"InputMesh.vtk\")"
   ]
  },
  {
   "cell_type": "markdown",
   "metadata": {},
   "source": [
    "Make the bond lists etc."
   ]
  },
  {
   "cell_type": "code",
   "execution_count": null,
   "metadata": {},
   "outputs": [],
   "source": [
    "interiorbonds,edgebonds,boundarytris, bidxTotidx= MakeMeshData3D(InputMesh)\n",
    "bonds=np.concatenate((interiorbonds,edgebonds))"
   ]
  },
  {
   "cell_type": "markdown",
   "metadata": {},
   "source": [
    "Check out the Mesh. One of the lessons learnt is that you shouldnt have much of a spread in the intial edge lengths"
   ]
  },
  {
   "cell_type": "code",
   "execution_count": null,
   "metadata": {
    "scrolled": true
   },
   "outputs": [],
   "source": [
    "edgelengths= MakeBondHist(InputMesh.points,edgebonds)\n",
    "np.mean(edgelengths)"
   ]
  },
  {
   "cell_type": "code",
   "execution_count": null,
   "metadata": {},
   "outputs": [],
   "source": [
    "theta_0=0\n",
    "BendingEnergy(InputMesh.points,boundarytris,bidxTotidx,kc,theta_0).sum()"
   ]
  },
  {
   "cell_type": "markdown",
   "metadata": {},
   "source": [
    "# Energy Minimization"
   ]
  },
  {
   "cell_type": "code",
   "execution_count": null,
   "metadata": {},
   "outputs": [],
   "source": [
    "def mycallback(xi):\n",
    "    counter=len(history)\n",
    "    history.append(xi)\n",
    "    tempP = xi.reshape((-1, 3))\n",
    "    \n",
    "    # stuff to screen\n",
    "    #print(\"iteration:\"+\"{0:0.1f}\".format(counter)+\"Total Area:\" + \"{0:0.2f}\".format(vTotalArea(tempP,triangles)))\n",
    "    print(\"iteration:\"+\"{0:0.1f}\".format(counter))\n",
    "\n",
    "    #output for visualisation\n",
    "    OutputMesh.points = tempP           \n",
    "    OutputMesh.write(DataFolder+RunFolder+RunName+\"TempOutput\"+\"Output\"+\"{0:0.1f}\".format(g0)+\"_\"+str(counter)+\".vtk\",binary=True)"
   ]
  },
  {
   "cell_type": "code",
   "execution_count": null,
   "metadata": {
    "scrolled": true
   },
   "outputs": [],
   "source": [
    "# initial input points. Pout changes over time\n",
    "Pout_ij =InputMesh.points\n",
    "N = len(Pout_ij)\n",
    "\n",
    "for g0 in np.arange(g0start,g0end,g0step):\n",
    "    \n",
    "    print(\"Current g0\"+\"{0:0.1f}\".format(g0))\n",
    "    \n",
    "    # make the new preferred rest lengths of all the springs\n",
    "    \n",
    "    g0int=g0\n",
    "    interiorpairs=InputMesh.points[interiorbonds]\n",
    "    interiorvecs = np.subtract(interiorpairs[:,0,:],interiorpairs[:,1,:])\n",
    "    InteriorBondRestLengths=g0int*np.linalg.norm(interiorvecs,axis=1)\n",
    "\n",
    "    edgepairs=InputMesh.points[edgebonds]\n",
    "    edgevecs = np.subtract(edgepairs[:,0,:],edgepairs[:,1,:])\n",
    "    EdgeBondRestLengths=np.linalg.norm(edgevecs,axis=1)\n",
    "    # the important bit! Giving it the prestress\n",
    "    EdgeBondRestLengths= g0*EdgeBondRestLengths\n",
    "\n",
    "    r0_ij=np.concatenate((InteriorBondRestLengths,EdgeBondRestLengths))\n",
    "    \n",
    "\n",
    "    # minimize\n",
    "    history=[]\n",
    "    Pout_ij = opt.minimize(energy3D, Pout_ij.ravel()\n",
    "                           ,args=(bonds,r0_ij,k)\n",
    "                           ,callback=mycallback\n",
    "                           ,options={'disp': True}).x.reshape((-1, 3))\n",
    "   \n",
    "\n",
    "    # stuff to screen\n",
    "    #print(\"Total Area:\" + \"{0:0.2f}\".format(vTotalArea(Pout_ij,triangles)))\n",
    "\n",
    "    # write the output \n",
    "    OutputMesh.points= Pout_ij  \n",
    "    OutputMesh.write(DataFolder+RunFolder+RunName+\"g0_\"+\"{0:0.1f}\".format(g0)+\".vtk\",binary=True)  \n"
   ]
  }
 ],
 "metadata": {
  "kernelspec": {
   "display_name": "Python 3",
   "language": "python",
   "name": "python3"
  },
  "language_info": {
   "codemirror_mode": {
    "name": "ipython",
    "version": 3
   },
   "file_extension": ".py",
   "mimetype": "text/x-python",
   "name": "python",
   "nbconvert_exporter": "python",
   "pygments_lexer": "ipython3",
   "version": "3.8.3"
  }
 },
 "nbformat": 4,
 "nbformat_minor": 4
}
