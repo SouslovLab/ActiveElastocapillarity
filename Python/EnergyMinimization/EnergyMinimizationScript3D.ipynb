{
 "cells": [
  {
   "cell_type": "code",
   "execution_count": null,
   "metadata": {},
   "outputs": [],
   "source": [
    "import meshio\n",
    "import pygalmesh\n",
    "import numpy as np\n",
    "import copy\n",
    "import glob\n",
    "#from mshr import *\n",
    "#from dolfin import *\n",
    "from collections import Counter\n",
    "import matplotlib.pyplot as plt\n",
    "import os\n",
    "import json\n",
    "import shutil\n",
    "import scipy.optimize as opt\n",
    "from EnergyMinimization import *"
   ]
  },
  {
   "cell_type": "markdown",
   "metadata": {},
   "source": [
    "# Initialisation"
   ]
  },
  {
   "cell_type": "markdown",
   "metadata": {},
   "source": [
    "User settings: What are the continuum parameters we want? In 2D, we know that the elastic modulii are proportional to the microscopic spring constant. We also know that the continuum and microscopic momdulii are related by a lattice space: $\\mu = O(1) k$, $k_c = k_d a$. Since I dont know any better, for know I will just set k to mu."
   ]
  },
  {
   "cell_type": "code",
   "execution_count": null,
   "metadata": {},
   "outputs": [],
   "source": [
    "# Target mesh size:\n",
    "target_a = 0.2\n",
    "# continuum bending modulus:\n",
    "kc=1\n",
    "# continuum shear modulus:\n",
    "mu=1\n",
    "# Energetic penalty for volume change\n",
    "B=10\n",
    "# the spring prestress values \n",
    "g0start=1.0\n",
    "g0end=0.7\n",
    "g0step=-0.1\n",
    "\n",
    "# The microscopic values\n",
    "kd=kc/target_a\n",
    "k = mu\n",
    "theta0=np.pi"
   ]
  },
  {
   "cell_type": "markdown",
   "metadata": {},
   "source": [
    "Setting up the experiment:"
   ]
  },
  {
   "cell_type": "code",
   "execution_count": null,
   "metadata": {},
   "outputs": [],
   "source": [
    "# root folder for data\n",
    "DataFolder=os.getcwd()+'/Data/'\n",
    "# Folder for the run data\n",
    "#RunFolder=\"kc_\"+\"{0:0.1f}\".format(kc)+\"_B_\"+\"{0:0.1f}\".format(B)+\"/\"\n",
    "RunFolder=\"Scratch/\"\n",
    "# Name of the run\n",
    "RunName=\"\"\n",
    "# Name of the current file\n",
    "ScriptName=\"EnergyMinimizationScript3D.ipynb\""
   ]
  },
  {
   "cell_type": "code",
   "execution_count": null,
   "metadata": {},
   "outputs": [],
   "source": [
    "path = DataFolder+RunFolder\n",
    "# make the folder \n",
    "try:\n",
    "    os.mkdir(path)\n",
    "except OSError:\n",
    "    print (\"Creation of the directory %s failed\" % path)\n",
    "else:\n",
    "    print (\"Successfully created the directory %s \" % path)\n",
    "    \n",
    "# try and clear out the folder of vtk files and log files, if there was a previous run in it\n",
    "for filename in glob.glob(path+'*.vtk')+glob.glob(path+'*.log'):\n",
    "    file_path = os.path.join(path, filename)\n",
    "    try:\n",
    "        if os.path.isfile(file_path) or os.path.islink(file_path):\n",
    "            os.unlink(file_path)\n",
    "        elif os.path.isdir(file_path):\n",
    "            shutil.rmtree(file_path)\n",
    "    except Exception as e:\n",
    "        print('Failed to delete %s. Reason: %s' % (file_path, e))\n",
    "                \n",
    "#Dump all the parameters to a file in the run folder        \n",
    "f=open(DataFolder+RunFolder+\"Parameters.log\",\"w+\")\n",
    "datadict= { \n",
    "        \"a\":target_a,\n",
    "        \"kc\":kc, \n",
    "        \"B\":B,\n",
    "        \"mu\":mu,\n",
    "        \"g0start\":g0start,\n",
    "        \"g0end\":g0end,\n",
    "}\n",
    "json.dump(datadict,f)\n",
    "f.close()\n",
    "\n",
    "# and for good measure, dump a copy of this code into the data file too\n",
    "shutil.copyfile(ScriptName,DataFolder+RunFolder+ScriptName)"
   ]
  },
  {
   "cell_type": "markdown",
   "metadata": {},
   "source": [
    "# Making the Mesh"
   ]
  },
  {
   "cell_type": "markdown",
   "metadata": {},
   "source": [
    "Make the mesh, write it out to the folder"
   ]
  },
  {
   "cell_type": "code",
   "execution_count": null,
   "metadata": {},
   "outputs": [],
   "source": [
    "InputMesh= MakeDolfinMesh3D(0.5*target_a,120)\n",
    "OutputMesh = copy.deepcopy(InputMesh)\n",
    "InputMesh.write(DataFolder+RunFolder+RunName+\"InputMesh.vtk\")"
   ]
  },
  {
   "cell_type": "markdown",
   "metadata": {},
   "source": [
    "Make the bond lists etc."
   ]
  },
  {
   "cell_type": "code",
   "execution_count": null,
   "metadata": {},
   "outputs": [],
   "source": [
    "interiorbonds,edgebonds,boundarytris, bidxTotidx= MakeMeshData3D(InputMesh)\n",
    "bonds=np.concatenate((interiorbonds,edgebonds))"
   ]
  },
  {
   "cell_type": "markdown",
   "metadata": {},
   "source": [
    "Check out the Mesh. One of the lessons learnt is that you shouldnt have much of a spread in the intial edge lengths"
   ]
  },
  {
   "cell_type": "code",
   "execution_count": null,
   "metadata": {
    "scrolled": true
   },
   "outputs": [],
   "source": [
    "edgelengths= MakeBondHist(InputMesh.points,edgebonds)\n",
    "np.mean(edgelengths)"
   ]
  },
  {
   "cell_type": "code",
   "execution_count": null,
   "metadata": {},
   "outputs": [],
   "source": [
    "theta_0=0\n",
    "BendingEnergy(InputMesh.points,boundarytris,bidxTotidx,kc,theta_0).sum()"
   ]
  },
  {
   "cell_type": "markdown",
   "metadata": {},
   "source": [
    "# Energy Minimization"
   ]
  },
  {
   "cell_type": "code",
   "execution_count": null,
   "metadata": {},
   "outputs": [],
   "source": [
    "def mycallback(xi):\n",
    "    counter=len(history)\n",
    "    history.append(xi)\n",
    "    tempP = xi.reshape((-1, 3))\n",
    "    \n",
    "    # stuff to screen\n",
    "    #print(\"iteration:\"+\"{0:0.1f}\".format(counter)+\"Total Area:\" + \"{0:0.2f}\".format(vTotalArea(tempP,triangles)))\n",
    "    print(\"iteration:\"+\"{0:0.1f}\".format(counter))\n",
    "\n",
    "    #output for visualisation\n",
    "    OutputMesh.points = tempP           \n",
    "    OutputMesh.write(DataFolder+RunFolder+RunName+\"TempOutput\"+\"Output\"+\"{0:0.1f}\".format(g0)+\"_\"+str(counter)+\".vtk\",binary=True)"
   ]
  },
  {
   "cell_type": "code",
   "execution_count": null,
   "metadata": {
    "scrolled": true
   },
   "outputs": [],
   "source": [
    "# initial input points. Pout changes over time\n",
    "Pout_ij =InputMesh.points\n",
    "N = len(Pout_ij)\n",
    "\n",
    "for g0 in np.arange(g0start,g0end,g0step):\n",
    "    \n",
    "    print(\"Current g0\"+\"{0:0.1f}\".format(g0))\n",
    "    \n",
    "    # make the new preferred rest lengths of all the springs\n",
    "    \n",
    "    g0int=g0\n",
    "    interiorpairs=InputMesh.points[interiorbonds]\n",
    "    interiorvecs = np.subtract(interiorpairs[:,0,:],interiorpairs[:,1,:])\n",
    "    InteriorBondRestLengths=g0int*np.linalg.norm(interiorvecs,axis=1)\n",
    "\n",
    "    edgepairs=InputMesh.points[edgebonds]\n",
    "    edgevecs = np.subtract(edgepairs[:,0,:],edgepairs[:,1,:])\n",
    "    EdgeBondRestLengths=np.linalg.norm(edgevecs,axis=1)\n",
    "    # the important bit! Giving it the prestress\n",
    "    EdgeBondRestLengths= g0*EdgeBondRestLengths\n",
    "\n",
    "    r0_ij=np.concatenate((InteriorBondRestLengths,EdgeBondRestLengths))\n",
    "    \n",
    "\n",
    "    # minimize\n",
    "    history=[]\n",
    "    Pout_ij = opt.minimize(energy3D, Pout_ij.ravel()\n",
    "                           ,args=(bonds,r0_ij,k)\n",
    "                           ,callback=mycallback\n",
    "                           ,options={'disp': True}).x.reshape((-1, 3))\n",
    "   \n",
    "\n",
    "    # stuff to screen\n",
    "    #print(\"Total Area:\" + \"{0:0.2f}\".format(vTotalArea(Pout_ij,triangles)))\n",
    "\n",
    "    # write the output \n",
    "    OutputMesh.points= Pout_ij  \n",
    "    OutputMesh.write(DataFolder+RunFolder+RunName+\"g0_\"+\"{0:0.1f}\".format(g0)+\".vtk\",binary=True)  \n"
   ]
  },
  {
   "cell_type": "markdown",
   "metadata": {},
   "source": [
    "# Some checks on the output mesh"
   ]
  },
  {
   "cell_type": "code",
   "execution_count": 1,
   "metadata": {},
   "outputs": [],
   "source": [
    "import meshio\n",
    "import pygalmesh\n",
    "import numpy as np\n",
    "import copy\n",
    "import glob\n",
    "#from mshr import *\n",
    "#from dolfin import *\n",
    "from collections import Counter\n",
    "import matplotlib.pyplot as plt\n",
    "import os\n",
    "import json\n",
    "import shutil\n",
    "import scipy.optimize as opt\n",
    "from EnergyMinimization import *"
   ]
  },
  {
   "cell_type": "code",
   "execution_count": 2,
   "metadata": {},
   "outputs": [],
   "source": [
    "# root folder for data\n",
    "DataFolder=os.getcwd()+'/Data/'\n",
    "# Folder for the run data\n",
    "#RunFolder=\"kc_\"+\"{0:0.1f}\".format(kc)+\"_B_\"+\"{0:0.1f}\".format(B)+\"/\"\n",
    "RunFolder=\"Scratch/\"\n",
    "# Name of the run\n",
    "RunName=\"\""
   ]
  },
  {
   "cell_type": "markdown",
   "metadata": {},
   "source": [
    "## Checking the Spring Energy"
   ]
  },
  {
   "cell_type": "markdown",
   "metadata": {},
   "source": [
    "With just the spring energy enabled, you should see uniform dilation of the bonds to their preferred rest lengths:"
   ]
  },
  {
   "cell_type": "code",
   "execution_count": null,
   "metadata": {},
   "outputs": [],
   "source": [
    "edgelengths= MakeBondHist(InputMesh.points,bonds)\n",
    "np.mean(edgelengths)"
   ]
  },
  {
   "cell_type": "code",
   "execution_count": null,
   "metadata": {},
   "outputs": [],
   "source": [
    "edgelengths= MakeBondHist(OutputMesh.points,bonds)\n",
    "np.mean(edgelengths)"
   ]
  },
  {
   "cell_type": "code",
   "execution_count": null,
   "metadata": {},
   "outputs": [],
   "source": [
    "## Checking we compute area and volume correctly:"
   ]
  },
  {
   "cell_type": "markdown",
   "metadata": {},
   "source": [
    "## Checking the Area Computation"
   ]
  },
  {
   "cell_type": "markdown",
   "metadata": {},
   "source": [
    "### First, check it for a basic cube:"
   ]
  },
  {
   "cell_type": "code",
   "execution_count": null,
   "metadata": {},
   "outputs": [],
   "source": [
    "# make the cube\n",
    "mesh = UnitCubeMesh(1,1,1)\n",
    "points = mesh.coordinates()\n",
    "cells = [(\"tetra\",mesh.cells() )]\n",
    "InputMesh = meshio.Mesh(points,cells)\n",
    "InputMesh.write(DataFolder+RunFolder+RunName+\"InputMesh.vtk\")\n",
    "interiorbonds,edgebonds,boundarytris, bidxTotidx= MakeMeshData3D(InputMesh)"
   ]
  },
  {
   "cell_type": "code",
   "execution_count": null,
   "metadata": {},
   "outputs": [],
   "source": [
    "vTotalArea3D(InputMesh.points,boundarytris)"
   ]
  },
  {
   "cell_type": "markdown",
   "metadata": {},
   "source": [
    "That seems correct."
   ]
  },
  {
   "cell_type": "markdown",
   "metadata": {},
   "source": [
    "### Now lets check it for a sphere:"
   ]
  },
  {
   "cell_type": "markdown",
   "metadata": {},
   "source": [
    "First up, an icosohedron. An icosohedron with vertices (1,0,0) etc. has area $4\\sqrt{3}$"
   ]
  },
  {
   "cell_type": "code",
   "execution_count": 3,
   "metadata": {
    "scrolled": true
   },
   "outputs": [],
   "source": [
    "# Make the mesh, a unit sphere: \n",
    "domain = Sphere(Point(0, 0, 0),1.0,1)\n",
    "mesh = generate_mesh(domain,10)\n",
    "points = mesh.coordinates()\n",
    "cells = [(\"tetra\",mesh.cells() )]\n",
    "InputMesh = meshio.Mesh(points,cells)\n",
    "InputMesh.write(DataFolder+RunFolder+RunName+\"InputMesh.vtk\")"
   ]
  },
  {
   "cell_type": "code",
   "execution_count": 4,
   "metadata": {},
   "outputs": [],
   "source": [
    "interiorbonds,edgebonds,boundarytris, bidxTotidx= MakeMeshData3D(InputMesh)\n",
    "orientedboundarytris=OrientTriangles(InputMesh.points,boundarytris,np.array([0,0,0]))"
   ]
  },
  {
   "cell_type": "code",
   "execution_count": 5,
   "metadata": {},
   "outputs": [
    {
     "data": {
      "text/plain": [
       "6.928203230275509"
      ]
     },
     "execution_count": 5,
     "metadata": {},
     "output_type": "execute_result"
    }
   ],
   "source": [
    "vTotalArea3D(InputMesh.points,orientedboundarytris)"
   ]
  },
  {
   "cell_type": "code",
   "execution_count": 6,
   "metadata": {},
   "outputs": [
    {
     "data": {
      "text/plain": [
       "6.928203230275509"
      ]
     },
     "execution_count": 6,
     "metadata": {},
     "output_type": "execute_result"
    }
   ],
   "source": [
    "4*np.sqrt(3)"
   ]
  },
  {
   "cell_type": "markdown",
   "metadata": {},
   "source": [
    "Now a sphere"
   ]
  },
  {
   "cell_type": "code",
   "execution_count": 21,
   "metadata": {},
   "outputs": [],
   "source": [
    "# Make the mesh, a unit sphere: \n",
    "domain = Sphere(Point(0, 0, 0),1.0,500)\n",
    "mesh = generate_mesh(domain,80)\n",
    "points = mesh.coordinates()\n",
    "cells = [(\"tetra\",mesh.cells() )]\n",
    "InputMesh = meshio.Mesh(points,cells)\n",
    "InputMesh.write(DataFolder+RunFolder+RunName+\"InputMesh.vtk\")"
   ]
  },
  {
   "cell_type": "code",
   "execution_count": 22,
   "metadata": {},
   "outputs": [],
   "source": [
    "interiorbonds,edgebonds,boundarytris, bidxTotidx= MakeMeshData3D(InputMesh)"
   ]
  },
  {
   "cell_type": "code",
   "execution_count": 23,
   "metadata": {},
   "outputs": [
    {
     "data": {
      "text/plain": [
       "12.56376465141872"
      ]
     },
     "execution_count": 23,
     "metadata": {},
     "output_type": "execute_result"
    }
   ],
   "source": [
    "vTotalArea3D(InputMesh.points,boundarytris)"
   ]
  },
  {
   "cell_type": "code",
   "execution_count": 10,
   "metadata": {},
   "outputs": [
    {
     "data": {
      "text/plain": [
       "12.566370614359172"
      ]
     },
     "execution_count": 10,
     "metadata": {},
     "output_type": "execute_result"
    }
   ],
   "source": [
    "4*np.pi"
   ]
  },
  {
   "cell_type": "markdown",
   "metadata": {},
   "source": [
    "These seem pretty close"
   ]
  },
  {
   "cell_type": "markdown",
   "metadata": {},
   "source": [
    "## Checking the Bending Modulus Energy"
   ]
  },
  {
   "cell_type": "markdown",
   "metadata": {},
   "source": [
    " As implemented, the bending modulus approximates the continuum limit $F= \\frac{\\kappa_c}{2}\\int dA(C_1+C_2-C_0)^2 + k_g \\int dA C_1C_2$ for a closed surface, where $C_1$ etc. are the principal curvatures. According to Boal and Rao 1992, the energy of a sphere  without an spontaneous curvature is $\\frac{4\\pi k_{rig}}{\\sqrt{3}}$, where $k_{rig}$ is the microscopic modulus. Lets check this:"
   ]
  },
  {
   "cell_type": "markdown",
   "metadata": {},
   "source": [
    "## First for a cube"
   ]
  },
  {
   "cell_type": "markdown",
   "metadata": {},
   "source": [
    "For a cube with two triangles per face, the expected energy is 12, one unit of energy for each bond at the edges of the cube (i.e. not the ones trianglulating a face)."
   ]
  },
  {
   "cell_type": "code",
   "execution_count": null,
   "metadata": {},
   "outputs": [],
   "source": [
    "mesh = UnitCubeMesh(1,1,1)\n",
    "points = mesh.coordinates()\n",
    "cells = [(\"tetra\",mesh.cells() )]\n",
    "InputMesh = meshio.Mesh(points,cells)\n",
    "InputMesh.write(DataFolder+RunFolder+RunName+\"InputMesh.vtk\")"
   ]
  },
  {
   "cell_type": "code",
   "execution_count": null,
   "metadata": {},
   "outputs": [],
   "source": [
    "interiorbonds,edgebonds,boundarytris, bidxTotidx= MakeMeshData3D(InputMesh)\n",
    "orientedboundarytris=OrientTriangles(InputMesh.points,boundarytris,np.array([0.5,0.5,0.5]))"
   ]
  },
  {
   "cell_type": "code",
   "execution_count": null,
   "metadata": {},
   "outputs": [],
   "source": [
    "theta_0=0\n",
    "kbend=1\n",
    "energies, normals,na,nb= BendingEnergy(InputMesh.points,orientedboundarytris,bidxTotidx,kbend,theta_0)"
   ]
  },
  {
   "cell_type": "code",
   "execution_count": null,
   "metadata": {},
   "outputs": [],
   "source": [
    "energies.sum()"
   ]
  },
  {
   "cell_type": "markdown",
   "metadata": {},
   "source": [
    "## Now for a sphere"
   ]
  },
  {
   "cell_type": "code",
   "execution_count": 31,
   "metadata": {},
   "outputs": [],
   "source": [
    "# Make the mesh, a unit sphere: \n",
    "domain = Sphere(Point(0, 0, 0),1.0,300)\n",
    "mesh = generate_mesh(domain,50)\n",
    "points = mesh.coordinates()\n",
    "cells = [(\"tetra\",mesh.cells() )]\n",
    "InputMesh = meshio.Mesh(points,cells)\n",
    "InputMesh.write(DataFolder+RunFolder+RunName+\"InputMesh.vtk\")"
   ]
  },
  {
   "cell_type": "code",
   "execution_count": 32,
   "metadata": {},
   "outputs": [],
   "source": [
    "interiorbonds,edgebonds,boundarytris, bidxTotidx= MakeMeshData3D(InputMesh)\n",
    "bonds=np.concatenate((interiorbonds,edgebonds))\n",
    "orientedboundarytris=OrientTriangles(InputMesh.points,boundarytris,np.array([0,0,0]))"
   ]
  },
  {
   "cell_type": "code",
   "execution_count": 35,
   "metadata": {},
   "outputs": [
    {
     "data": {
      "text/plain": [
       "4896.357161564389"
      ]
     },
     "execution_count": 35,
     "metadata": {},
     "output_type": "execute_result"
    }
   ],
   "source": [
    "P = InputMesh.points\n",
    "theta_0=0\n",
    "kbend=1\n",
    "energies, normals,na,nb= BendingEnergy(InputMesh.points,orientedboundarytris,bidxTotidx,kbend,theta_0)\n",
    "energies.sum()"
   ]
  },
  {
   "cell_type": "code",
   "execution_count": null,
   "metadata": {},
   "outputs": [],
   "source": [
    "#interiorbonds,edgebonds,boundarytris, bidxTotidx= MakeMeshData3DOLD(InputMesh)\n",
    "#bonds=np.concatenate((interiorbonds,edgebonds))\n",
    "#orientedboundarytris=OrientTriangles(InputMesh.points,boundarytris,np.array([0,0,0]))"
   ]
  },
  {
   "cell_type": "code",
   "execution_count": 36,
   "metadata": {},
   "outputs": [
    {
     "data": {
      "text/plain": [
       "4896.357161564389"
      ]
     },
     "execution_count": 36,
     "metadata": {},
     "output_type": "execute_result"
    }
   ],
   "source": [
    "P = InputMesh.points\n",
    "theta_0=0\n",
    "kbend=1\n",
    "energies, normals,na,nb= BendingEnergy(InputMesh.points,orientedboundarytris,bidxTotidx,kbend,theta_0)\n",
    "energies.sum()"
   ]
  },
  {
   "cell_type": "code",
   "execution_count": null,
   "metadata": {},
   "outputs": [],
   "source": [
    "def Volume3D(P,boundarytris,bidxTotidx):\n",
    "    \n",
    "    # Barycentres:\n",
    "    x_a=(P[boundarytris[:,0]]+P[boundarytris[:,1]]+P[boundarytris[:,2]])/3   \n",
    "    \n",
    "    # first, compute list of normals to the triangles:\n",
    "    AB=P[boundarytris[:,0:2]]\n",
    "    t1 = np.subtract(AB[:,0,:],AB[:,1,:])\n",
    "    BC=P[boundarytris[:,1:3]]\n",
    "    t2 = np.subtract(BC[:,0,:],BC[:,1,:])\n",
    "    \n",
    "    dA= 0.5*np.cross(t1,t2)\n",
    "\n",
    "    return np.multiply(x_a,dA).sum(axis=1)"
   ]
  },
  {
   "cell_type": "code",
   "execution_count": 33,
   "metadata": {},
   "outputs": [
    {
     "data": {
      "text/plain": [
       "4.1845639260696705"
      ]
     },
     "execution_count": 33,
     "metadata": {},
     "output_type": "execute_result"
    }
   ],
   "source": [
    "Volume3D(InputMesh.points,orientedboundarytris,bidxTotidx).sum()/3"
   ]
  },
  {
   "cell_type": "code",
   "execution_count": 34,
   "metadata": {},
   "outputs": [
    {
     "data": {
      "text/plain": [
       "4.1887902047863905"
      ]
     },
     "execution_count": 34,
     "metadata": {},
     "output_type": "execute_result"
    }
   ],
   "source": [
    "(4/3)*np.pi"
   ]
  },
  {
   "cell_type": "markdown",
   "metadata": {},
   "source": [
    "## Making the read in faster"
   ]
  },
  {
   "cell_type": "markdown",
   "metadata": {},
   "source": [
    "old way"
   ]
  },
  {
   "cell_type": "code",
   "execution_count": null,
   "metadata": {},
   "outputs": [],
   "source": [
    "# Make the mesh, a unit sphere: \n",
    "domain = Sphere(Point(0, 0, 0),1.0,200)\n",
    "mesh = generate_mesh(domain,20)\n",
    "points = mesh.coordinates()\n",
    "cells = [(\"tetra\",mesh.cells() )]\n",
    "InputMesh = meshio.Mesh(points,cells)\n",
    "InputMesh.write(DataFolder+RunFolder+RunName+\"InputMesh.vtk\")"
   ]
  },
  {
   "cell_type": "code",
   "execution_count": null,
   "metadata": {},
   "outputs": [],
   "source": [
    "InputMesh.cells[0]\n",
    "tetras=InputMesh.cells[0].data\n",
    "trilist=[]\n",
    "for tetra in tetras:\n",
    "    for (i,v) in enumerate(tetra):\n",
    "        # make it a python list for ease\n",
    "        tetra = list(tetra)\n",
    "        # the triangle made from removing the ith element of the tetra list\n",
    "        tri = (tetra[:i]+tetra[i+1:])\n",
    "        # add to the list of all our triangles\n",
    "        trilist.append(tri)"
   ]
  },
  {
   "cell_type": "code",
   "execution_count": null,
   "metadata": {},
   "outputs": [],
   "source": [
    "# this is is super slow!\n",
    "boundarytris=[]\n",
    "for tri in trilist:\n",
    "    if 1==trilist.count(tri):\n",
    "         boundarytris.append(tri)"
   ]
  },
  {
   "cell_type": "code",
   "execution_count": null,
   "metadata": {},
   "outputs": [],
   "source": [
    "# Now lets make bond lists. First, all the bonds\n",
    "# this is the next sloewst\n",
    "bondlist=[]\n",
    "for t in tetras:\n",
    "    for (i,v1) in enumerate(t):\n",
    "        for(j,v2) in enumerate(t):\n",
    "            if(j>i and [v1,v2] not in bondlist):\n",
    "                bondlist.append([v1,v2])"
   ]
  },
  {
   "cell_type": "code",
   "execution_count": null,
   "metadata": {},
   "outputs": [],
   "source": [
    "# Now just the bonds on the edge                \n",
    "edgebondlist=[]\n",
    "for t in boundarytris:\n",
    "    for (i,v1) in enumerate(t):\n",
    "        for(j,v2) in enumerate(t):\n",
    "            if(j>i and [v1,v2] not in edgebondlist):\n",
    "                edgebondlist.append([v1,v2])\n"
   ]
  },
  {
   "cell_type": "code",
   "execution_count": null,
   "metadata": {},
   "outputs": [],
   "source": [
    "# and by a diff, the interior bonds\n",
    "interiorbondlist=[]\n",
    "for bond in bondlist:\n",
    "    if(bond not in edgebondlist):\n",
    "        interiorbondlist.append(bond)"
   ]
  },
  {
   "cell_type": "code",
   "execution_count": null,
   "metadata": {},
   "outputs": [],
   "source": [
    "# construct a mapping between edge bond indices and boundary triangle indices\n",
    "bidxTotidx=[]\n",
    "for (bidx, b) in enumerate(edgebondlist):\n",
    "    tindices=[]\n",
    "    for (tidx,t) in enumerate(boundarytris):\n",
    "         if ( b in [[t[0],t[1]],[t[0],t[2]],[t[1],t[2]]]):\n",
    "                tindices.append(tidx)\n",
    "    bidxTotidx.append(tindices)"
   ]
  },
  {
   "cell_type": "code",
   "execution_count": null,
   "metadata": {},
   "outputs": [],
   "source": [
    "# Going forward, we want all of these to be numpy arrays: \n",
    "tetrasold=np.copy(tetras) ## this one checks out\n",
    "bondlistold=np.array(bondlist)\n",
    "boundarytrisold= np.array(boundarytris) ## this one checks out\n",
    "interiorbondlistold= np.array(interiorbondlist)\n",
    "edgebondlistold= np.array(edgebondlist) ## this one too\n",
    "bidxTotidxold=np.array(bidxTotidx)"
   ]
  },
  {
   "cell_type": "code",
   "execution_count": null,
   "metadata": {},
   "outputs": [],
   "source": [
    "bondlistold.shape"
   ]
  },
  {
   "cell_type": "code",
   "execution_count": null,
   "metadata": {},
   "outputs": [],
   "source": [
    "bondlist.shape"
   ]
  },
  {
   "cell_type": "code",
   "execution_count": null,
   "metadata": {},
   "outputs": [],
   "source": [
    "edgebondlistold.shape"
   ]
  },
  {
   "cell_type": "code",
   "execution_count": null,
   "metadata": {},
   "outputs": [],
   "source": [
    "6657-1269"
   ]
  },
  {
   "cell_type": "code",
   "execution_count": null,
   "metadata": {},
   "outputs": [],
   "source": [
    "np.sort(boundarytris,axis=0)"
   ]
  },
  {
   "cell_type": "code",
   "execution_count": null,
   "metadata": {
    "scrolled": true
   },
   "outputs": [],
   "source": [
    "np.sort(boundarytrisold,axis=0)"
   ]
  },
  {
   "cell_type": "code",
   "execution_count": null,
   "metadata": {},
   "outputs": [],
   "source": [
    "interiorbondlist.shape"
   ]
  },
  {
   "cell_type": "code",
   "execution_count": null,
   "metadata": {},
   "outputs": [],
   "source": [
    "interiorbondlistold.shape"
   ]
  },
  {
   "cell_type": "code",
   "execution_count": null,
   "metadata": {},
   "outputs": [],
   "source": [
    "np.sort(interiorbondlist,axis=0)"
   ]
  },
  {
   "cell_type": "code",
   "execution_count": null,
   "metadata": {},
   "outputs": [],
   "source": [
    "np.sort(interiorbondlistold,axis=0)"
   ]
  },
  {
   "cell_type": "code",
   "execution_count": null,
   "metadata": {},
   "outputs": [],
   "source": [
    "np.array_equal(np.sort(interiorbondlist,axis=0), np.sort(interiorbondlistold,axis=0))"
   ]
  },
  {
   "cell_type": "code",
   "execution_count": null,
   "metadata": {},
   "outputs": [],
   "source": [
    "bidxTotidxold"
   ]
  },
  {
   "cell_type": "code",
   "execution_count": null,
   "metadata": {},
   "outputs": [],
   "source": [
    "bidxTotidx"
   ]
  },
  {
   "cell_type": "code",
   "execution_count": null,
   "metadata": {},
   "outputs": [],
   "source": [
    "np.array_equal(np.sort(bidxTotidx,axis=0), np.sort(bidxTotidxold,axis=0))"
   ]
  },
  {
   "cell_type": "code",
   "execution_count": null,
   "metadata": {},
   "outputs": [],
   "source": [
    "np.sort(bidxTotidx,axis=0)[0:10]"
   ]
  },
  {
   "cell_type": "code",
   "execution_count": null,
   "metadata": {},
   "outputs": [],
   "source": [
    " np.sort(bidxTotidxold,axis=0)[0:10]"
   ]
  },
  {
   "cell_type": "markdown",
   "metadata": {},
   "source": [
    "New way"
   ]
  },
  {
   "cell_type": "code",
   "execution_count": null,
   "metadata": {},
   "outputs": [],
   "source": [
    "# Make the mesh, a unit sphere: \n",
    "#domain = Sphere(Point(0, 0, 0),1.0,200)\n",
    "#mesh = generate_mesh(domain,13)\n",
    "#points = mesh.coordinates()\n",
    "#cells = [(\"tetra\",mesh.cells() )]\n",
    "#InputMesh = meshio.Mesh(points,cells)\n",
    "#InputMesh.write(DataFolder+RunFolder+RunName+\"InputMesh.vtk\")"
   ]
  },
  {
   "cell_type": "code",
   "execution_count": null,
   "metadata": {},
   "outputs": [],
   "source": [
    "tetras=InputMesh.cells[0].data\n",
    "trilist=[]\n",
    "for tetra in tetras:\n",
    "    for (i,v) in enumerate(tetra):\n",
    "        # make it a python list for ease\n",
    "        tetra = list(tetra)\n",
    "        # the triangle made from removing the ith element of the tetra list\n",
    "        tri = (tetra[:i]+tetra[i+1:])\n",
    "        # add to the list of all our triangles\n",
    "        trilist.append(tri)\n",
    "trilist=np.array(trilist) "
   ]
  },
  {
   "cell_type": "code",
   "execution_count": null,
   "metadata": {},
   "outputs": [],
   "source": [
    "unique_trilist,idx,inv, count = np.unique(trilist, axis=0,return_index=True,return_inverse=True,return_counts=True)\n",
    "boundarytris=unique_trilist[1==count]"
   ]
  },
  {
   "cell_type": "code",
   "execution_count": null,
   "metadata": {},
   "outputs": [],
   "source": [
    "bonds=np.vstack((tetras[:,[0,1]],\n",
    "       tetras[:,[0,2]],\n",
    "       tetras[:,[0,3]],\n",
    "       tetras[:,[1,2]],\n",
    "       tetras[:,[1,3]],\n",
    "       tetras[:,[2,3]]\n",
    "      ))\n",
    "bondlist,count= np.unique(bonds, axis=0,return_counts=True)     "
   ]
  },
  {
   "cell_type": "code",
   "execution_count": null,
   "metadata": {},
   "outputs": [],
   "source": [
    "count"
   ]
  },
  {
   "cell_type": "code",
   "execution_count": null,
   "metadata": {},
   "outputs": [],
   "source": [
    "boundarytris"
   ]
  },
  {
   "cell_type": "code",
   "execution_count": null,
   "metadata": {},
   "outputs": [],
   "source": [
    "edgebonds=np.vstack((boundarytris[:,[0,1]],\n",
    "                 boundarytris[:,[0,2]],\n",
    "                 boundarytris[:,[1,2]],\n",
    "      ))\n",
    "\n",
    "bidxToidx=np.hstack((np.arange(0,Nt),np.arange(0,Nt),np.arange(0,Nt)))\n",
    "edgebondlist,idx,inv= np.unique(edgebonds, axis=0,return_index=True,return_inverse=True)    \n",
    "Nt=len(boundarytris)"
   ]
  },
  {
   "cell_type": "code",
   "execution_count": null,
   "metadata": {},
   "outputs": [],
   "source": [
    "x=np.empty((len(edgebondlist),2))\n",
    "x"
   ]
  },
  {
   "cell_type": "code",
   "execution_count": null,
   "metadata": {
    "scrolled": true
   },
   "outputs": [],
   "source": [
    "x=np.empty((len(edgebondlist),2),dtype='int16')\n",
    "for i in np.arange(0,len(edgebondlist)):\n",
    "    x[i,:]=np.where(inv==i)[0]"
   ]
  },
  {
   "cell_type": "code",
   "execution_count": null,
   "metadata": {},
   "outputs": [],
   "source": [
    "(x%Nt).shape"
   ]
  },
  {
   "cell_type": "code",
   "execution_count": null,
   "metadata": {},
   "outputs": [],
   "source": [
    "bidxTotidx.shape"
   ]
  },
  {
   "cell_type": "code",
   "execution_count": null,
   "metadata": {},
   "outputs": [],
   "source": [
    "np.where(inv==i)[0]"
   ]
  },
  {
   "cell_type": "code",
   "execution_count": null,
   "metadata": {},
   "outputs": [],
   "source": [
    "np.where(inv==i)[0]"
   ]
  },
  {
   "cell_type": "code",
   "execution_count": null,
   "metadata": {},
   "outputs": [],
   "source": [
    " np.arange(0,np.max(inv))"
   ]
  },
  {
   "cell_type": "code",
   "execution_count": null,
   "metadata": {},
   "outputs": [],
   "source": [
    "max(inv)"
   ]
  },
  {
   "cell_type": "code",
   "execution_count": null,
   "metadata": {},
   "outputs": [],
   "source": [
    "len(edgebondlist)"
   ]
  },
  {
   "cell_type": "code",
   "execution_count": null,
   "metadata": {
    "scrolled": true
   },
   "outputs": [],
   "source": [
    "edgebondlist[inv]"
   ]
  },
  {
   "cell_type": "code",
   "execution_count": null,
   "metadata": {},
   "outputs": [],
   "source": [
    "np.where(inv==3)"
   ]
  },
  {
   "cell_type": "code",
   "execution_count": null,
   "metadata": {},
   "outputs": [],
   "source": [
    "np.max(inv)"
   ]
  },
  {
   "cell_type": "code",
   "execution_count": null,
   "metadata": {},
   "outputs": [],
   "source": [
    "for i in np.arange(1,4022):\n",
    "    print(np.where(inv==i))"
   ]
  },
  {
   "cell_type": "code",
   "execution_count": null,
   "metadata": {},
   "outputs": [],
   "source": [
    "inv[0:20]"
   ]
  },
  {
   "cell_type": "code",
   "execution_count": null,
   "metadata": {},
   "outputs": [],
   "source": [
    "edgebonds"
   ]
  },
  {
   "cell_type": "code",
   "execution_count": null,
   "metadata": {},
   "outputs": [],
   "source": [
    "# construct a mapping between edge bond indices and boundary triangle indices\n",
    "#SLOW\n",
    "bidxTotidx=[]\n",
    "for (bidx, b) in enumerate(edgebondlist):\n",
    "    tindices=[]\n",
    "    for (tidx,t) in enumerate(boundarytris):\n",
    "         if ( b.tolist() in [[t[0],t[1]],[t[0],t[2]],[t[1],t[2]]]):\n",
    "                tindices.append(tidx)\n",
    "    bidxTotidx.append(tindices)\n",
    "bidxTotidx=np.array(bidxTotidx)"
   ]
  },
  {
   "cell_type": "code",
   "execution_count": null,
   "metadata": {},
   "outputs": [],
   "source": [
    "bond=np.array([2,3])"
   ]
  },
  {
   "cell_type": "code",
   "execution_count": null,
   "metadata": {},
   "outputs": [],
   "source": [
    "np.in1d(bond,boundarytris[2])"
   ]
  },
  {
   "cell_type": "code",
   "execution_count": null,
   "metadata": {},
   "outputs": [],
   "source": [
    "bond==boundarytris"
   ]
  },
  {
   "cell_type": "code",
   "execution_count": null,
   "metadata": {},
   "outputs": [],
   "source": [
    "bond in boundarytris"
   ]
  },
  {
   "cell_type": "code",
   "execution_count": null,
   "metadata": {},
   "outputs": [],
   "source": [
    "boundarytris"
   ]
  },
  {
   "cell_type": "code",
   "execution_count": null,
   "metadata": {},
   "outputs": [],
   "source": [
    "edgebondlist"
   ]
  },
  {
   "cell_type": "code",
   "execution_count": null,
   "metadata": {},
   "outputs": [],
   "source": [
    "boundarytris"
   ]
  },
  {
   "cell_type": "code",
   "execution_count": null,
   "metadata": {},
   "outputs": [],
   "source": [
    "bidxTotidx"
   ]
  },
  {
   "cell_type": "code",
   "execution_count": null,
   "metadata": {},
   "outputs": [],
   "source": [
    "np.where(bondlist==np.array([0,1])"
   ]
  },
  {
   "cell_type": "code",
   "execution_count": null,
   "metadata": {},
   "outputs": [],
   "source": [
    "bondlist[0:10]"
   ]
  },
  {
   "cell_type": "code",
   "execution_count": null,
   "metadata": {},
   "outputs": [],
   "source": [
    "edgebondlist[0:100]"
   ]
  },
  {
   "cell_type": "code",
   "execution_count": null,
   "metadata": {},
   "outputs": [],
   "source": [
    "np.array_equal(np.sort(interiorbondlist,axis=0), np.sort(interiorbondlistold,axis=0))"
   ]
  },
  {
   "cell_type": "code",
   "execution_count": null,
   "metadata": {},
   "outputs": [],
   "source": [
    "np.sort(edgebondlist,axis=0)"
   ]
  },
  {
   "cell_type": "code",
   "execution_count": null,
   "metadata": {},
   "outputs": [],
   "source": [
    "np.sort(edgebondlistold,axis=0)"
   ]
  },
  {
   "cell_type": "code",
   "execution_count": null,
   "metadata": {},
   "outputs": [],
   "source": [
    "np.sort(bidxTotidx,axis=0)[0:10]"
   ]
  },
  {
   "cell_type": "code",
   "execution_count": null,
   "metadata": {},
   "outputs": [],
   "source": [
    " np.sort(bidxTotidxold,axis=0)[0:10]"
   ]
  },
  {
   "cell_type": "code",
   "execution_count": null,
   "metadata": {},
   "outputs": [],
   "source": [
    "np.sort(boundarytris,axis=0)"
   ]
  },
  {
   "cell_type": "code",
   "execution_count": null,
   "metadata": {},
   "outputs": [],
   "source": [
    "np.(boundarytrisold,axis=0)"
   ]
  },
  {
   "cell_type": "code",
   "execution_count": null,
   "metadata": {},
   "outputs": [],
   "source": [
    "bidxTotidxold.shape"
   ]
  },
  {
   "cell_type": "code",
   "execution_count": null,
   "metadata": {},
   "outputs": [],
   "source": [
    "bidxTotidx.shape"
   ]
  },
  {
   "cell_type": "code",
   "execution_count": null,
   "metadata": {},
   "outputs": [],
   "source": [
    "a = np.array([[1, 2], [3, 4], [3, 5], [4, 1], [4, 6]])\n",
    "b = np.array([[3, 4], [4, 6]])\n",
    "\n",
    "a1_rows = a.view([('', a.dtype)] * a.shape[1])\n",
    "a2_rows = b.view([('', b.dtype)] * b.shape[1])\n",
    "c = np.setdiff1d(a1_rows, a2_rows).view(a.dtype).reshape(-1, a.shape[1])\n",
    "print(c)"
   ]
  },
  {
   "cell_type": "code",
   "execution_count": null,
   "metadata": {},
   "outputs": [],
   "source": [
    "a1_rows"
   ]
  },
  {
   "cell_type": "code",
   "execution_count": null,
   "metadata": {},
   "outputs": [],
   "source": [
    "a2_rows"
   ]
  },
  {
   "cell_type": "code",
   "execution_count": null,
   "metadata": {},
   "outputs": [],
   "source": [
    "c = np.setdiff1d(a1_rows, a2_rows)"
   ]
  },
  {
   "cell_type": "code",
   "execution_count": null,
   "metadata": {},
   "outputs": [],
   "source": [
    "c"
   ]
  },
  {
   "cell_type": "code",
   "execution_count": null,
   "metadata": {},
   "outputs": [],
   "source": [
    "#a1 = np.array([[1,2,3],[4,5,6],[7,8,9]])\n",
    "#a2 = np.array([[4,5,6],[7,8,9],[1,1,1]])\n",
    "a1=bondlist\n",
    "a2=edgebondlist\n",
    "a1_rows = a1.view([('', a1.dtype)] * a1.shape[1])\n",
    "a2_rows = a2.view([('', a2.dtype)] * a2.shape[1])\n",
    "x=np.setdiff1d(a1_rows, a2_rows).view(a1.dtype).reshape(-1, a1.shape[1])"
   ]
  },
  {
   "cell_type": "code",
   "execution_count": null,
   "metadata": {},
   "outputs": [],
   "source": [
    "interiorbondlist"
   ]
  },
  {
   "cell_type": "code",
   "execution_count": null,
   "metadata": {},
   "outputs": [],
   "source": []
  }
 ],
 "metadata": {
  "kernelspec": {
   "display_name": "Python 3",
   "language": "python",
   "name": "python3"
  },
  "language_info": {
   "codemirror_mode": {
    "name": "ipython",
    "version": 3
   },
   "file_extension": ".py",
   "mimetype": "text/x-python",
   "name": "python",
   "nbconvert_exporter": "python",
   "pygments_lexer": "ipython3",
   "version": "3.8.3"
  }
 },
 "nbformat": 4,
 "nbformat_minor": 4
}
