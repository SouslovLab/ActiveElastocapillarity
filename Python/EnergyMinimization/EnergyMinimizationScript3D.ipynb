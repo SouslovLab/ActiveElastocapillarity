{
 "cells": [
  {
   "cell_type": "code",
   "execution_count": 3,
   "metadata": {},
   "outputs": [],
   "source": [
    "import meshio\n",
    "import pygalmesh\n",
    "import numpy as np\n",
    "import copy\n",
    "from mshr import *\n",
    "from dolfin import *\n",
    "from collections import Counter\n",
    "import matplotlib.pyplot as plt\n",
    "import os\n",
    "import json\n",
    "import shutil\n",
    "import scipy.optimize as opt\n",
    "from EnergyMinimization import *"
   ]
  },
  {
   "cell_type": "markdown",
   "metadata": {},
   "source": [
    "# Initialisation"
   ]
  },
  {
   "cell_type": "markdown",
   "metadata": {},
   "source": [
    "User settings: What are the continuum parameters we want? "
   ]
  },
  {
   "cell_type": "code",
   "execution_count": 4,
   "metadata": {},
   "outputs": [],
   "source": [
    "# Target mesh size:\n",
    "target_a = 0.2\n",
    "# continuum bending modulus:\n",
    "kc=1\n",
    "# continuum shear modulus:\n",
    "mu=1\n",
    "# Energetic penalty for volume change\n",
    "B=10\n",
    "# the spring prestress values \n",
    "g0start=1.0\n",
    "g0end=4.0\n",
    "g0step=0.1"
   ]
  },
  {
   "cell_type": "markdown",
   "metadata": {},
   "source": [
    "User settings for the experimental run: What are the continuum parameters we want? "
   ]
  },
  {
   "cell_type": "code",
   "execution_count": 5,
   "metadata": {},
   "outputs": [],
   "source": [
    "# root folder for data\n",
    "DataFolder=os.getcwd()+'/Data/'\n",
    "# Folder for the run data\n",
    "#RunFolder=\"kc_\"+\"{0:0.1f}\".format(kc)+\"_B_\"+\"{0:0.1f}\".format(B)+\"/\"\n",
    "RunFolder=\"Scratch/\"\n",
    "# Name of the run\n",
    "RunName=\"\"\n",
    "# Name of the current file\n",
    "ScriptName=\"EnergyMinimizationScript.ipynb\""
   ]
  },
  {
   "cell_type": "markdown",
   "metadata": {},
   "source": [
    "Right, lets define the bond type and parameters for each bond. In 2D, we know that the elastic modulii are proportional to the microscopic spring constant. We also know that the continuum and microscopic momdulii are related by a lattice space: $\\mu = O(1) k$, $k_c = k_d a$. Since I dont know any better, for know I will just set k to mu."
   ]
  },
  {
   "cell_type": "code",
   "execution_count": 6,
   "metadata": {},
   "outputs": [],
   "source": [
    "kd=kc/target_a\n",
    "k = mu\n",
    "theta0=np.pi"
   ]
  },
  {
   "cell_type": "markdown",
   "metadata": {},
   "source": [
    "Set up the experiment"
   ]
  },
  {
   "cell_type": "code",
   "execution_count": 7,
   "metadata": {},
   "outputs": [
    {
     "name": "stdout",
     "output_type": "stream",
     "text": [
      "Creation of the directory /home/jackbinysh/Code/ActiveElastocapillarity/Python/EnergyMinimization/Data/Scratch/ failed\n"
     ]
    },
    {
     "ename": "FileNotFoundError",
     "evalue": "[Errno 2] No such file or directory: 'EnergyMinimizationScript.ipynb'",
     "output_type": "error",
     "traceback": [
      "\u001b[0;31m---------------------------------------------------------------------------\u001b[0m",
      "\u001b[0;31mFileNotFoundError\u001b[0m                         Traceback (most recent call last)",
      "\u001b[0;32m<ipython-input-7-263a1cebdfa6>\u001b[0m in \u001b[0;36m<module>\u001b[0;34m\u001b[0m\n\u001b[1;32m     34\u001b[0m \u001b[0;34m\u001b[0m\u001b[0m\n\u001b[1;32m     35\u001b[0m \u001b[0;31m# and for good measure, dump a copy of this code into the data file too\u001b[0m\u001b[0;34m\u001b[0m\u001b[0;34m\u001b[0m\u001b[0;34m\u001b[0m\u001b[0m\n\u001b[0;32m---> 36\u001b[0;31m \u001b[0mshutil\u001b[0m\u001b[0;34m.\u001b[0m\u001b[0mcopyfile\u001b[0m\u001b[0;34m(\u001b[0m\u001b[0mScriptName\u001b[0m\u001b[0;34m,\u001b[0m\u001b[0mDataFolder\u001b[0m\u001b[0;34m+\u001b[0m\u001b[0mRunFolder\u001b[0m\u001b[0;34m+\u001b[0m\u001b[0mScriptName\u001b[0m\u001b[0;34m)\u001b[0m\u001b[0;34m\u001b[0m\u001b[0;34m\u001b[0m\u001b[0m\n\u001b[0m",
      "\u001b[0;32m~/miniconda3/lib/python3.8/shutil.py\u001b[0m in \u001b[0;36mcopyfile\u001b[0;34m(src, dst, follow_symlinks)\u001b[0m\n\u001b[1;32m    259\u001b[0m         \u001b[0mos\u001b[0m\u001b[0;34m.\u001b[0m\u001b[0msymlink\u001b[0m\u001b[0;34m(\u001b[0m\u001b[0mos\u001b[0m\u001b[0;34m.\u001b[0m\u001b[0mreadlink\u001b[0m\u001b[0;34m(\u001b[0m\u001b[0msrc\u001b[0m\u001b[0;34m)\u001b[0m\u001b[0;34m,\u001b[0m \u001b[0mdst\u001b[0m\u001b[0;34m)\u001b[0m\u001b[0;34m\u001b[0m\u001b[0;34m\u001b[0m\u001b[0m\n\u001b[1;32m    260\u001b[0m     \u001b[0;32melse\u001b[0m\u001b[0;34m:\u001b[0m\u001b[0;34m\u001b[0m\u001b[0;34m\u001b[0m\u001b[0m\n\u001b[0;32m--> 261\u001b[0;31m         \u001b[0;32mwith\u001b[0m \u001b[0mopen\u001b[0m\u001b[0;34m(\u001b[0m\u001b[0msrc\u001b[0m\u001b[0;34m,\u001b[0m \u001b[0;34m'rb'\u001b[0m\u001b[0;34m)\u001b[0m \u001b[0;32mas\u001b[0m \u001b[0mfsrc\u001b[0m\u001b[0;34m,\u001b[0m \u001b[0mopen\u001b[0m\u001b[0;34m(\u001b[0m\u001b[0mdst\u001b[0m\u001b[0;34m,\u001b[0m \u001b[0;34m'wb'\u001b[0m\u001b[0;34m)\u001b[0m \u001b[0;32mas\u001b[0m \u001b[0mfdst\u001b[0m\u001b[0;34m:\u001b[0m\u001b[0;34m\u001b[0m\u001b[0;34m\u001b[0m\u001b[0m\n\u001b[0m\u001b[1;32m    262\u001b[0m             \u001b[0;31m# macOS\u001b[0m\u001b[0;34m\u001b[0m\u001b[0;34m\u001b[0m\u001b[0;34m\u001b[0m\u001b[0m\n\u001b[1;32m    263\u001b[0m             \u001b[0;32mif\u001b[0m \u001b[0m_HAS_FCOPYFILE\u001b[0m\u001b[0;34m:\u001b[0m\u001b[0;34m\u001b[0m\u001b[0;34m\u001b[0m\u001b[0m\n",
      "\u001b[0;31mFileNotFoundError\u001b[0m: [Errno 2] No such file or directory: 'EnergyMinimizationScript.ipynb'"
     ]
    }
   ],
   "source": [
    "path = DataFolder+RunFolder\n",
    "# make the folder \n",
    "try:\n",
    "    os.mkdir(path)\n",
    "except OSError:\n",
    "    print (\"Creation of the directory %s failed\" % path)\n",
    "else:\n",
    "    print (\"Successfully created the directory %s \" % path)\n",
    "    \n",
    "# try and clear out the folder if there was a previous run in it\n",
    "#for filename in os.listdir(path):\n",
    "#    file_path = os.path.join(path, filename)\n",
    "#    try:\n",
    "#        if os.path.isfile(file_path) or os.path.islink(file_path):\n",
    "#            os.unlink(file_path)\n",
    "#        elif os.path.isdir(file_path):\n",
    "#            shutil.rmtree(file_path)\n",
    "#    except Exception as e:\n",
    "#        print('Failed to delete %s. Reason: %s' % (file_path, e))\n",
    "        \n",
    "        \n",
    "#Dump all the parameters to a file in the run folder        \n",
    "f=open(DataFolder+RunFolder+\"Parameters.log\",\"w+\")\n",
    "datadict= { \n",
    "        \"a\":target_a,\n",
    "        \"kc\":kc, \n",
    "        \"B\":B,\n",
    "        \"mu\":mu,\n",
    "        \"g0start\":g0start,\n",
    "        \"g0end\":g0end,\n",
    "}\n",
    "json.dump(datadict,f)\n",
    "f.close()\n",
    "\n",
    "# and for good measure, dump a copy of this code into the data file too\n",
    "shutil.copyfile(ScriptName,DataFolder+RunFolder+ScriptName)"
   ]
  },
  {
   "cell_type": "markdown",
   "metadata": {},
   "source": [
    "Make the mesh, write it out to the folder"
   ]
  },
  {
   "cell_type": "code",
   "execution_count": 8,
   "metadata": {},
   "outputs": [],
   "source": [
    "InputMesh= MakeDolfinMesh3D(target_a,40)\n",
    "OutputMesh = copy.deepcopy(InputMesh)\n",
    "InputMesh.write(DataFolder+RunFolder+RunName+\"InputMesh.vtk\")"
   ]
  },
  {
   "cell_type": "markdown",
   "metadata": {},
   "source": [
    "Make the bond lists etc."
   ]
  },
  {
   "cell_type": "code",
   "execution_count": 9,
   "metadata": {},
   "outputs": [],
   "source": [
    "interiorbonds,edgebonds,boundarytris= MakeBondAngleLists3D(InputMesh)"
   ]
  },
  {
   "cell_type": "markdown",
   "metadata": {},
   "source": [
    "Check out the Mesh. One of the lessons learnt is that you shouldnt have much of a spread in the intial edge lengths"
   ]
  },
  {
   "cell_type": "code",
   "execution_count": 10,
   "metadata": {
    "scrolled": false
   },
   "outputs": [
    {
     "data": {
      "text/plain": [
       "0.30582535671506506"
      ]
     },
     "execution_count": 10,
     "metadata": {},
     "output_type": "execute_result"
    },
    {
     "data": {
      "image/png": "[encoded data removed]",
      "text/plain": [
       "<Figure size 432x288 with 1 Axes>"
      ]
     },
     "metadata": {
      "needs_background": "light"
     },
     "output_type": "display_data"
    }
   ],
   "source": [
    "edgelengths= MakeBondHist(InputMesh.points,edgebonds)\n",
    "np.mean(edgelengths)"
   ]
  },
  {
   "cell_type": "markdown",
   "metadata": {},
   "source": [
    "# Energy Minimization"
   ]
  },
  {
   "cell_type": "code",
   "execution_count": 11,
   "metadata": {},
   "outputs": [],
   "source": [
    "g0temp=1.5"
   ]
  },
  {
   "cell_type": "code",
   "execution_count": 13,
   "metadata": {},
   "outputs": [],
   "source": [
    "# initial input points. Pout changes over time\n",
    "Pout_ij =InputMesh.points \n",
    "N = len(Pout_ij)\n",
    "\n",
    "# preferred rest lengths\n",
    "i=np.array(interiorbonds)\n",
    "e=np.array(edgebonds)\n",
    "\n"
   ]
  },
  {
   "cell_type": "code",
   "execution_count": 25,
   "metadata": {},
   "outputs": [],
   "source": [
    "Pout_ij =InputMesh.points"
   ]
  },
  {
   "cell_type": "code",
   "execution_count": 29,
   "metadata": {},
   "outputs": [],
   "source": [
    "unrav=Pout_ij.ravel()\n",
    "rerav= unrav.reshape((-1, 3))"
   ]
  },
  {
   "cell_type": "code",
   "execution_count": 30,
   "metadata": {},
   "outputs": [
    {
     "data": {
      "text/plain": [
       "array([[-5.06550648e-01,  4.33715144e-01,  3.18371856e-01],\n",
       "       [-4.20599759e-01,  2.52421817e-01,  5.26381987e-01],\n",
       "       [-1.60255542e-01,  5.95429914e-01,  3.80228706e-01],\n",
       "       [-3.76425241e-01,  5.83094780e-01,  7.08005575e-01],\n",
       "       [ 3.29778694e-01,  8.46608603e-01, -4.02257972e-01],\n",
       "       [ 2.78424515e-01,  5.60142602e-01, -3.21837498e-01],\n",
       "       [ 2.67681534e-01,  6.74007743e-01, -5.02980679e-02],\n",
       "       [ 2.48617773e-01,  9.47260670e-01, -1.81192280e-01],\n",
       "       [ 5.10909286e-02, -9.08394516e-01,  4.07628105e-01],\n",
       "       [-6.21217408e-02, -7.42489761e-01,  6.59386754e-01],\n",
       "       [-1.55454861e-02, -4.93774224e-01,  3.10433401e-01],\n",
       "       [-3.23011717e-01, -8.48968544e-01,  4.03768788e-01],\n",
       "       [ 6.20370107e-01,  1.05579076e-01,  3.79079604e-01],\n",
       "       [ 9.44867704e-01,  8.71116563e-02,  3.03156079e-01],\n",
       "       [ 6.45311467e-01,  3.31294791e-01,  2.34661300e-01],\n",
       "       [ 8.11107106e-01,  3.24442842e-01,  4.86664263e-01],\n",
       "       [-5.95989211e-01,  4.49580848e-01,  4.04486898e-02],\n",
       "       [-7.30414614e-01,  6.35639780e-01,  2.26524089e-01],\n",
       "       [-5.24592190e-01,  8.01559858e-01,  2.67376193e-01],\n",
       "       [ 1.10634225e-02,  5.11112706e-01,  5.78612331e-01],\n",
       "       [ 1.08810931e-01,  5.35348262e-01,  3.04706498e-01],\n",
       "       [-8.47656673e-02,  8.58419478e-01,  4.96128852e-01],\n",
       "       [ 8.06856532e-01, -5.77870995e-01,  7.80262573e-02],\n",
       "       [ 9.06267158e-01, -3.93065184e-01,  1.25609248e-01],\n",
       "       [ 5.69282004e-01, -2.86729864e-01, -1.31563010e-01],\n",
       "       [ 5.85216719e-01, -2.87075469e-01,  3.21763694e-01],\n",
       "       [-3.20076214e-01,  5.38616681e-01,  8.69683137e-02],\n",
       "       [-1.05477898e-01,  9.93638034e-01, -8.59815662e-03],\n",
       "       [ 1.02466513e-01,  9.71581702e-01,  1.94478762e-01],\n",
       "       [ 2.13145157e-02,  7.73974833e-01, -1.11324612e-01],\n",
       "       [-5.09997490e-01, -2.96456938e-03,  8.56099360e-01],\n",
       "       [-6.75689994e-01, -1.47061315e-01,  7.14236188e-01],\n",
       "       [-2.81103920e-01, -6.92863930e-04,  5.54730850e-01],\n",
       "       [-3.37030170e-01, -3.11108407e-01,  8.84277645e-01],\n",
       "       [-9.94189792e-01,  7.63272844e-02,  2.85782454e-02],\n",
       "       [-6.42808496e-01, -1.06380640e-01,  2.37432421e-02],\n",
       "       [-7.09309628e-01,  1.80948934e-01,  6.25312926e-02],\n",
       "       [-9.52651466e-01, -2.08263334e-01,  1.99621426e-01],\n",
       "       [-1.90635186e-01,  3.11822126e-01,  3.61417127e-01],\n",
       "       [-2.44509993e-01,  4.80118608e-02,  1.95642197e-01],\n",
       "       [-5.35359779e-01,  1.20662046e-01,  2.96180899e-01],\n",
       "       [-6.51921828e-01, -5.04971660e-01, -5.55552121e-01],\n",
       "       [-6.08739557e-01, -3.37599690e-01, -7.09266909e-01],\n",
       "       [-7.61703539e-01, -1.94824812e-01, -6.10658213e-01],\n",
       "       [-4.27578359e-01, -1.96110909e-01, -2.64250425e-01],\n",
       "       [-7.36872753e-01,  1.01379106e-01,  6.60597909e-01],\n",
       "       [-5.87342881e-01, -1.37995421e-01,  4.31392319e-01],\n",
       "       [ 4.18198158e-01, -5.48688985e-01, -1.36760480e-01],\n",
       "       [ 6.51295648e-01, -7.33396153e-01,  1.67354380e-01],\n",
       "       [ 4.71543705e-01, -8.74041609e-01,  5.44456284e-02],\n",
       "       [ 6.55339854e-01, -7.46221825e-01, -5.52350015e-02],\n",
       "       [-3.08299711e-02,  3.32510304e-01, -2.59168764e-01],\n",
       "       [ 2.62681477e-02,  5.05559909e-01, -6.29174243e-02],\n",
       "       [-4.99531476e-03,  5.58288456e-01, -4.25939544e-01],\n",
       "       [-2.28705322e-01, -2.17059262e-01, -1.83096954e-02],\n",
       "       [-4.52201943e-01,  2.25444565e-01, -8.03006874e-02],\n",
       "       [-9.11391673e-01,  3.85251438e-02,  4.03356136e-01],\n",
       "       [-2.11194595e-01,  6.86477258e-02, -2.48399356e-01],\n",
       "       [-5.32255535e-02,  2.11418929e-01, -6.44247486e-01],\n",
       "       [-5.07379937e-02, -8.01340412e-02, -5.02354498e-01],\n",
       "       [ 1.31886232e-01, -6.31450014e-01, -2.86721304e-01],\n",
       "       [ 3.33862044e-01, -8.37831881e-01, -4.17722508e-01],\n",
       "       [ 5.26338665e-01, -8.01782727e-01, -2.62160289e-01],\n",
       "       [-3.23816071e-01, -2.69064641e-01, -9.03172122e-01],\n",
       "       [-5.56227272e-02, -3.75149522e-01, -9.20655124e-01],\n",
       "       [-3.59722630e-01, -2.27437729e-01, -6.22823191e-01],\n",
       "       [-2.16904765e-01, -4.98254503e-01, -8.31252536e-01],\n",
       "       [-3.59425684e-01, -2.37084247e-01,  2.69765551e-01],\n",
       "       [-3.21811965e-01, -5.49261154e-01,  2.65617509e-01],\n",
       "       [-7.26117181e-01,  1.27251829e-02, -6.82983795e-01],\n",
       "       [-7.21578819e-01,  2.31745986e-01, -6.43188443e-01],\n",
       "       [-8.77458223e-01, -6.70775148e-03, -4.70180388e-01],\n",
       "       [-6.24134334e-01,  1.37812357e-01, -3.36565741e-01],\n",
       "       [-2.42535608e-01,  0.00000000e+00, -9.70142504e-01],\n",
       "       [-4.76775101e-01,  1.35605710e-01, -8.64111557e-01],\n",
       "       [-3.87037441e-01,  4.13423727e-02, -5.29932062e-01],\n",
       "       [-1.02308861e-01, -5.05581148e-01,  8.50032442e-01],\n",
       "       [-3.54083020e-01, -6.12054627e-01,  6.97716913e-01],\n",
       "       [-1.94234804e-01, -3.36107006e-01,  5.62055572e-01],\n",
       "       [-9.06845564e-01,  2.85896329e-01,  3.04526349e-01],\n",
       "       [ 4.93117548e-01,  2.90362968e-01, -4.09432316e-01],\n",
       "       [ 1.73307898e-01,  2.98195744e-01, -4.29084008e-01],\n",
       "       [ 3.34667711e-01,  5.87589198e-01, -7.27266824e-01],\n",
       "       [ 3.54569333e-01,  2.15614100e-01, -6.50938601e-01],\n",
       "       [-2.39674459e-01,  6.10013201e-01, -2.21732804e-01],\n",
       "       [-1.58996673e-01,  2.70871809e-01, -3.22437946e-02],\n",
       "       [-1.14277927e-01,  2.03299154e-01,  9.68755147e-01],\n",
       "       [ 1.38425500e-01,  1.30135362e-01,  9.80292318e-01],\n",
       "       [-2.48620562e-01, -5.02253973e-02,  9.64671159e-01],\n",
       "       [-2.69171513e-02, -1.99783750e-03,  7.58639579e-01],\n",
       "       [-9.47464510e-02, -1.64961773e-01,  2.83091909e-01],\n",
       "       [-5.33425934e-01, -4.55871765e-01, -2.74800615e-01],\n",
       "       [-2.05967179e-01, -4.10706358e-01, -4.66651893e-01],\n",
       "       [-2.98116330e-01, -6.40550873e-01, -2.88809991e-01],\n",
       "       [-7.63948669e-01,  3.78789223e-01,  5.09299113e-01],\n",
       "       [-5.90920309e-01,  5.11225615e-01,  6.11967723e-01],\n",
       "       [-4.42131907e-01, -4.55484556e-01, -9.36518264e-03],\n",
       "       [ 6.26206412e-01, -9.18937298e-02, -4.30281092e-01],\n",
       "       [ 8.02340491e-01, -4.18110166e-01, -4.08264035e-01],\n",
       "       [ 9.17593199e-01, -1.42017303e-01, -3.59758129e-01],\n",
       "       [ 7.49964612e-01, -6.07425092e-01, -2.33505046e-01],\n",
       "       [-1.10173377e-01, -6.92264226e-01,  9.96095741e-02],\n",
       "       [ 1.76266047e-01,  2.33929343e-01, -1.20178731e-01],\n",
       "       [ 4.64205437e-01,  4.10433781e-02, -2.10109499e-01],\n",
       "       [ 1.66088872e-01, -6.38753971e-02, -2.66233535e-01],\n",
       "       [ 4.15916805e-01,  2.20237078e-01,  5.54879655e-01],\n",
       "       [ 2.48512534e-01,  2.31059870e-02,  6.80333576e-01],\n",
       "       [ 4.44969998e-01, -6.64761515e-02,  4.88888993e-01],\n",
       "       [ 5.13151657e-01, -4.14594278e-02,  8.52231180e-01],\n",
       "       [ 3.70897263e-01,  1.21909501e-01,  3.04730854e-02],\n",
       "       [ 7.65381119e-02, -1.05842400e-01,  4.89491613e-01],\n",
       "       [ 2.41092533e-01, -4.85079921e-02,  2.13922292e-01],\n",
       "       [ 5.47368380e-01, -2.61868149e-01,  7.86594650e-01],\n",
       "       [ 4.17862563e-01, -4.97370209e-01,  7.51316457e-01],\n",
       "       [ 5.53384216e-01, -5.78542169e-01,  5.83059467e-01],\n",
       "       [ 7.22196972e-01, -3.51187415e-01,  5.82522970e-01],\n",
       "       [ 5.60024805e-02,  2.54193866e-01,  1.77135382e-01],\n",
       "       [ 1.23068021e-01,  2.60117075e-01,  5.62125837e-01],\n",
       "       [ 4.43423188e-01, -2.98469039e-01, -5.42858086e-01],\n",
       "       [ 6.66231245e-01, -4.79628510e-01, -5.59826392e-01],\n",
       "       [ 6.15073300e-01, -6.43948697e-01, -4.34673996e-01],\n",
       "       [ 2.66910735e-01, -3.86925816e-01,  4.67123691e-01],\n",
       "       [ 2.09239816e-01, -6.78344396e-01, -6.93386896e-01],\n",
       "       [ 9.58650737e-02, -8.39542534e-01, -5.23256710e-01],\n",
       "       [ 8.71650761e-02, -3.56631979e-01, -5.77182835e-01],\n",
       "       [-7.06957260e-01, -1.26223073e-01, -2.56416471e-01],\n",
       "       [-8.45094884e-01, -3.31705678e-01, -4.03702406e-01],\n",
       "       [-1.56481186e-01,  2.47340557e-01,  6.43593761e-01],\n",
       "       [-3.60106873e-01,  1.96001303e-01,  9.05461404e-01],\n",
       "       [ 8.07959978e-01,  5.64621576e-01,  1.33940349e-01],\n",
       "       [ 4.08966504e-01,  5.65918501e-01,  1.96235441e-01],\n",
       "       [ 6.82602811e-01,  6.35819842e-01,  3.47994631e-01],\n",
       "       [-1.29028980e-04,  1.75302340e-03,  4.04539367e-04],\n",
       "       [ 2.99091720e-01, -7.90512248e-01,  5.24856008e-01],\n",
       "       [ 7.66305873e-02,  2.64793344e-01, -9.58375105e-01],\n",
       "       [ 1.34922477e-01,  3.55893651e-02, -9.87494088e-01],\n",
       "       [ 1.11270821e-01, -6.51628316e-02, -7.28680940e-01],\n",
       "       [-5.00470719e-01,  4.61065392e-01, -2.65393491e-01],\n",
       "       [ 9.69644096e-01, -2.40157582e-01, -1.18768609e-02],\n",
       "       [ 8.89157542e-01, -4.36088084e-01, -1.27356357e-01],\n",
       "       [ 2.88743281e-01, -9.49143339e-01, -9.75165288e-02],\n",
       "       [ 1.82224341e-01, -6.36834476e-01,  3.06392010e-02],\n",
       "       [ 8.80055416e-02, -9.93881257e-01,  2.24627197e-02],\n",
       "       [ 2.47110288e-01, -9.44802338e-01,  1.92665777e-01],\n",
       "       [ 2.86986140e-01, -3.59209368e-01,  8.81885840e-01],\n",
       "       [ 7.43004890e-02, -3.28524099e-01,  6.81336759e-01],\n",
       "       [-6.09255467e-01, -3.36091082e-01,  1.83996103e-01],\n",
       "       [-8.10355153e-01, -4.99459586e-01,  2.95545736e-01],\n",
       "       [-8.70600067e-01, -4.78944159e-01,  4.43339022e-02],\n",
       "       [-6.82872859e-02, -2.31847278e-01, -2.57617732e-01],\n",
       "       [ 3.42418297e-02,  9.39528767e-01, -3.27748145e-01],\n",
       "       [ 3.23381039e-01, -5.19770348e-02, -5.48320075e-01],\n",
       "       [ 2.84050782e-01, -6.17023226e-01,  2.97540093e-01],\n",
       "       [ 3.51924688e-01, -3.46147820e-01,  1.40229628e-01],\n",
       "       [-4.63526196e-01,  8.01673948e-01, -3.64008793e-01],\n",
       "       [-7.71516750e-01,  6.17213400e-01, -1.54303350e-01],\n",
       "       [-6.02014075e-01,  5.94743179e-01, -5.18228597e-01],\n",
       "       [ 7.88959472e-01,  1.19444002e-01, -5.97220009e-01],\n",
       "       [ 9.20403858e-01,  2.62307126e-01, -2.76379721e-01],\n",
       "       [-4.23341321e-01, -4.93290562e-01, -7.50513064e-01],\n",
       "       [ 6.77016545e-01, -5.64942114e-02, -7.27866920e-01],\n",
       "       [-9.10376125e-01,  2.77941436e-01, -2.99940522e-01],\n",
       "       [-9.70995998e-01,  2.67606948e-02, -2.27692835e-01],\n",
       "       [ 3.02643750e-01, -7.28184245e-02,  9.45836612e-01],\n",
       "       [-2.42924404e-01,  3.51356097e-01, -4.21593320e-01],\n",
       "       [ 5.10638270e-01,  7.74333541e-02, -8.50078891e-01],\n",
       "       [ 3.50194111e-01, -2.62485967e-01, -8.93411642e-01],\n",
       "       [ 5.23652086e-02, -2.90157145e-01,  8.78520118e-02],\n",
       "       [-9.55349933e-02, -1.65231535e-01, -9.78256588e-01],\n",
       "       [ 3.38849491e-01,  4.87191752e-01,  8.02531681e-01],\n",
       "       [ 1.98295283e-01,  6.58013165e-01,  7.17104666e-01],\n",
       "       [ 5.27237381e-01,  5.24362570e-01,  6.63385900e-01],\n",
       "       [ 3.40802794e-01,  4.74877842e-01,  4.55789346e-01],\n",
       "       [ 6.85496331e-01,  6.55698259e-01, -3.05617449e-01],\n",
       "       [ 5.03648025e-01,  6.74533011e-01, -5.33911536e-01],\n",
       "       [ 7.47435907e-01,  4.83199651e-01, -4.38791114e-01],\n",
       "       [ 1.46489044e-01,  8.92554986e-01,  4.22314839e-01],\n",
       "       [-7.51210042e-02,  7.22067722e-01,  1.38515753e-01],\n",
       "       [-6.21120956e-01,  4.22586306e-01, -6.46764732e-01],\n",
       "       [-4.51984914e-01,  4.12832882e-01, -7.80265555e-01],\n",
       "       [-4.84658084e-01,  7.03405985e-01,  5.13002579e-01],\n",
       "       [ 5.97761499e-01, -3.79275333e-02,  1.52538205e-01],\n",
       "       [ 8.42575820e-01, -1.03395405e-01,  5.16977023e-01],\n",
       "       [-5.88921603e-01, -1.23194259e-01, -7.93788388e-01],\n",
       "       [ 6.63900545e-01,  3.34644745e-01,  6.68097508e-01],\n",
       "       [ 2.83858271e-01, -3.56137896e-01, -3.27424573e-01],\n",
       "       [ 3.21311174e-01, -1.33836449e-01, -4.20593497e-02],\n",
       "       [ 2.74581245e-01,  3.71645239e-01, -8.79771459e-01],\n",
       "       [-7.82837098e-01,  4.86692109e-01, -3.73647334e-01],\n",
       "       [ 4.03056416e-01, -6.96420388e-01, -5.79327349e-01],\n",
       "       [ 1.20980709e-01, -2.09594320e-01, -9.66882357e-01],\n",
       "       [ 1.85781383e-01, -4.69441204e-01, -8.57569264e-01],\n",
       "       [ 2.18244594e-01, -6.13206395e-01,  7.51062506e-01],\n",
       "       [-5.10260088e-01,  8.50119364e-01, -7.89614835e-02],\n",
       "       [-2.18979182e-01,  9.32649063e-01, -2.70065934e-01],\n",
       "       [-2.99000267e-01,  9.28207853e-01,  1.99333512e-01],\n",
       "       [ 0.00000000e+00, -2.42535629e-01,  9.70142499e-01],\n",
       "       [ 6.95390202e-01, -2.89434817e-01, -6.50697159e-01],\n",
       "       [ 7.37732425e-01, -4.65062898e-02, -1.47913828e-01],\n",
       "       [-6.77749194e-01,  7.29777764e-01,  2.32075649e-02],\n",
       "       [-9.09707496e-01,  4.00774399e-01,  6.41613439e-02],\n",
       "       [ 8.02817310e-01,  1.14064370e-01,  5.76734150e-01],\n",
       "       [-5.13577318e-01, -7.93612025e-01,  3.14659541e-01],\n",
       "       [-5.50404607e-01, -8.21301263e-01,  1.02063428e-01],\n",
       "       [-3.40379160e-01, -9.27763958e-01,  1.17674769e-01],\n",
       "       [-9.80714262e-02, -4.85810191e-01, -1.24063578e-01],\n",
       "       [-1.48275320e-01, -9.86745004e-01, -6.04288661e-03],\n",
       "       [-4.03391346e-01, -8.95457402e-01, -1.66156597e-01],\n",
       "       [-5.83701216e-01, -3.91318659e-01,  6.99422291e-01],\n",
       "       [ 5.87120867e-01,  3.82105369e-01, -7.01789051e-01],\n",
       "       [ 4.23756002e-01,  4.27718653e-01, -9.26866085e-02],\n",
       "       [ 7.98148656e-01,  5.82093523e-01, -1.23355817e-01],\n",
       "       [ 6.81341211e-01,  2.30301310e-01, -5.61983987e-02],\n",
       "       [ 3.75374297e-01,  8.07160166e-01,  4.42606421e-01],\n",
       "       [ 5.42990866e-01,  8.29886032e-01,  7.31399862e-02],\n",
       "       [ 3.16310983e-01,  9.41804620e-01,  6.25485245e-02],\n",
       "       [-3.21908967e-03, -5.57376901e-01, -8.29662212e-01],\n",
       "       [-1.47441956e-01, -8.84651737e-01, -4.42325868e-01],\n",
       "       [ 6.47592587e-01, -6.54525137e-01,  3.75903023e-01],\n",
       "       [-6.30666316e-01, -6.41414299e-01,  4.16865557e-01],\n",
       "       [ 5.27225293e-01,  8.05777592e-01, -2.44347734e-01],\n",
       "       [ 9.28120548e-01,  3.36267534e-01,  1.29614018e-01],\n",
       "       [ 9.98791464e-01, -8.46019548e-04, -2.09745628e-02],\n",
       "       [-3.81610376e-01, -7.16257605e-01, -5.68812238e-01],\n",
       "       [-1.34074661e-01, -6.76290474e-01, -7.15780472e-01],\n",
       "       [-9.65964127e-01, -2.13297045e-01, -1.22732713e-01],\n",
       "       [-1.26274745e-01,  3.80459537e-01, -9.11140781e-01],\n",
       "       [-8.11107106e-01, -3.24442842e-01,  4.86664263e-01],\n",
       "       [ 3.56019503e-01,  2.51936012e-01,  2.67110960e-01],\n",
       "       [-4.80066336e-01, -4.12329575e-01,  4.44930346e-01],\n",
       "       [-1.34565967e-01,  8.47691505e-01, -5.02577473e-01],\n",
       "       [-2.43408861e-01,  6.85060472e-01, -6.76097975e-01],\n",
       "       [ 9.46477567e-01, -2.07021937e-01,  2.25962795e-01],\n",
       "       [ 1.21372849e-01,  8.19853435e-01, -5.48679072e-01],\n",
       "       [-1.46476873e-01, -9.55037331e-01,  2.49381921e-01],\n",
       "       [ 8.11107106e-01, -4.86664263e-01,  3.24442842e-01],\n",
       "       [ 3.27033037e-02, -9.69646217e-01, -2.31783511e-01],\n",
       "       [ 7.06486233e-02,  6.05412030e-01, -7.86225356e-01],\n",
       "       [ 4.89488129e-01, -8.16500709e-01,  2.96346031e-01],\n",
       "       [ 4.84796131e-01, -5.21807150e-01, -6.96502567e-01],\n",
       "       [-3.12675543e-01,  8.44213693e-01,  4.23377052e-01],\n",
       "       [-5.81134271e-01, -7.19829538e-01, -3.57510509e-01],\n",
       "       [ 8.16024759e-02,  4.31745197e-01,  8.94076883e-01],\n",
       "       [ 6.48936667e-01,  1.14761610e-01,  7.46323856e-01],\n",
       "       [-7.89760395e-01, -5.59552298e-01, -2.26492136e-01],\n",
       "       [-7.27896169e-01, -6.80833677e-01, -1.24540612e-02],\n",
       "       [-6.56093633e-01,  3.04237017e-01,  6.85695703e-01],\n",
       "       [ 3.45191205e-01,  2.68483019e-01,  8.93961918e-01],\n",
       "       [-4.76065610e-01,  3.85356180e-01,  7.82215596e-01],\n",
       "       [-2.40105015e-01,  7.45455730e-01,  6.10068851e-01],\n",
       "       [-4.58222569e-01, -7.23589765e-01,  5.05296352e-01],\n",
       "       [-1.54303350e-01,  6.17213400e-01,  7.71516750e-01],\n",
       "       [-2.28085057e-01,  4.04963777e-01,  8.78063007e-01]])"
      ]
     },
     "execution_count": 30,
     "metadata": {},
     "output_type": "execute_result"
    }
   ],
   "source": [
    "rerav"
   ]
  },
  {
   "cell_type": "code",
   "execution_count": null,
   "metadata": {},
   "outputs": [],
   "source": [
    "# initial input points. Pout changes over time\n",
    "Pout_ij =InputMesh.points\n",
    "N = len(Pout_ij)\n",
    "\n",
    "# the connectivity matrix --- this doesnt change over the run\n",
    "#A = np.zeros( (len(Pout_ij),len(Pout_ij)) )\n",
    "#for bond in edgebonds+interiorbonds:\n",
    "#    A[bond[0],bond[1]]=1\n",
    "#A[bond[1],bond[0]]=1\n",
    "\n",
    "# the triangles defining the connectivity data    \n",
    "#triangles=InputMesh.cells[0].data\n",
    "# The initial area, which we want to penalise deviation from\n",
    "#TargetArea=TotalArea(Pout_ij,triangles)\n",
    "\n",
    "for g0 in np.arange(g0start,g0end,g0step):\n",
    "    \n",
    "    print(\"Current g0\"+\"{0:0.1f}\".format(g0))\n",
    "    \n",
    "    # make the new preferred rest lengths of all the springs\n",
    "    interiorpairs=Pout_ij[interiorbonds]\n",
    "    interiorvecs = np.subtract(interiorpairs[:,0,:],interiorpairs[:,1,:])\n",
    "    InteriorBondRestLengths=np.linalg.norm(interiorvecs,axis=1)\n",
    "\n",
    "    edgepairs=Pout_ij[edgebonds]\n",
    "    edgevecs = np.subtract(edgepairs[:,0,:],edgepairs[:,1,:])\n",
    "    EdgeBondRestLengths=np.linalg.norm(edgevecs,axis=1)\n",
    "    # the important bit! Giving it the prestress\n",
    "    EdgeBondRestLengths= g0*EdgeBondRestLengths\n",
    "\n",
    "    r0_ij=np.concatenate((InteriorBondRestLengths,EdgeBondRestLengths))\n",
    "    \n",
    "\n",
    "    # minimize\n",
    "    history=[]\n",
    "    Pout_ij = opt.minimize(energy, Pout_ij.ravel()\n",
    "                           ,args=(A,r0_ij,angletriples,triangles,k,kd,theta0,B,TargetArea)\n",
    "                           #,callback=mycallback\n",
    "                           ,options={'disp': True}).x.reshape((-1, 3))\n",
    "   \n",
    "\n",
    "    # stuff to screen\n",
    "    print(\"Total Area:\" + \"{0:0.2f}\".format(vTotalArea(Pout_ij,triangles)))\n",
    "\n",
    "    # write the output \n",
    "    OutputMesh.points[:,0:2] = Pout_ij  \n",
    "    OutputMesh.point_data={\"g0\": np.repeat(g0,len(InputMesh.points))}   \n",
    "    \n",
    "    OutputMesh.write(DataFolder+RunFolder+RunName+\"g0_\"+\"{0:0.1f}\".format(g0)+\".vtk\",binary=True)  \n"
   ]
  },
  {
   "cell_type": "code",
   "execution_count": null,
   "metadata": {},
   "outputs": [],
   "source": [
    "def mycallback(xi):\n",
    "    counter=len(history)\n",
    "    history.append(xi)\n",
    "    tempP = xi.reshape((-1, 2))\n",
    "    \n",
    "    # stuff to screen\n",
    "    print(\"iteration:\"+\"{0:0.1f}\".format(counter)+\"Total Area:\" + \"{0:0.2f}\".format(vTotalArea(tempP,triangles)))\n",
    "   \n",
    "    #output for visualisation\n",
    "    OutputMesh.points[:,0:2] = tempP           \n",
    "    OutputMesh.write(DataFolder+RunFolder+RunName+\"TempOutput\"+\"Output\"+\"{0:0.1f}\".format(g0)+\"_\"+str(counter)+\".vtk\",binary=True)"
   ]
  }
 ],
 "metadata": {
  "kernelspec": {
   "display_name": "Python 3",
   "language": "python",
   "name": "python3"
  },
  "language_info": {
   "codemirror_mode": {
    "name": "ipython",
    "version": 3
   },
   "file_extension": ".py",
   "mimetype": "text/x-python",
   "name": "python",
   "nbconvert_exporter": "python",
   "pygments_lexer": "ipython3",
   "version": "3.8.3"
  }
 },
 "nbformat": 4,
 "nbformat_minor": 4
}
