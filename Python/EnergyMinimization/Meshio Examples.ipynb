{
 "cells": [
  {
   "cell_type": "code",
   "execution_count": 3,
   "metadata": {},
   "outputs": [],
   "source": [
    "import numpy as np\n",
    "import meshio"
   ]
  },
  {
   "cell_type": "markdown",
   "metadata": {},
   "source": [
    "Making a mesh with a triangle and some lines in it. The format of cells data seems to be a dict, with each type of data a (key:value) pair. the value is then a list of numpy arrays, with the first list doing the edges, then the triangles etc. \n",
    "\n",
    "i.e. when we say \"cell data\" you really have to define it over every cell in the mesh, whether thats 1D , 2D ... bleurgh."
   ]
  },
  {
   "cell_type": "code",
   "execution_count": 8,
   "metadata": {},
   "outputs": [],
   "source": [
    "points = np.array([\n",
    "    [0.0, 0.0, 0.0],\n",
    "    [0.0, 1.0, 0.0],\n",
    "    [0.0, 0.0, 1.0], ])\n",
    "\n",
    "cells=[ (\"line\", np.array([[0,1],[1,2]]) ),(\"triangle\", np.array([[0, 1, 2]]))]\n",
    "\n",
    "test_data1 = [np.array([2, 4]), np.array([6])]\n",
    "test_data2 = [np.array([1, 0]),np.array([1])]\n",
    "\n",
    "mymesh=meshio.Mesh(points, cells, {},{'test1':test_data1, 'test2':test_data2})\n",
    "\n",
    "#meshio.write_points_cells(\"test.vtu\", points, cells)\n",
    "meshio.write_points_cells(\"test.vtu\", points, cells, {},{'test1':test_data1, 'test2':test_data2})"
   ]
  },
  {
   "cell_type": "code",
   "execution_count": 5,
   "metadata": {},
   "outputs": [
    {
     "data": {
      "text/plain": [
       "<meshio mesh object>\n",
       "  Number of points: 3\n",
       "  Number of cells:\n",
       "    line: 2\n",
       "    triangle: 1\n",
       "  Cell data: test1, test2"
      ]
     },
     "execution_count": 5,
     "metadata": {},
     "output_type": "execute_result"
    }
   ],
   "source": [
    "mymesh"
   ]
  },
  {
   "cell_type": "code",
   "execution_count": 6,
   "metadata": {},
   "outputs": [
    {
     "data": {
      "text/plain": [
       "[CellBlock(type='line', data=array([[0, 1],\n",
       "        [1, 2]])),\n",
       " CellBlock(type='triangle', data=array([[0, 1, 2]]))]"
      ]
     },
     "execution_count": 6,
     "metadata": {},
     "output_type": "execute_result"
    }
   ],
   "source": [
    "mymesh.cells"
   ]
  },
  {
   "cell_type": "code",
   "execution_count": null,
   "metadata": {},
   "outputs": [],
   "source": [
    "# another way of oding things\n",
    "    {\n",
    "        InputMesh.cells[0].type: InputMesh.cells[0].data,\n",
    "        'triangle':np.array(boundarytris),\n",
    "        'line':np.array(edgebonds+bonds)\n",
    "    }"
   ]
  }
 ],
 "metadata": {
  "kernelspec": {
   "display_name": "Python 3",
   "language": "python",
   "name": "python3"
  },
  "language_info": {
   "codemirror_mode": {
    "name": "ipython",
    "version": 3
   },
   "file_extension": ".py",
   "mimetype": "text/x-python",
   "name": "python",
   "nbconvert_exporter": "python",
   "pygments_lexer": "ipython3",
   "version": "3.8.3"
  }
 },
 "nbformat": 4,
 "nbformat_minor": 4
}
