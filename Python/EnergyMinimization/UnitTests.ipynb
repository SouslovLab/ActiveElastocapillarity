{
 "cells": [
  {
   "cell_type": "code",
   "execution_count": 4,
   "metadata": {},
   "outputs": [],
   "source": [
    "import meshio\n",
    "import pygmsh\n",
    "import pygalmesh\n",
    "import numpy as np\n",
    "import copy\n",
    "from mshr import *\n",
    "from dolfin import *\n",
    "from collections import Counter\n",
    "import matplotlib\n",
    "import matplotlib.pyplot as plt\n",
    "import os\n",
    "import json\n",
    "import shutil\n",
    "import scipy.optimize as opt\n",
    "from EnergyMinimization import *\n",
    "from AnalysisFunctions import *\n",
    "import numba\n",
    "import timeit\n",
    "from timeit import default_timer as timer"
   ]
  },
  {
   "cell_type": "code",
   "execution_count": 5,
   "metadata": {},
   "outputs": [],
   "source": [
    "# root folder for data\n",
    "DataFolder=os.getcwd()+'/Data/Scratch'\n",
    "# Folder for the run data\""
   ]
  },
  {
   "cell_type": "markdown",
   "metadata": {},
   "source": [
    "# Testing the Mesh Generation"
   ]
  },
  {
   "cell_type": "markdown",
   "metadata": {},
   "source": [
    "Make a mesh with pygmsh, with some dummy values to play with:"
   ]
  },
  {
   "cell_type": "code",
   "execution_count": null,
   "metadata": {},
   "outputs": [],
   "source": [
    "with pygmsh.occ.Geometry() as geom:\n",
    "    geom.characteristic_length_max = 0.1\n",
    "    ellipsoid = geom.add_ball([0.0, 0.0, 0.0], 1)\n",
    "    InputMesh = geom.generate_mesh()"
   ]
  },
  {
   "cell_type": "code",
   "execution_count": null,
   "metadata": {},
   "outputs": [],
   "source": [
    "interiorbonds,edgebonds,boundarytris, bidxTotidx, tetras= MakeMeshData3D(InputMesh)\n",
    "bonds=np.concatenate((interiorbonds,edgebonds))\n",
    "orientedboundarytris=OrientTriangles(InputMesh.points,boundarytris,np.array([0,0,0]))"
   ]
  },
  {
   "cell_type": "code",
   "execution_count": null,
   "metadata": {},
   "outputs": [],
   "source": [
    "cells=[ (\"line\", bonds ), (\"triangle\",boundarytris ), (\"tetra\",tetras)]\n",
    "isbond=  np.ones(len(bonds))\n",
    "isedgebond= np.concatenate( ( np.zeros(len(interiorbonds)),np.ones(len(edgebonds)) ) )\n",
    "CellDataDict={'isedgebond':[isedgebond,np.zeros(len(boundarytris)),np.zeros(len(tetras))]\n",
    "              ,'isbond':[isbond,np.zeros(len(boundarytris)),np.zeros(len(tetras))]}\n",
    "\n",
    "OutputMesh=meshio.Mesh(InputMesh.points, cells, {},CellDataDict)\n",
    "OutputMesh.write(DataFolder+\"InitialMesh.vtk\",binary=True) "
   ]
  },
  {
   "cell_type": "markdown",
   "metadata": {},
   "source": [
    "## Testing the boundary triangle finding"
   ]
  },
  {
   "cell_type": "markdown",
   "metadata": {},
   "source": [
    "when pygmsh generates a sphere, it gives the tetrahedrons and boundary triangles. We can use this to check our bondary finding is working. First, make the ball. Now, compare the lists of boundary triangles that we find to those that pygmsh finds. We need to sort the pygmsh ones, as the vertices dont always appear in ascending order"
   ]
  },
  {
   "cell_type": "code",
   "execution_count": null,
   "metadata": {},
   "outputs": [],
   "source": [
    "np.array_equal(boundarytris,np.sort(InputMesh.cells[1].data,axis=1))"
   ]
  },
  {
   "cell_type": "code",
   "execution_count": null,
   "metadata": {},
   "outputs": [],
   "source": [
    "boundarytris.shape"
   ]
  },
  {
   "cell_type": "code",
   "execution_count": null,
   "metadata": {},
   "outputs": [],
   "source": [
    "InputMesh.cells[1].data.shape"
   ]
  },
  {
   "cell_type": "markdown",
   "metadata": {},
   "source": [
    "This seems a good verification that our boundary list is correct"
   ]
  },
  {
   "cell_type": "markdown",
   "metadata": {},
   "source": [
    "## Check total surface area"
   ]
  },
  {
   "cell_type": "markdown",
   "metadata": {},
   "source": [
    "For a sphere"
   ]
  },
  {
   "cell_type": "code",
   "execution_count": null,
   "metadata": {},
   "outputs": [],
   "source": [
    "vTotalArea3D(InputMesh.points,boundarytris)"
   ]
  },
  {
   "cell_type": "code",
   "execution_count": null,
   "metadata": {},
   "outputs": [],
   "source": [
    "4*np.pi"
   ]
  },
  {
   "cell_type": "markdown",
   "metadata": {},
   "source": [
    "## Check total volume"
   ]
  },
  {
   "cell_type": "markdown",
   "metadata": {},
   "source": [
    "Ive written two functions which do this, lets check both"
   ]
  },
  {
   "cell_type": "code",
   "execution_count": null,
   "metadata": {},
   "outputs": [],
   "source": [
    "Volume3D(InputMesh.points,orientedboundarytris,bidxTotidx).sum()"
   ]
  },
  {
   "cell_type": "code",
   "execution_count": null,
   "metadata": {},
   "outputs": [],
   "source": [
    "Volume3D_tetras(InputMesh.points,tetras).sum()"
   ]
  },
  {
   "cell_type": "code",
   "execution_count": null,
   "metadata": {
    "scrolled": true
   },
   "outputs": [],
   "source": [
    "(4/3)*np.pi"
   ]
  },
  {
   "cell_type": "markdown",
   "metadata": {},
   "source": [
    "# Physical Tests"
   ]
  },
  {
   "cell_type": "markdown",
   "metadata": {},
   "source": [
    "## Checking the Bending Modulus Energy"
   ]
  },
  {
   "cell_type": "markdown",
   "metadata": {},
   "source": [
    " As implemented, the bending modulus approximates the continuum limit $F= \\frac{\\kappa_c}{2}\\int dA(C_1+C_2-C_0)^2 + k_g \\int dA C_1C_2$ for a closed surface, where $C_1$ etc. are the principal curvatures. According to Boal and Rao 1992, the energy of a sphere  without a spontaneous curvature is $\\frac{4\\pi k_{rig}}{\\sqrt{3}}$, where $k_{rig}$ is the microscopic modulus.  This seems to be true for a triangulation by equilateral triangles. Lets check this:"
   ]
  },
  {
   "cell_type": "code",
   "execution_count": null,
   "metadata": {},
   "outputs": [],
   "source": [
    "theta_0=0\n",
    "kbend=1\n",
    "energies= BendingEnergy(InputMesh.points,orientedboundarytris,bidxTotidx,kbend)\n",
    "energies.sum()"
   ]
  },
  {
   "cell_type": "code",
   "execution_count": null,
   "metadata": {},
   "outputs": [],
   "source": [
    "(4/np.sqrt(3))*np.pi"
   ]
  },
  {
   "cell_type": "markdown",
   "metadata": {},
   "source": [
    "## Checking the Spring Energy"
   ]
  },
  {
   "cell_type": "markdown",
   "metadata": {},
   "source": [
    "A basic test: lets just make 2 springs (to check the vectorization), and confirm their behaviour. We are supposed to be implementing:\n",
    "\n",
    "$V(r,r_0) = k_{\\mathrm{neo}}\\left( \\frac{1-\\alpha}{2}\\left(\\frac{1}{\\lambda}+2\\lambda^2\\right)+\\frac{\\alpha}{2}\\left(\\frac{1}{\\lambda^2}+2\\lambda\\right) \\right)$, where $V=r/r_0$, and $k_{neo}=\\frac{r_0^2 k_{hook}}{3}$. Some tests:\n",
    "\n",
    "$V(1)= \\frac{1}{2} k_{hook} r_0^2=\\frac{3}{2} k_{neo}$, indepdent of the mat non."
   ]
  },
  {
   "cell_type": "code",
   "execution_count": null,
   "metadata": {},
   "outputs": [],
   "source": [
    "MatNon=1\n",
    "khook=1\n",
    "#rest lengths\n",
    "r0_ij=np.array([1,2])\n",
    "SpringEnergy=NeoHookean3D(r0_ij,r0_ij,khook,MatNon)\n",
    "print(SpringEnergy) "
   ]
  },
  {
   "cell_type": "code",
   "execution_count": null,
   "metadata": {},
   "outputs": [],
   "source": [
    "np.log(0.5)"
   ]
  },
  {
   "cell_type": "markdown",
   "metadata": {},
   "source": [
    "Lets do the same with our shifted energy:"
   ]
  },
  {
   "cell_type": "code",
   "execution_count": null,
   "metadata": {},
   "outputs": [],
   "source": [
    "MatNon=1\n",
    "khook=1\n",
    "#rest lengths\n",
    "r0_ij=np.array([1,2])\n",
    "SpringEnergy=NeoHookeanShifted(r0_ij,r0_ij,khook,MatNon)\n",
    "print(SpringEnergy)"
   ]
  },
  {
   "cell_type": "markdown",
   "metadata": {},
   "source": [
    "Plotting both energies:"
   ]
  },
  {
   "cell_type": "code",
   "execution_count": null,
   "metadata": {},
   "outputs": [],
   "source": [
    "lam=np.arange(0.1, 10, 0.01);\n",
    "MatNon=0.7\n",
    "khook=2\n",
    "\n",
    "Energy=NeoHookean3D(lam,1,khook,MatNon)\n",
    "plt.plot(lam,Energy)\n",
    "\n",
    "kneo_ij = (1**2)*khook/3 \n",
    "Energy=NeoHookeanShifted(lam,1,khook,MatNon)+1.5*kneo_ij\n",
    "plt.plot(lam,Energy)"
   ]
  },
  {
   "cell_type": "markdown",
   "metadata": {},
   "source": [
    "Plotting the energy: Pure Neohookean on a loglogplot. Expectation: Minimum at $(0,log(0.5)$=$(0,-0.693)$ Asmptotes to grad -1 and grad 2 in either limit.\n",
    "\n",
    "Pure MR: same minimum, but the opposite grad behaviours"
   ]
  },
  {
   "cell_type": "code",
   "execution_count": null,
   "metadata": {},
   "outputs": [],
   "source": [
    "lam=np.arange(0.1, 10, 0.01);\n",
    "MatNon=0\n",
    "khook=1\n",
    "Energy=NeoHookean3D(lam,1,khook,MatNon)\n",
    "plt.plot(np.log(lam),np.log(Energy))\n",
    "\n",
    "MatNon=1\n",
    "khook=1\n",
    "Energy=NeoHookean3D(lam,1,khook,MatNon)\n",
    "plt.plot(np.log(lam),np.log(Energy))"
   ]
  },
  {
   "cell_type": "code",
   "execution_count": null,
   "metadata": {},
   "outputs": [],
   "source": [
    "lam=10**10\n",
    "MatNon=0\n",
    "khook=1\n",
    "print(( np.log(NeoHookean3D(lam,1,khook,MatNon))-np.log(NeoHookean3D(1,1,khook,MatNon)) )/(np.log(lam)))\n",
    "lam=10**(-10)\n",
    "MatNon=0\n",
    "khook=1\n",
    "print(( np.log(NeoHookean3D(lam,1,khook,MatNon))-np.log(NeoHookean3D(1,1,khook,MatNon)) )/(np.log(lam)))\n"
   ]
  },
  {
   "cell_type": "code",
   "execution_count": null,
   "metadata": {},
   "outputs": [],
   "source": [
    "lam=10**10\n",
    "MatNon=1\n",
    "khook=1\n",
    "print(( np.log(NeoHookean3D(lam,1,khook,MatNon))-np.log(NeoHookean3D(1,1,khook,MatNon)) )/(np.log(lam)))\n",
    "lam=10**(-10)\n",
    "MatNon=1\n",
    "khook=1\n",
    "print(( np.log(NeoHookean3D(lam,1,khook,MatNon))-np.log(NeoHookean3D(1,1,khook,MatNon)) )/(np.log(lam)))\n"
   ]
  },
  {
   "cell_type": "code",
   "execution_count": null,
   "metadata": {},
   "outputs": [],
   "source": [
    "matplotlib.rcParams.update({'font.size': 20})\n",
    "lam=np.arange(0.5,2 , 0.01);\n",
    "MatNon=0\n",
    "khook=1\n",
    "Energy=NeoHookean3D(lam,1,khook,MatNon)\n",
    "plt.plot((lam),(Energy),linewidth=4.0)\n",
    "\n",
    "MatNon=1\n",
    "khook=1\n",
    "Energy=NeoHookean3D(lam,1,khook,MatNon)\n",
    "plt.plot((lam),(Energy),linewidth=4.0)\n",
    "\n",
    "plt.xlabel('$\\lambda$')\n",
    "plt.ylabel('F')\n",
    "plt.legend(['NH: $\\\\alpha/\\mu=0$','MR: $\\\\alpha/\\\\mu=1$'],prop={'size':20})\n",
    "plt.savefig(\"Energies.png\", bbox_inches='tight',dpi=400)"
   ]
  },
  {
   "cell_type": "code",
   "execution_count": null,
   "metadata": {},
   "outputs": [],
   "source": []
  },
  {
   "cell_type": "markdown",
   "metadata": {},
   "source": [
    "# Checking that the Numba versions of functions match the regular ones"
   ]
  },
  {
   "cell_type": "markdown",
   "metadata": {},
   "source": [
    "Lets generate a problem similar to our own:"
   ]
  },
  {
   "cell_type": "code",
   "execution_count": null,
   "metadata": {},
   "outputs": [],
   "source": [
    "# Target mesh size:\n",
    "target_a = 0.2\n",
    "# continuum bending modulus:\n",
    "kc=0.5\n",
    "# continuum shear modulus:\n",
    "mu=1\n",
    "# Energetic penalty for volume change\n",
    "B=100000\n",
    "# The Material Nonlinearity parameter, between 0 and 1\n",
    "MatNon=0.99\n",
    "# the spring prestress values \n",
    "g0=1\n",
    "\n",
    "# The microscopic values\n",
    "kbend=kc/target_a\n",
    "khook = mu\n",
    "theta0=0.2"
   ]
  },
  {
   "cell_type": "code",
   "execution_count": null,
   "metadata": {},
   "outputs": [],
   "source": [
    "with pygmsh.occ.Geometry() as geom:\n",
    "    geom.characteristic_length_max = target_a\n",
    "    ellipsoid = geom.add_ball([0.0, 0.0, 0.0], 1)\n",
    "    #ellipsoid = geom.add_ellipsoid([0.0, 0.0, 0.0], [0.95, 0.95, 1.05])\n",
    "    InputMesh = geom.generate_mesh()"
   ]
  },
  {
   "cell_type": "code",
   "execution_count": null,
   "metadata": {},
   "outputs": [],
   "source": [
    "interiorbonds,edgebonds,boundarytris, bidxTotidx, tetras= MakeMeshData3D(InputMesh)\n",
    "bonds=np.concatenate((interiorbonds,edgebonds))\n",
    "orientedboundarytris=OrientTriangles(InputMesh.points,boundarytris,np.array([0,0,0]))\n",
    "boundarytris=orientedboundarytris"
   ]
  },
  {
   "cell_type": "code",
   "execution_count": null,
   "metadata": {},
   "outputs": [],
   "source": [
    "# make the preferred rest lengths of the interior springs\n",
    "interiorpairs=InputMesh.points[interiorbonds]\n",
    "interiorvecs = np.subtract(interiorpairs[:,0,:],interiorpairs[:,1,:])\n",
    "InteriorBondRestLengths=np.linalg.norm(interiorvecs,axis=1)\n",
    "\n",
    "# make the preferred rest lengths of the edge springs. Initially have the at g0=1, but then\n",
    "#update them in the loop\n",
    "edgepairs=InputMesh.points[edgebonds]\n",
    "edgevecs = np.subtract(edgepairs[:,0,:],edgepairs[:,1,:])\n",
    "InitialEdgeBondRestLengths=np.linalg.norm(edgevecs,axis=1)\n",
    "\n",
    "# The volume constraint is simply that the target volume should be the initial volume\n",
    "TargetVolumes=Volume3D_tetras(InputMesh.points,tetras)\n",
    "\n",
    "P =InputMesh.points\n",
    "\n",
    " # the important bit! Giving it the prestress\n",
    "EdgeBondRestLengths= g0*InitialEdgeBondRestLengths\n",
    "r0_ij=np.concatenate((InteriorBondRestLengths,EdgeBondRestLengths))    \n",
    "   "
   ]
  },
  {
   "cell_type": "markdown",
   "metadata": {},
   "source": [
    "To test numerical equality, we can use numpy's testing module:\n",
    "https://numpy.org/doc/stable/reference/generated/numpy.testing.assert_allclose.html#numpy.testing.assert_allclose\n"
   ]
  },
  {
   "cell_type": "code",
   "execution_count": null,
   "metadata": {},
   "outputs": [],
   "source": [
    "x=Volume3D_tetras(P,tetras)\n",
    "Numbax=NumbaVolume3D_tetras_2(P,tetras)\n",
    "np.testing.assert_allclose(x,Numbax)"
   ]
  },
  {
   "cell_type": "code",
   "execution_count": null,
   "metadata": {},
   "outputs": [],
   "source": [
    "x=BendingEnergy(P,orientedboundarytris,bidxTotidx,kbend)\n",
    "Numbax=NumbaBendingEnergy_2(P,orientedboundarytris,bidxTotidx,kbend)\n",
    "np.testing.assert_allclose(x,Numbax)"
   ]
  },
  {
   "cell_type": "code",
   "execution_count": null,
   "metadata": {},
   "outputs": [],
   "source": [
    "x=energy3D(P,bonds,orientedboundarytris,bidxTotidx,tetras,r0_ij,khook,kbend,theta0,B,MatNon,TargetVolumes)\n",
    "Numbax=Numbaenergy3D(P,bonds,orientedboundarytris,bidxTotidx,tetras,r0_ij,khook,kbend,theta0,B,MatNon,TargetVolumes)\n",
    "np.testing.assert_allclose(x,Numbax)"
   ]
  },
  {
   "cell_type": "markdown",
   "metadata": {},
   "source": [
    "## Checking Timings"
   ]
  },
  {
   "cell_type": "markdown",
   "metadata": {},
   "source": [
    "## volume"
   ]
  },
  {
   "cell_type": "code",
   "execution_count": null,
   "metadata": {},
   "outputs": [],
   "source": [
    "start = timer()\n",
    "for i in range(0,5000):\n",
    "    x=Volume3D_tetras(P,tetras)\n",
    "end = timer()\n",
    "print(end-start)"
   ]
  },
  {
   "cell_type": "code",
   "execution_count": null,
   "metadata": {},
   "outputs": [],
   "source": [
    "# directly sum the triple product over all tetrahedra\n",
    "@jit(nopython=True)\n",
    "def NumbaVolume3D_tetras_2(P,tetras):\n",
    "    \n",
    "    Tot=np.zeros(len(tetras))\n",
    "    for i in range(len(tetras)):\n",
    "        \n",
    "        P0= P[tetras[i,0]]\n",
    "        P1= P[tetras[i,1]] \n",
    "        P2= P[tetras[i,2]] \n",
    "        P3= P[tetras[i,3]] \n",
    "              \n",
    "        t0x=P1[0]-P0[0]\n",
    "        t0y=P1[1]-P0[1]\n",
    "        t0z=P1[2]-P0[2]\n",
    "        \n",
    "        t1x=P2[0]-P0[0]\n",
    "        t1y=P2[1]-P0[1]\n",
    "        t1z=P2[2]-P0[2]\n",
    "        \n",
    "        t2x=P3[0]-P0[0]\n",
    "        t2y=P3[1]-P0[1]\n",
    "        t2z=P3[2]-P0[2]\n",
    "        \n",
    "        \n",
    "        t0ct1x = t0y*t1z- t0z*t1y\n",
    "        t0ct1y = t0z*t1x- t0x*t1z\n",
    "        t0ct1z = t0x*t1y- t0y*t1x\n",
    "        \n",
    "        t2dott0ct1=t2x*t0ct1x+t2y*t0ct1y+t2z*t0ct1z\n",
    "        \n",
    "        Tot[i]=np.abs(t2dott0ct1/6)\n",
    "      \n",
    "    return Tot"
   ]
  },
  {
   "cell_type": "code",
   "execution_count": null,
   "metadata": {},
   "outputs": [],
   "source": [
    "x=NumbaVolume3D_tetras_2(P,tetras)\n",
    "start = timer()\n",
    "for i in range(0,5000):\n",
    "    x=NumbaVolume3D_tetras_2(P,tetras)\n",
    "end = timer()\n",
    "print(end-start)"
   ]
  },
  {
   "cell_type": "markdown",
   "metadata": {},
   "source": [
    "## Bending"
   ]
  },
  {
   "cell_type": "code",
   "execution_count": null,
   "metadata": {},
   "outputs": [],
   "source": [
    "start = timer()\n",
    "for i in range(0,5000):\n",
    "    x=BendingEnergy(P,orientedboundarytris,bidxTotidx,kbend)\n",
    "end = timer()\n",
    "print(end-start)"
   ]
  },
  {
   "cell_type": "code",
   "execution_count": null,
   "metadata": {},
   "outputs": [],
   "source": [
    "x=NumbaBendingEnergy_2(P,orientedboundarytris,bidxTotidx,kbend)\n",
    "start = timer()\n",
    "for i in range(0,5000):\n",
    "    x=NumbaBendingEnergy_2(P,orientedboundarytris,bidxTotidx,kbend)\n",
    "end = timer()\n",
    "print(end-start)"
   ]
  },
  {
   "cell_type": "markdown",
   "metadata": {},
   "source": [
    "## Spring"
   ]
  },
  {
   "cell_type": "code",
   "execution_count": null,
   "metadata": {},
   "outputs": [],
   "source": [
    "start = timer()\n",
    "for i in range(0,5000):\n",
    "    x=NeoHookean3D(r0_ij,r0_ij,khook,MatNon).sum()   \n",
    "end = timer()\n",
    "print(end-start)"
   ]
  },
  {
   "cell_type": "code",
   "execution_count": null,
   "metadata": {},
   "outputs": [],
   "source": [
    "x=NumbaNeoHookean3D(r0_ij,r0_ij,khook,MatNon).sum()  \n",
    "start = timer()\n",
    "for i in range(0,5000):\n",
    "       x=NumbaNeoHookean3D(r0_ij,r0_ij,khook,MatNon).sum()  \n",
    "end = timer()\n",
    "print(end-start)"
   ]
  },
  {
   "cell_type": "markdown",
   "metadata": {},
   "source": [
    "## Making Spring rests"
   ]
  },
  {
   "cell_type": "code",
   "execution_count": null,
   "metadata": {},
   "outputs": [],
   "source": [
    "start = timer()\n",
    "for i in range(0,5000):\n",
    "    # We convert it to a matrix here.\n",
    "    P_ij = P.reshape((-1, 3))\n",
    "    # from the bond list, work out what the current bond lengths are:\n",
    "    AB=P_ij[bonds]\n",
    "    t1 = np.subtract(AB[:,0,:],AB[:,1,:])\n",
    "    r_ij=np.linalg.norm(t1,axis=1)\n",
    "end = timer()\n",
    "print(end-start)\n",
    "    "
   ]
  },
  {
   "cell_type": "code",
   "execution_count": null,
   "metadata": {},
   "outputs": [],
   "source": [
    "# We convert it to a matrix here.\n",
    "P_ij = P.reshape((-1, 3))\n",
    "r_ij=NumbaMakeBondLengths(P_ij,bonds)\n",
    "start = timer()\n",
    "for i in range(0,5000):\n",
    "    # We convert it to a matrix here.\n",
    "    P_ij = P.reshape((-1, 3))\n",
    "    r_ij=NumbaMakeBondLengths(P_ij,bonds)\n",
    "end = timer()\n",
    "print(end-start)"
   ]
  },
  {
   "cell_type": "code",
   "execution_count": null,
   "metadata": {},
   "outputs": [],
   "source": [
    "start = timer()\n",
    "for i in range(0,5000):\n",
    "    # We convert it to a matrix here.\n",
    "    P_ij = P.reshape((-1, 3))\n",
    "    # from the bond list, work out what the current bond lengths are:\n",
    "    AB=P_ij[bonds]\n",
    "    t1 = np.subtract(AB[:,0,:],AB[:,1,:])\n",
    "    r_ij=np.linalg.norm(t1,axis=1)\n",
    "end = timer()\n",
    "print(end-start)"
   ]
  },
  {
   "cell_type": "markdown",
   "metadata": {},
   "source": [
    "## Totals"
   ]
  },
  {
   "cell_type": "code",
   "execution_count": null,
   "metadata": {},
   "outputs": [],
   "source": [
    "start = timer()\n",
    "for i in range(0,5000):\n",
    "    x=energy3D(P,bonds,orientedboundarytris,bidxTotidx,tetras,r0_ij,khook,kbend,theta0,B,MatNon,TargetVolumes)\n",
    "end = timer()\n",
    "print(end-start)"
   ]
  },
  {
   "cell_type": "code",
   "execution_count": null,
   "metadata": {},
   "outputs": [],
   "source": [
    "Numbax=Numbaenergy3D(P,bonds,orientedboundarytris,bidxTotidx,tetras,r0_ij,khook,kbend,theta0,B,MatNon,TargetVolumes)\n",
    "start = timer()\n",
    "for i in range(0,5000):\n",
    "    Numbax=Numbaenergy3D(P,bonds,orientedboundarytris,bidxTotidx,tetras,r0_ij,khook,kbend,theta0,B,MatNon,TargetVolumes)\n",
    "end = timer()\n",
    "print(end-start)"
   ]
  },
  {
   "cell_type": "code",
   "execution_count": null,
   "metadata": {},
   "outputs": [],
   "source": [
    "## Energy Minimization"
   ]
  },
  {
   "cell_type": "code",
   "execution_count": null,
   "metadata": {},
   "outputs": [],
   "source": [
    "start = timer()\n",
    "opt.minimize(Numbaenergy3D, P.ravel()\n",
    "                            ,options={'gtol':1e-01,'disp': True}  \n",
    "                            ,args=(bonds\n",
    "                                  ,orientedboundarytris\n",
    "                                  ,bidxTotidx\n",
    "                                  ,tetras\n",
    "                                  ,r0_ij\n",
    "                                  ,khook\n",
    "                                  ,kbend\n",
    "                                  ,theta0\n",
    "                                  ,B\n",
    "                                  ,MatNon\n",
    "                                  ,TargetVolumes)\n",
    "                           ).x.reshape((-1, 3))\n",
    "end = timer()\n",
    "print(end-start)"
   ]
  },
  {
   "cell_type": "code",
   "execution_count": null,
   "metadata": {},
   "outputs": [],
   "source": [
    "start = timer()\n",
    "opt.minimize(energy3D, P.ravel()\n",
    "                            ,options={'gtol':1e-01,'disp': True}  \n",
    "                            ,args=(bonds\n",
    "                                  ,orientedboundarytris\n",
    "                                  ,bidxTotidx\n",
    "                                  ,tetras\n",
    "                                  ,r0_ij\n",
    "                                  ,khook\n",
    "                                  ,kbend\n",
    "                                  ,theta0\n",
    "                                  ,B\n",
    "                                  ,MatNon\n",
    "                                  ,TargetVolumes)\n",
    "                           ).x.reshape((-1, 3))\n",
    "end = timer()\n",
    "print(end-start)"
   ]
  },
  {
   "cell_type": "code",
   "execution_count": null,
   "metadata": {},
   "outputs": [],
   "source": [
    "x=NumbaNeoHookean3D(r0_ij,r0_ij,khook,MatNon).sum()  \n",
    "start = timer()\n",
    "for i in range(0,5000):\n",
    "       x=NumbaNeoHookean3D(r0_ij,r0_ij,khook,MatNon).sum()  \n",
    "end = timer()\n",
    "print(end-start)"
   ]
  },
  {
   "cell_type": "markdown",
   "metadata": {},
   "source": [
    "# Testing the ellipse distance function"
   ]
  },
  {
   "cell_type": "code",
   "execution_count": null,
   "metadata": {},
   "outputs": [],
   "source": [
    "import scipy.optimize as opt\n",
    "import numpy as np\n",
    "import matplotlib\n",
    "import matplotlib.pyplot as plt\n",
    "from numba import jit"
   ]
  },
  {
   "cell_type": "code",
   "execution_count": null,
   "metadata": {},
   "outputs": [],
   "source": [
    "def newton(f,Df,x0,epsilon,max_iter):\n",
    "    '''Approximate solution of f(x)=0 by Newton's method.\n",
    "\n",
    "    Parameters\n",
    "    ----------\n",
    "    f : function\n",
    "        Function for which we are searching for a solution f(x)=0.\n",
    "    Df : function\n",
    "        Derivative of f(x).\n",
    "    x0 : number\n",
    "        Initial guess for a solution f(x)=0.\n",
    "    epsilon : number\n",
    "        Stopping criteria is abs(f(x)) < epsilon.\n",
    "    max_iter : integer\n",
    "        Maximum number of iterations of Newton's method.\n",
    "\n",
    "    Returns\n",
    "    -------\n",
    "    xn : number\n",
    "        Implement Newton's method: compute the linear approximation\n",
    "        of f(x) at xn and find x intercept by the formula\n",
    "            x = xn - f(xn)/Df(xn)\n",
    "        Continue until abs(f(xn)) < epsilon and return xn.\n",
    "        If Df(xn) == 0, return None. If the number of iterations\n",
    "        exceeds max_iter, then return None.\n",
    "\n",
    "    Examples\n",
    "    --------\n",
    "    >>> f = lambda x: x**2 - x - 1\n",
    "    >>> Df = lambda x: 2*x - 1\n",
    "    >>> newton(f,Df,1,1e-8,10)\n",
    "    Found solution after 5 iterations.\n",
    "    1.618033988749989\n",
    "    '''\n",
    "    xn = x0\n",
    "    for n in range(0,max_iter):\n",
    "        fxn = f(xn)\n",
    "        if abs(fxn) < epsilon:\n",
    "            print('Found solution after',n,'iterations.')\n",
    "            return xn\n",
    "        Dfxn = Df(xn)\n",
    "        if Dfxn == 0:\n",
    "            print('Zero derivative. No solution found.')\n",
    "            return None\n",
    "        xn = xn - fxn/Dfxn\n",
    "    print('Exceeded maximum iterations. No solution found.')\n",
    "    return None"
   ]
  },
  {
   "cell_type": "code",
   "execution_count": null,
   "metadata": {},
   "outputs": [],
   "source": [
    "alpha=1\n",
    "beta=1\n",
    "R=1\n",
    "r0=np.array([0,0.5])\n",
    "f=lambda theta: (alpha**2-beta**2)*R*np.sin(theta)*np.cos(theta)- alpha*r0[0]*np.sin(theta)+beta*r0[1]*np.cos(theta)\n",
    "Df = lambda theta:  (alpha**2-beta**2)*R*(np.cos(theta)**2-np.sin(theta)**2)- alpha*r0[0]*np.cos(theta)-beta*r0[1]*np.sin(theta)\n",
    "x0=3\n",
    "epsilon=0.01\n",
    "max_iter=5\n",
    "newton(f,Df,x0,epsilon,max_iter)\n"
   ]
  },
  {
   "cell_type": "code",
   "execution_count": null,
   "metadata": {},
   "outputs": [],
   "source": [
    "@jit(nopython=True)\n",
    "def f(theta,r0,R,alpha,beta):\n",
    "    return (alpha**2-beta**2)*R*np.sin(theta)*np.cos(theta)- alpha*r0[0]*np.sin(theta)+beta*r0[1]*np.cos(theta)\n",
    "@jit(nopython=True)\n",
    "def Df(theta,r0,R,alpha,beta):\n",
    "    return (alpha**2-beta**2)*R*(np.cos(theta)**2-np.sin(theta)**2)- alpha*r0[0]*np.cos(theta)-beta*r0[1]*np.sin(theta)\n",
    "\n",
    "@jit(nopython=True)\n",
    "def DistanceToEllipse(r0,R,alpha,beta):\n",
    "    \n",
    "    # Initial guess\n",
    "    theta0=np.arctan2((alpha*r0[1]),(beta*r0[0]))\n",
    "\n",
    "    # run newtons method\n",
    "    max_iter=5\n",
    "    theta = theta0\n",
    "    for n in range(0,max_iter):\n",
    "        fxn = f(theta,r0,R,alpha,beta)\n",
    "        Dfxn = Df(theta,r0,R,alpha,beta)\n",
    "        theta = theta - fxn/Dfxn\n",
    "    \n",
    "    thetafinal=theta \n",
    "    \n",
    "    xellipse=R*alpha*np.cos(thetafinal)\n",
    "    yellipse=R*beta*np.sin(thetafinal)\n",
    "    \n",
    "    deltax= r0[0]-xellipse\n",
    "    deltay= r0[1]-yellipse\n",
    "    \n",
    "    return (thetafinal,xellipse,yellipse,np.sqrt(deltax**2+deltay**2))"
   ]
  },
  {
   "cell_type": "code",
   "execution_count": null,
   "metadata": {},
   "outputs": [],
   "source": [
    "start = timer()\n",
    "for i in range(0,5000):\n",
    "       x=DistanceToEllipse(r0,R,alpha,beta)\n",
    "end = timer()\n",
    "print(end-start)"
   ]
  },
  {
   "cell_type": "markdown",
   "metadata": {},
   "source": [
    "try out some different r0 values below. It seems to work okay!"
   ]
  },
  {
   "cell_type": "code",
   "execution_count": null,
   "metadata": {},
   "outputs": [],
   "source": [
    "R=1\n",
    "alpha=1.3\n",
    "beta=1.5\n",
    "theta = np.linspace(0.0, 2.0 * np.pi, 100)\n",
    "x = R*alpha*np.cos(theta)\n",
    "y = R*beta*np.sin(theta)\n",
    "plt.plot(x,y)\n",
    "plt.plot(0,0,'go')\n",
    "\n",
    "r0=np.array([0.6,0.4])\n",
    "plt.plot(r0[0],r0[1],'ro')\n",
    "\n",
    "(thetafinal, Ellipsex,Ellipsey, distance)=DistanceToEllipse(r0,R,alpha,beta)\n",
    "\n",
    "plt.plot(Ellipsex,Ellipsey,'bo')\n",
    "\n",
    "# draw a ray normal to the ellipse point:\n",
    "vx=-beta*np.cos(thetafinal)\n",
    "vy=-alpha*np.sin(thetafinal)\n",
    "\n",
    "plt.plot([Ellipsex,Ellipsex+vx],[Ellipsey,Ellipsey+vy])\n",
    "\n",
    "plt.axes().set_aspect('equal')\n",
    "\n",
    "print(distance)\n"
   ]
  },
  {
   "cell_type": "markdown",
   "metadata": {},
   "source": [
    "# Testing the ellipsoid fitting functions"
   ]
  },
  {
   "cell_type": "code",
   "execution_count": 6,
   "metadata": {
    "scrolled": true
   },
   "outputs": [
    {
     "data": {
      "text/plain": [
       "'/home/jackbinysh/Code/ActiveElastocapillarity/Python/EnergyMinimization/Data/Scratch'"
      ]
     },
     "execution_count": 6,
     "metadata": {},
     "output_type": "execute_result"
    }
   ],
   "source": [
    "DataFolder"
   ]
  },
  {
   "cell_type": "code",
   "execution_count": 7,
   "metadata": {},
   "outputs": [],
   "source": [
    "# Make the Mesh\n",
    "with pygmsh.occ.Geometry() as geom:\n",
    "    geom.characteristic_length_max = 0.1\n",
    "    #ellipsoid = geom.add_ball([0.0, 0.0, 0.0], 1)\n",
    "    ellipsoid = geom.add_ellipsoid([0.0, 0.0, 0.0], [0.95, 0.95, 1.0556])\n",
    "    InputMesh = geom.generate_mesh()\n",
    "    \n",
    "InputMesh.write(DataFolder+\"/\"+\"InitialMesh.vtk\",binary=True) \n",
    "\n",
    "interiorbonds,edgebonds,boundarytris, bidxTotidx, tetras= MakeMeshData3D(InputMesh)\n",
    "bonds=np.concatenate((interiorbonds,edgebonds))\n",
    "orientedboundarytris=OrientTriangles(InputMesh.points,boundarytris,np.array([0,0,0]))\n",
    "\n",
    "# Get the points on the boundary:\n",
    "BoundaryPoints= np.unique(edgebonds.ravel())"
   ]
  },
  {
   "cell_type": "code",
   "execution_count": 8,
   "metadata": {},
   "outputs": [],
   "source": [
    "P=InputMesh.points[BoundaryPoints]\n",
    "xx=P[:,0]\n",
    "yy=P[:,1]\n",
    "zz=P[:,2]\n",
    "\n",
    "center,axes,ec,inve,vec = ls_ellipsoid(xx,yy,zz)"
   ]
  },
  {
   "cell_type": "code",
   "execution_count": 9,
   "metadata": {},
   "outputs": [
    {
     "name": "stdout",
     "output_type": "stream",
     "text": [
      "[-8.27972800e-17  1.27304927e-16  4.63916972e-17]\n"
     ]
    }
   ],
   "source": [
    "print(center)"
   ]
  },
  {
   "cell_type": "code",
   "execution_count": 10,
   "metadata": {},
   "outputs": [
    {
     "name": "stdout",
     "output_type": "stream",
     "text": [
      "[0.95   0.95   1.0556]\n"
     ]
    }
   ],
   "source": [
    "print(axes)\n"
   ]
  },
  {
   "cell_type": "code",
   "execution_count": 13,
   "metadata": {},
   "outputs": [
    {
     "name": "stdout",
     "output_type": "stream",
     "text": [
      "[[ 1.00000000e+00  2.83199310e-01 -1.93375966e-17]\n",
      " [ 0.00000000e+00 -9.59061078e-01 -5.11802564e-17]\n",
      " [ 0.00000000e+00 -6.48845249e-17  1.00000000e+00]]\n"
     ]
    }
   ],
   "source": [
    "print(ec)"
   ]
  },
  {
   "cell_type": "code",
   "execution_count": 11,
   "metadata": {},
   "outputs": [
    {
     "name": "stdout",
     "output_type": "stream",
     "text": [
      "[[ 1.00000000e+00  2.95288086e-01  3.44505166e-17]\n",
      " [-0.00000000e+00 -1.04268646e+00 -5.33649603e-17]\n",
      " [ 0.00000000e+00 -6.76542156e-17  1.00000000e+00]]\n"
     ]
    }
   ],
   "source": [
    "print(inve)"
   ]
  },
  {
   "cell_type": "code",
   "execution_count": 12,
   "metadata": {},
   "outputs": [
    {
     "name": "stdout",
     "output_type": "stream",
     "text": [
      "[ 1.10803324e+00  1.10803324e+00  8.97431350e-01 -5.24537011e-16\n",
      "  8.14506882e-18  2.95987193e-17  1.83484277e-16 -2.82116182e-16\n",
      " -8.32667268e-17 -1.00000000e+00]\n"
     ]
    }
   ],
   "source": [
    "print(vec)"
   ]
  },
  {
   "cell_type": "markdown",
   "metadata": {},
   "source": [
    "This seems to work pretty well!"
   ]
  },
  {
   "cell_type": "code",
   "execution_count": null,
   "metadata": {},
   "outputs": [],
   "source": []
  }
 ],
 "metadata": {
  "kernelspec": {
   "display_name": "Python 3",
   "language": "python",
   "name": "python3"
  },
  "language_info": {
   "codemirror_mode": {
    "name": "ipython",
    "version": 3
   },
   "file_extension": ".py",
   "mimetype": "text/x-python",
   "name": "python",
   "nbconvert_exporter": "python",
   "pygments_lexer": "ipython3",
   "version": "3.8.3"
  }
 },
 "nbformat": 4,
 "nbformat_minor": 4
}
