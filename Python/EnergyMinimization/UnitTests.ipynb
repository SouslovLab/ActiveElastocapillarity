{
 "cells": [
  {
   "cell_type": "code",
   "execution_count": 1,
   "metadata": {},
   "outputs": [],
   "source": [
    "import meshio\n",
    "import pygmsh\n",
    "import pygalmesh\n",
    "import numpy as np\n",
    "import copy\n",
    "from mshr import *\n",
    "from dolfin import *\n",
    "from collections import Counter\n",
    "import matplotlib.pyplot as plt\n",
    "import os\n",
    "import json\n",
    "import shutil\n",
    "import scipy.optimize as opt\n",
    "from EnergyMinimization import *\n",
    "import numba\n",
    "from timeit import default_timer as timer"
   ]
  },
  {
   "cell_type": "code",
   "execution_count": null,
   "metadata": {},
   "outputs": [],
   "source": [
    "# root folder for data\n",
    "DataFolder=os.getcwd()+'/Data/Scratch'\n",
    "# Folder for the run data\""
   ]
  },
  {
   "cell_type": "markdown",
   "metadata": {},
   "source": [
    "# Testing the Mesh Generation"
   ]
  },
  {
   "cell_type": "markdown",
   "metadata": {},
   "source": [
    "Make a mesh with pygmsh, with some dummy values to play with:"
   ]
  },
  {
   "cell_type": "code",
   "execution_count": null,
   "metadata": {},
   "outputs": [],
   "source": [
    "with pygmsh.occ.Geometry() as geom:\n",
    "    geom.characteristic_length_max = 0.1\n",
    "    ellipsoid = geom.add_ball([0.0, 0.0, 0.0], 1)\n",
    "    InputMesh = geom.generate_mesh()"
   ]
  },
  {
   "cell_type": "code",
   "execution_count": null,
   "metadata": {},
   "outputs": [],
   "source": [
    "interiorbonds,edgebonds,boundarytris, bidxTotidx, tetras= MakeMeshData3D(InputMesh)\n",
    "bonds=np.concatenate((interiorbonds,edgebonds))\n",
    "orientedboundarytris=OrientTriangles(InputMesh.points,boundarytris,np.array([0,0,0]))"
   ]
  },
  {
   "cell_type": "code",
   "execution_count": null,
   "metadata": {},
   "outputs": [],
   "source": [
    "cells=[ (\"line\", bonds ), (\"triangle\",boundarytris ), (\"tetra\",tetras)]\n",
    "isbond=  np.ones(len(bonds))\n",
    "isedgebond= np.concatenate( ( np.zeros(len(interiorbonds)),np.ones(len(edgebonds)) ) )\n",
    "CellDataDict={'isedgebond':[isedgebond,np.zeros(len(boundarytris)),np.zeros(len(tetras))]\n",
    "              ,'isbond':[isbond,np.zeros(len(boundarytris)),np.zeros(len(tetras))]}\n",
    "\n",
    "OutputMesh=meshio.Mesh(InputMesh.points, cells, {},CellDataDict)\n",
    "OutputMesh.write(DataFolder+\"InitialMesh.vtk\",binary=True) "
   ]
  },
  {
   "cell_type": "markdown",
   "metadata": {},
   "source": [
    "## Testing the boundary triangle finding"
   ]
  },
  {
   "cell_type": "markdown",
   "metadata": {},
   "source": [
    "when pygmsh generates a sphere, it gives the tetrahedrons and boundary triangles. We can use this to check our bondary finding is working. First, make the ball. Now, compare the lists of boundary triangles that we find to those that pygmsh finds. We need to sort the pygmsh ones, as the vertices dont always appear in ascending order"
   ]
  },
  {
   "cell_type": "code",
   "execution_count": null,
   "metadata": {},
   "outputs": [],
   "source": [
    "np.array_equal(boundarytris,np.sort(InputMesh.cells[1].data,axis=1))"
   ]
  },
  {
   "cell_type": "code",
   "execution_count": null,
   "metadata": {},
   "outputs": [],
   "source": [
    "boundarytris.shape"
   ]
  },
  {
   "cell_type": "code",
   "execution_count": null,
   "metadata": {},
   "outputs": [],
   "source": [
    "InputMesh.cells[1].data.shape"
   ]
  },
  {
   "cell_type": "markdown",
   "metadata": {},
   "source": [
    "This seems a good verification that our boundary list is correct"
   ]
  },
  {
   "cell_type": "markdown",
   "metadata": {},
   "source": [
    "## Check total surface area"
   ]
  },
  {
   "cell_type": "markdown",
   "metadata": {},
   "source": [
    "For a sphere"
   ]
  },
  {
   "cell_type": "code",
   "execution_count": null,
   "metadata": {},
   "outputs": [],
   "source": [
    "vTotalArea3D(InputMesh.points,boundarytris)"
   ]
  },
  {
   "cell_type": "code",
   "execution_count": null,
   "metadata": {},
   "outputs": [],
   "source": [
    "4*np.pi"
   ]
  },
  {
   "cell_type": "markdown",
   "metadata": {},
   "source": [
    "## Check total volume"
   ]
  },
  {
   "cell_type": "markdown",
   "metadata": {},
   "source": [
    "Ive written two functions which do this, lets check both"
   ]
  },
  {
   "cell_type": "code",
   "execution_count": null,
   "metadata": {},
   "outputs": [],
   "source": [
    "Volume3D(InputMesh.points,orientedboundarytris,bidxTotidx).sum()"
   ]
  },
  {
   "cell_type": "code",
   "execution_count": null,
   "metadata": {},
   "outputs": [],
   "source": [
    "Volume3D_tetras(InputMesh.points,tetras).sum()"
   ]
  },
  {
   "cell_type": "code",
   "execution_count": null,
   "metadata": {
    "scrolled": true
   },
   "outputs": [],
   "source": [
    "(4/3)*np.pi"
   ]
  },
  {
   "cell_type": "markdown",
   "metadata": {},
   "source": [
    "# Physical Tests"
   ]
  },
  {
   "cell_type": "markdown",
   "metadata": {},
   "source": [
    "## Checking the Bending Modulus Energy"
   ]
  },
  {
   "cell_type": "markdown",
   "metadata": {},
   "source": [
    " As implemented, the bending modulus approximates the continuum limit $F= \\frac{\\kappa_c}{2}\\int dA(C_1+C_2-C_0)^2 + k_g \\int dA C_1C_2$ for a closed surface, where $C_1$ etc. are the principal curvatures. According to Boal and Rao 1992, the energy of a sphere  without a spontaneous curvature is $\\frac{4\\pi k_{rig}}{\\sqrt{3}}$, where $k_{rig}$ is the microscopic modulus.  This seems to be true for a triangulation by equilateral triangles. Lets check this:"
   ]
  },
  {
   "cell_type": "code",
   "execution_count": null,
   "metadata": {},
   "outputs": [],
   "source": [
    "theta_0=0\n",
    "kbend=1\n",
    "energies= BendingEnergy(InputMesh.points,orientedboundarytris,bidxTotidx,kbend)\n",
    "energies.sum()"
   ]
  },
  {
   "cell_type": "code",
   "execution_count": null,
   "metadata": {},
   "outputs": [],
   "source": [
    "(4/np.sqrt(3))*np.pi"
   ]
  },
  {
   "cell_type": "markdown",
   "metadata": {},
   "source": [
    "## Checking the Spring Energy"
   ]
  },
  {
   "cell_type": "markdown",
   "metadata": {},
   "source": [
    "A basic test: lets just make 2 springs (to check the vectorization), and confirm their behaviour. We are supposed to be implementing:\n",
    "\n",
    "$V(r,r_0) = k_{\\mathrm{neo}}\\left( \\frac{1-\\alpha}{2}\\left(\\frac{1}{\\lambda}+2\\lambda^2\\right)+\\frac{\\alpha}{2}\\left(\\frac{1}{\\lambda^2}+2\\lambda\\right) \\right)$, where $V=r/r_0$, and $k_{neo}=\\frac{r_0^2 k_{hook}}{3}$. Some tests:\n",
    "\n",
    "$V(1)= \\frac{1}{2} k_{hook} r_0^2$, indepdent of the mat non."
   ]
  },
  {
   "cell_type": "code",
   "execution_count": null,
   "metadata": {},
   "outputs": [],
   "source": [
    "MatNon=1\n",
    "khook=1\n",
    "#rest lengths\n",
    "r0_ij=np.array([1,2])\n",
    "SpringEnergy=NeoHookean3D(r0_ij,r0_ij,khook,MatNon)\n",
    "print(SpringEnergy) "
   ]
  },
  {
   "cell_type": "code",
   "execution_count": null,
   "metadata": {},
   "outputs": [],
   "source": [
    "np.log(0.5)"
   ]
  },
  {
   "cell_type": "markdown",
   "metadata": {},
   "source": [
    "Plotting the energy: Pure Neohookean on a loglogplot. Expectation: Minimum at $(0,log(0.5)$=$(0,-0.693)$ Asmptotes to grad -1 and grad 2 in either limit.\n",
    "\n",
    "Pure MR: same minimum, but the opposite grad behaviours"
   ]
  },
  {
   "cell_type": "code",
   "execution_count": null,
   "metadata": {},
   "outputs": [],
   "source": [
    "lam=np.arange(0.1, 10, 0.01);\n",
    "MatNon=0\n",
    "khook=1\n",
    "Energy=NeoHookean3D(lam,1,khook,MatNon)\n",
    "plt.plot(np.log(lam),np.log(Energy))\n",
    "\n",
    "MatNon=1\n",
    "khook=1\n",
    "Energy=NeoHookean3D(lam,1,khook,MatNon)\n",
    "plt.plot(np.log(lam),np.log(Energy))"
   ]
  },
  {
   "cell_type": "code",
   "execution_count": null,
   "metadata": {},
   "outputs": [],
   "source": [
    "lam=10**10\n",
    "MatNon=0\n",
    "khook=1\n",
    "print(( np.log(NeoHookean3D(lam,1,khook,MatNon))-np.log(NeoHookean3D(1,1,khook,MatNon)) )/(np.log(lam)))\n",
    "lam=10**(-10)\n",
    "MatNon=0\n",
    "khook=1\n",
    "print(( np.log(NeoHookean3D(lam,1,khook,MatNon))-np.log(NeoHookean3D(1,1,khook,MatNon)) )/(np.log(lam)))\n"
   ]
  },
  {
   "cell_type": "code",
   "execution_count": null,
   "metadata": {},
   "outputs": [],
   "source": [
    "lam=10**10\n",
    "MatNon=1\n",
    "khook=1\n",
    "print(( np.log(NeoHookean3D(lam,1,khook,MatNon))-np.log(NeoHookean3D(1,1,khook,MatNon)) )/(np.log(lam)))\n",
    "lam=10**(-10)\n",
    "MatNon=1\n",
    "khook=1\n",
    "print(( np.log(NeoHookean3D(lam,1,khook,MatNon))-np.log(NeoHookean3D(1,1,khook,MatNon)) )/(np.log(lam)))\n"
   ]
  },
  {
   "cell_type": "markdown",
   "metadata": {},
   "source": [
    "# Checking that the Numba versions of functions match the regular ones"
   ]
  },
  {
   "cell_type": "markdown",
   "metadata": {},
   "source": [
    "Lets generate a problem similar to our own:"
   ]
  },
  {
   "cell_type": "code",
   "execution_count": 314,
   "metadata": {},
   "outputs": [],
   "source": [
    "# Target mesh size:\n",
    "target_a = 0.2\n",
    "# continuum bending modulus:\n",
    "kc=0.5\n",
    "# continuum shear modulus:\n",
    "mu=1\n",
    "# Energetic penalty for volume change\n",
    "B=100000\n",
    "# The Material Nonlinearity parameter, between 0 and 1\n",
    "MatNon=0.99\n",
    "# the spring prestress values \n",
    "g0=1\n",
    "\n",
    "# The microscopic values\n",
    "kbend=kc/target_a\n",
    "khook = mu\n",
    "theta0=0.2"
   ]
  },
  {
   "cell_type": "code",
   "execution_count": 315,
   "metadata": {},
   "outputs": [
    {
     "name": "stderr",
     "output_type": "stream",
     "text": [
      "/home/jackbinysh/miniconda3/lib/python3.8/site-packages/numpy/ctypeslib.py:521: RuntimeWarning: A builtin ctypes object gave a PEP3118 format string that does not match its itemsize, so a best-guess will be made of the data type. Newer versions of python may behave correctly.\n",
      "  return array(obj, copy=False)\n"
     ]
    }
   ],
   "source": [
    "with pygmsh.occ.Geometry() as geom:\n",
    "    geom.characteristic_length_max = target_a\n",
    "    ellipsoid = geom.add_ball([0.0, 0.0, 0.0], 1)\n",
    "    #ellipsoid = geom.add_ellipsoid([0.0, 0.0, 0.0], [0.95, 0.95, 1.05])\n",
    "    InputMesh = geom.generate_mesh()"
   ]
  },
  {
   "cell_type": "code",
   "execution_count": 316,
   "metadata": {},
   "outputs": [],
   "source": [
    "interiorbonds,edgebonds,boundarytris, bidxTotidx, tetras= MakeMeshData3D(InputMesh)\n",
    "bonds=np.concatenate((interiorbonds,edgebonds))\n",
    "orientedboundarytris=OrientTriangles(InputMesh.points,boundarytris,np.array([0,0,0]))\n",
    "boundarytris=orientedboundarytris"
   ]
  },
  {
   "cell_type": "code",
   "execution_count": 317,
   "metadata": {},
   "outputs": [],
   "source": [
    "# make the preferred rest lengths of the interior springs\n",
    "interiorpairs=InputMesh.points[interiorbonds]\n",
    "interiorvecs = np.subtract(interiorpairs[:,0,:],interiorpairs[:,1,:])\n",
    "InteriorBondRestLengths=np.linalg.norm(interiorvecs,axis=1)\n",
    "\n",
    "# make the preferred rest lengths of the edge springs. Initially have the at g0=1, but then\n",
    "#update them in the loop\n",
    "edgepairs=InputMesh.points[edgebonds]\n",
    "edgevecs = np.subtract(edgepairs[:,0,:],edgepairs[:,1,:])\n",
    "InitialEdgeBondRestLengths=np.linalg.norm(edgevecs,axis=1)\n",
    "\n",
    "# The volume constraint is simply that the target volume should be the initial volume\n",
    "TargetVolumes=Volume3D_tetras(InputMesh.points,tetras)\n",
    "\n",
    "P =InputMesh.points\n",
    "\n",
    " # the important bit! Giving it the prestress\n",
    "EdgeBondRestLengths= g0*InitialEdgeBondRestLengths\n",
    "r0_ij=np.concatenate((InteriorBondRestLengths,EdgeBondRestLengths))    \n",
    "   "
   ]
  },
  {
   "cell_type": "markdown",
   "metadata": {},
   "source": [
    "To test numerical equality, we can use numpy's testing module:\n",
    "https://numpy.org/doc/stable/reference/generated/numpy.testing.assert_allclose.html#numpy.testing.assert_allclose\n"
   ]
  },
  {
   "cell_type": "code",
   "execution_count": 399,
   "metadata": {},
   "outputs": [],
   "source": [
    "x=Volume3D_tetras(P,tetras)\n",
    "Numbax=NumbaVolume3D_tetras2(P,tetras)\n",
    "np.testing.assert_allclose(x,Numbax)"
   ]
  },
  {
   "cell_type": "code",
   "execution_count": 400,
   "metadata": {},
   "outputs": [],
   "source": [
    "x=BendingEnergy(P,orientedboundarytris,bidxTotidx,kbend)\n",
    "Numbax=NumbaBendingEnergy_2(P,orientedboundarytris,bidxTotidx,kbend)\n",
    "np.testing.assert_allclose(x,Numbax)"
   ]
  },
  {
   "cell_type": "code",
   "execution_count": 401,
   "metadata": {},
   "outputs": [],
   "source": [
    "x=energy3D(P,bonds,orientedboundarytris,bidxTotidx,tetras,r0_ij,khook,kbend,theta0,B,MatNon,TargetVolumes)\n",
    "Numbax=Numbaenergy3D(P,bonds,orientedboundarytris,bidxTotidx,tetras,r0_ij,khook,kbend,theta0,B,MatNon,TargetVolumes)\n",
    "np.testing.assert_allclose(x,Numbax)"
   ]
  },
  {
   "cell_type": "markdown",
   "metadata": {},
   "source": [
    "## Checking Timings"
   ]
  },
  {
   "cell_type": "markdown",
   "metadata": {},
   "source": [
    "## volume"
   ]
  },
  {
   "cell_type": "code",
   "execution_count": 334,
   "metadata": {},
   "outputs": [
    {
     "name": "stdout",
     "output_type": "stream",
     "text": [
      "2.7295237090438604\n"
     ]
    }
   ],
   "source": [
    "start = timer()\n",
    "for i in range(0,5000):\n",
    "    x=Volume3D_tetras(P,tetras)\n",
    "end = timer()\n",
    "print(end-start)"
   ]
  },
  {
   "cell_type": "code",
   "execution_count": 336,
   "metadata": {},
   "outputs": [
    {
     "name": "stdout",
     "output_type": "stream",
     "text": [
      "0.11819196603028104\n"
     ]
    }
   ],
   "source": [
    "start = timer()\n",
    "for i in range(0,5000):\n",
    "    x=NumbaVolume3D_tetras2(P,tetras)\n",
    "end = timer()\n",
    "print(end-start)"
   ]
  },
  {
   "cell_type": "markdown",
   "metadata": {},
   "source": [
    "## Bending"
   ]
  },
  {
   "cell_type": "code",
   "execution_count": 342,
   "metadata": {},
   "outputs": [
    {
     "name": "stdout",
     "output_type": "stream",
     "text": [
      "1.5611877040355466\n"
     ]
    }
   ],
   "source": [
    "start = timer()\n",
    "for i in range(0,5000):\n",
    "    x=BendingEnergy(P,orientedboundarytris,bidxTotidx,kbend)\n",
    "end = timer()\n",
    "print(end-start)"
   ]
  },
  {
   "cell_type": "code",
   "execution_count": 343,
   "metadata": {},
   "outputs": [
    {
     "name": "stdout",
     "output_type": "stream",
     "text": [
      "0.11201577400788665\n"
     ]
    }
   ],
   "source": [
    "start = timer()\n",
    "for i in range(0,5000):\n",
    "    x=NumbaBendingEnergy_2(P,orientedboundarytris,bidxTotidx,kbend)\n",
    "end = timer()\n",
    "print(end-start)"
   ]
  },
  {
   "cell_type": "markdown",
   "metadata": {},
   "source": [
    "## Spring"
   ]
  },
  {
   "cell_type": "code",
   "execution_count": 347,
   "metadata": {},
   "outputs": [
    {
     "name": "stdout",
     "output_type": "stream",
     "text": [
      "0.3812154090264812\n"
     ]
    }
   ],
   "source": [
    "start = timer()\n",
    "for i in range(0,5000):\n",
    "    x=NeoHookean3D(r0_ij,r0_ij,khook,MatNon).sum()   \n",
    "end = timer()\n",
    "print(end-start)"
   ]
  },
  {
   "cell_type": "code",
   "execution_count": 351,
   "metadata": {},
   "outputs": [
    {
     "name": "stdout",
     "output_type": "stream",
     "text": [
      "0.22692841500975192\n"
     ]
    }
   ],
   "source": [
    "start = timer()\n",
    "for i in range(0,5000):\n",
    "       x=NumbaNeoHookean3D(r0_ij,r0_ij,khook,MatNon).sum()  \n",
    "end = timer()\n",
    "print(end-start)"
   ]
  },
  {
   "cell_type": "markdown",
   "metadata": {},
   "source": [
    "## Making Spring rests"
   ]
  },
  {
   "cell_type": "code",
   "execution_count": 387,
   "metadata": {},
   "outputs": [
    {
     "name": "stdout",
     "output_type": "stream",
     "text": [
      "1.1643971190205775\n"
     ]
    }
   ],
   "source": [
    "start = timer()\n",
    "for i in range(0,5000):\n",
    "    # We convert it to a matrix here.\n",
    "    P_ij = P.reshape((-1, 3))\n",
    "    # from the bond list, work out what the current bond lengths are:\n",
    "    AB=P_ij[bonds]\n",
    "    t1 = np.subtract(AB[:,0,:],AB[:,1,:])\n",
    "    r_ij=np.linalg.norm(t1,axis=1)\n",
    "end = timer()\n",
    "print(end-start)\n",
    "    "
   ]
  },
  {
   "cell_type": "code",
   "execution_count": 389,
   "metadata": {},
   "outputs": [
    {
     "name": "stdout",
     "output_type": "stream",
     "text": [
      "0.10460914496798068\n"
     ]
    }
   ],
   "source": [
    "start = timer()\n",
    "for i in range(0,5000):\n",
    "    # We convert it to a matrix here.\n",
    "    P_ij = P.reshape((-1, 3))\n",
    "    r_ij=NumbaMakeBondLengths(P_ij,bonds)\n",
    "end = timer()\n",
    "print(end-start)"
   ]
  },
  {
   "cell_type": "markdown",
   "metadata": {},
   "source": [
    "## Totals"
   ]
  },
  {
   "cell_type": "code",
   "execution_count": 392,
   "metadata": {},
   "outputs": [
    {
     "name": "stdout",
     "output_type": "stream",
     "text": [
      "6.678922072984278\n"
     ]
    }
   ],
   "source": [
    "start = timer()\n",
    "for i in range(0,5000):\n",
    "    x=energy3D(P,bonds,orientedboundarytris,bidxTotidx,tetras,r0_ij,khook,kbend,theta0,B,MatNon,TargetVolumes)\n",
    "end = timer()\n",
    "print(end-start)"
   ]
  },
  {
   "cell_type": "code",
   "execution_count": 397,
   "metadata": {},
   "outputs": [
    {
     "name": "stdout",
     "output_type": "stream",
     "text": [
      "0.5784559330204502\n"
     ]
    }
   ],
   "source": [
    "start = timer()\n",
    "for i in range(0,5000):\n",
    "    Numbax=Numbaenergy3D(P,bonds,orientedboundarytris,bidxTotidx,tetras,r0_ij,khook,kbend,theta0,B,MatNon,TargetVolumes)\n",
    "end = timer()\n",
    "print(end-start)"
   ]
  },
  {
   "cell_type": "code",
   "execution_count": null,
   "metadata": {},
   "outputs": [],
   "source": []
  }
 ],
 "metadata": {
  "kernelspec": {
   "display_name": "Python 3",
   "language": "python",
   "name": "python3"
  },
  "language_info": {
   "codemirror_mode": {
    "name": "ipython",
    "version": 3
   },
   "file_extension": ".py",
   "mimetype": "text/x-python",
   "name": "python",
   "nbconvert_exporter": "python",
   "pygments_lexer": "ipython3",
   "version": "3.8.3"
  }
 },
 "nbformat": 4,
 "nbformat_minor": 4
}
