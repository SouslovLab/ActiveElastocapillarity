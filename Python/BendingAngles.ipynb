{
 "cells": [
  {
   "cell_type": "code",
   "execution_count": 110,
   "metadata": {},
   "outputs": [],
   "source": [
    "import pygmsh\n",
    "import meshio\n",
    "import pygalmesh\n",
    "import hoomd\n",
    "import hoomd.md\n",
    "import numpy as np\n",
    "import copy"
   ]
  },
  {
   "cell_type": "markdown",
   "metadata": {},
   "source": [
    "# Make a basic mesh"
   ]
  },
  {
   "cell_type": "code",
   "execution_count": 111,
   "metadata": {},
   "outputs": [],
   "source": [
    "points = np.array([[-1.0, 0.1, 0.0],[0.0, 0.0, 0.0], [1.0, 0.1, 0.0]])\n",
    "Npts=len(points)\n",
    "cells = [(\"line\", np.array([[0, 1],[1, 2]]))]\n",
    "mesh=meshio.Mesh(points,cells)\n",
    "NBonds=len(mesh.cells[0].data)\n",
    "bondindices = list(range(0,NBonds))\n",
    "bonds=mesh.cells[0].data\n",
    "\n",
    "mesh = meshio.Mesh(points, cells)\n",
    "Outputmesh=copy.deepcopy(mesh)\n",
    "meshio.write(\"line.vtk\",mesh)\n",
    "\n",
    "angletriples=[0,1,2]"
   ]
  },
  {
   "cell_type": "markdown",
   "metadata": {},
   "source": [
    " ## Initialising the simulation "
   ]
  },
  {
   "cell_type": "code",
   "execution_count": 112,
   "metadata": {},
   "outputs": [],
   "source": [
    "hoomd.context.initialize(\"\");"
   ]
  },
  {
   "cell_type": "markdown",
   "metadata": {},
   "source": [
    "Define the snapshot. We will have a unique bond id for every bond in the system, as they will all have different rest lengths. We also want to make a distinction between surface and bulk bonds."
   ]
  },
  {
   "cell_type": "code",
   "execution_count": 113,
   "metadata": {},
   "outputs": [],
   "source": [
    "snapshot = hoomd.data.make_snapshot(N=Npts\n",
    "                                    ,box=hoomd.data.boxdim(Lx=200, Ly=200,dimensions=2)\n",
    "                                    ,particle_types=['A']\n",
    "                                    ,bond_types=[str(i) for i in  bondindices]\n",
    "                                    ,angle_types=['0']\n",
    "                                   );"
   ]
  },
  {
   "cell_type": "markdown",
   "metadata": {},
   "source": [
    "Read in the points, bonds and angles"
   ]
  },
  {
   "cell_type": "code",
   "execution_count": 114,
   "metadata": {},
   "outputs": [],
   "source": [
    "# points\n",
    "snapshot.particles.position[:] = mesh.points;\n",
    "snapshot.particles.typeid[0:Npts]=0\n",
    "# bonds\n",
    "snapshot.bonds.resize(NBonds)\n",
    "snapshot.bonds.group[:] = bonds\n",
    "snapshot.bonds.typeid[:] =[0,1]\n",
    "#angle triples\n",
    "snapshot.angles.resize(1)\n",
    "snapshot.angles.group[:] = angletriples\n",
    "snapshot.angles.typeid[:] =0"
   ]
  },
  {
   "cell_type": "code",
   "execution_count": 115,
   "metadata": {},
   "outputs": [
    {
     "name": "stdout",
     "output_type": "stream",
     "text": [
      "notice(2): Group \"all\" created containing 3 particles\n"
     ]
    }
   ],
   "source": [
    "system=hoomd.init.read_snapshot(snapshot);"
   ]
  },
  {
   "cell_type": "markdown",
   "metadata": {},
   "source": [
    "Right, lets define the bond type and parameters for each bond"
   ]
  },
  {
   "cell_type": "code",
   "execution_count": 116,
   "metadata": {},
   "outputs": [],
   "source": [
    "harmonic = hoomd.md.bond.harmonic();\n",
    "\n",
    "for i in snapshot.bonds.typeid:\n",
    "    p1,p2 = snapshot.bonds.group[i]\n",
    "    \n",
    "    restlength=np.linalg.norm(mesh.points[p2] - mesh.points[p1])\n",
    "    harmonic.bond_coeff.set(str(i), k=100, r0=restlength);\n",
    "\n",
    "\n",
    "angle = hoomd.md.angle.harmonic();\n",
    "angle.angle_coeff.set('0', k=1, t0=np.pi);"
   ]
  },
  {
   "cell_type": "markdown",
   "metadata": {},
   "source": [
    "Define the integrator. In this case, a langevin dynamics"
   ]
  },
  {
   "cell_type": "code",
   "execution_count": 117,
   "metadata": {},
   "outputs": [],
   "source": [
    "hoomd.md.integrate.mode_standard(dt=0.1);\n",
    "all = hoomd.group.all();\n",
    "integrator = hoomd.md.integrate.nve(group=all);"
   ]
  },
  {
   "cell_type": "markdown",
   "metadata": {},
   "source": [
    "Define a callback, which we want run periodically"
   ]
  },
  {
   "cell_type": "code",
   "execution_count": 118,
   "metadata": {},
   "outputs": [],
   "source": [
    "class WritePositions:\n",
    "    def __init__(self, system):\n",
    "        self.system = system;\n",
    "    def __call__(self, timestep):\n",
    "        snap = self.system.take_snapshot();\n",
    "        Outputmesh.points = snap.particles.position\n",
    "        Outputmesh.write(\"Data/Test/Bond\"+str(timestep)+\".vtk\")\n",
    "        \n",
    "hoomd.analyze.callback(callback=WritePositions(system), period=1);"
   ]
  },
  {
   "cell_type": "markdown",
   "metadata": {},
   "source": [
    "# Run the simulation"
   ]
  },
  {
   "cell_type": "code",
   "execution_count": 119,
   "metadata": {},
   "outputs": [
    {
     "name": "stdout",
     "output_type": "stream",
     "text": [
      "** starting run **\n",
      "Time 00:00:04 | Step 10000 / 10000 | TPS 2435.83 | ETA 00:00:00\n",
      "Average TPS: 2435.35\n",
      "---------\n",
      "** run complete **\n"
     ]
    }
   ],
   "source": [
    "hoomd.run(10000);"
   ]
  },
  {
   "cell_type": "code",
   "execution_count": 120,
   "metadata": {},
   "outputs": [],
   "source": [
    "OutputSnapshot = system.take_snapshot(bonds=True)"
   ]
  },
  {
   "cell_type": "code",
   "execution_count": 121,
   "metadata": {},
   "outputs": [
    {
     "name": "stdout",
     "output_type": "stream",
     "text": [
      "typeid       : 1\n",
      "a            : 1\n",
      "b            : 2\n",
      "type         : 1\n",
      "\n"
     ]
    }
   ],
   "source": [
    "print(system.bonds[1])"
   ]
  },
  {
   "cell_type": "code",
   "execution_count": 122,
   "metadata": {},
   "outputs": [
    {
     "data": {
      "text/plain": [
       "['__class__',\n",
       " '__delattr__',\n",
       " '__delitem__',\n",
       " '__dict__',\n",
       " '__dir__',\n",
       " '__doc__',\n",
       " '__eq__',\n",
       " '__format__',\n",
       " '__ge__',\n",
       " '__getattribute__',\n",
       " '__getitem__',\n",
       " '__gt__',\n",
       " '__hash__',\n",
       " '__init__',\n",
       " '__init_subclass__',\n",
       " '__iter__',\n",
       " '__le__',\n",
       " '__len__',\n",
       " '__lt__',\n",
       " '__module__',\n",
       " '__ne__',\n",
       " '__new__',\n",
       " '__reduce__',\n",
       " '__reduce_ex__',\n",
       " '__repr__',\n",
       " '__setattr__',\n",
       " '__setitem__',\n",
       " '__sizeof__',\n",
       " '__str__',\n",
       " '__subclasshook__',\n",
       " '__weakref__',\n",
       " 'adata',\n",
       " 'add',\n",
       " 'angle_data_iterator',\n",
       " 'get',\n",
       " 'get_metadata',\n",
       " 'metadata_fields',\n",
       " 'remove']"
      ]
     },
     "execution_count": 122,
     "metadata": {},
     "output_type": "execute_result"
    }
   ],
   "source": [
    "dir(system.angles)"
   ]
  },
  {
   "cell_type": "code",
   "execution_count": 123,
   "metadata": {},
   "outputs": [
    {
     "name": "stdout",
     "output_type": "stream",
     "text": [
      "tag          : 0\n",
      "typeid       : 0\n",
      "a            : 0\n",
      "b            : 1\n",
      "c            : 2\n",
      "type         : 0\n",
      "\n"
     ]
    }
   ],
   "source": [
    "print(system.angles[0])"
   ]
  },
  {
   "cell_type": "code",
   "execution_count": 124,
   "metadata": {},
   "outputs": [
    {
     "name": "stdout",
     "output_type": "stream",
     "text": [
      "Angle Data for 1 angles of 1 typeid(s)\n"
     ]
    }
   ],
   "source": [
    "print(system.angles)"
   ]
  },
  {
   "cell_type": "code",
   "execution_count": null,
   "metadata": {},
   "outputs": [],
   "source": []
  }
 ],
 "metadata": {
  "kernelspec": {
   "display_name": "Python 3",
   "language": "python",
   "name": "python3"
  },
  "language_info": {
   "codemirror_mode": {
    "name": "ipython",
    "version": 3
   },
   "file_extension": ".py",
   "mimetype": "text/x-python",
   "name": "python",
   "nbconvert_exporter": "python",
   "pygments_lexer": "ipython3",
   "version": "3.8.3"
  }
 },
 "nbformat": 4,
 "nbformat_minor": 2
}
